{
 "cells": [
  {
   "cell_type": "code",
   "execution_count": null,
   "metadata": {
    "collapsed": false
   },
   "outputs": [],
   "source": [
    "%pylab inline\n",
    "\n",
    "import sys\n",
    "if r'D:\\\\!Data' not in sys.path:\n",
    "    sys.path.append(r'D:\\\\!Data')\n",
    "# sys.path.append(r'/Users/artemgolovizin/GitHub')\n",
    "from scipy.optimize import curve_fit\n",
    "import inspect\n",
    "import os\n",
    "import pickle\n",
    "import imp\n",
    "\n",
    "from IPython.html import widgets\n",
    "from IPython.display import display\n",
    "from IPython.html.widgets import interact, interactive, fixed\n",
    "\n",
    "\n",
    "from IPython import parallel\n",
    "\n",
    "import thulium_python_lib.image_processing_new as impr\n",
    "rc1 = parallel.Client()\n",
    "lview = rc1.load_balanced_view()\n",
    "dview = rc1.direct_view()\n",
    "with dview.sync_imports():\n",
    "    import sys, os    \n",
    "%px if r'D:\\\\!Data' not in sys.path: sys.path.append(r'D:\\\\!Data')\n",
    "#%px if r'/Users/artemgolovizin/GitHub' not in sys.path: sys.path.append(r'/Users/artemgolovizin/GitHub')\n",
    "%px import thulium_python_lib.image_processing_new as impr\n",
    "%px import imp\n",
    "%px from IPython.parallel import bind_kernel; bind_kernel()"
   ]
  },
  {
   "cell_type": "code",
   "execution_count": null,
   "metadata": {
    "collapsed": true
   },
   "outputs": [],
   "source": [
    "def exp_decay(t, N0, tau, background):\n",
    "    return N0 * exp(- t / tau) + background\n",
    "def exp_decay_no_bg(t, N0, tau):\n",
    "    return N0 * exp(- t / tau)\n",
    "def cloud_expansion(t, T, r0, t0):\n",
    "    k_b = 1.38e-23\n",
    "    m = 169 * 1.66e-27\n",
    "    return sqrt( r0**2 + 2 * k_b * T * (t + t0)**2 / m)\n",
    "def tow_body_loss(t, N0, betta, background):\n",
    "    return 1 / ( betta * t + 1 / N0) + background\n",
    "def exp_plus_tw_body_decay(t, N0, tau, betta,  background):\n",
    "    return N0 * exp(- t / tau) / ( 1 + betta * N0 * tau * (1 - exp( -t / tau))) + 0 * background\n",
    "def two_frac_decay(t, N0, N1, tau, betta,  background):\n",
    "    return exp_decay(t, N0, tau, 0) + exp_plus_tw_body_decay(t,N1, tau, betta,  0) + abs(background)\n",
    "def two_frac_decay_no_bg(t, N0, N1, tau, betta, background):\n",
    "    return two_frac_decay(t, N0, N1, tau, betta,0)"
   ]
  },
  {
   "cell_type": "markdown",
   "metadata": {},
   "source": [
    "###Do not foget to cd to the directory you need "
   ]
  },
  {
   "cell_type": "code",
   "execution_count": null,
   "metadata": {
    "collapsed": false
   },
   "outputs": [],
   "source": [
    "cd 'D:\\!Data\\2015_07_08'"
   ]
  },
  {
   "cell_type": "markdown",
   "metadata": {},
   "source": [
    "####Create dictionary for tracking key one want to display "
   ]
  },
  {
   "cell_type": "code",
   "execution_count": null,
   "metadata": {
    "collapsed": false
   },
   "outputs": [],
   "source": [
    "old_ks = dict()"
   ]
  },
  {
   "cell_type": "markdown",
   "metadata": {},
   "source": [
    "###Interactive display of data from  all_N_atoms_data.txt"
   ]
  },
  {
   "cell_type": "code",
   "execution_count": null,
   "metadata": {
    "collapsed": false
   },
   "outputs": [],
   "source": [
    "with open('all_N_atoms_data.txt', 'rb') as handle:\n",
    "    res_dict = pickle.loads(handle.read())\n",
    "\n",
    "ks = list(res_dict.keys())\n",
    "ks.sort()\n",
    "ch_boxes = dict()\n",
    "for k in ks:\n",
    "    ch_boxes[k]=old_ks.get(k,False)\n",
    "fg = None   \n",
    "def plot_gr(l_pos,**ar):\n",
    "    fig,ax = subplots() \n",
    "    global fg, old_ks\n",
    "    old_ks = dict()\n",
    "    for k in ks:\n",
    "        old_ks[k]=ar[k]\n",
    "        if ar[k]:\n",
    "            val=res_dict[k]\n",
    "            x,y=impr.data2_sort(val[0],val[1])\n",
    "            x,y = x[1:],y[1:]\n",
    "            ax.plot(x,y,label=k)\n",
    "    legend(bbox_to_anchor=(1.05, 1), loc=2, borderaxespad=0., fontsize=15)\n",
    "    #xscale('log')\n",
    "    #xlabel('Current, A')\n",
    "    xlabel('Delay, ms')\n",
    "    ylabel('atoms number, a.u.')\n",
    "    ylim(bottom=0)\n",
    "    print(ylim())\n",
    "    start, end = ax.get_xlim()\n",
    "    #print(ax.get_xlim())\n",
    "    #ax.xaxis.set_ticks(arange(start, end, 0.1))\n",
    "    #axvline(x=l_pos, ymin=0, ymax=100000)\n",
    "    fg = fig\n",
    "    \n",
    "ter = interactive(plot_gr,l_pos=(0,0.1,0.1),**ch_boxes)\n",
    "ter.box_style='info'\n",
    "display(ter)"
   ]
  },
  {
   "cell_type": "code",
   "execution_count": null,
   "metadata": {
    "collapsed": false
   },
   "outputs": [],
   "source": [
    "#fg.savefig('atoms in magnetic field.png',bbox_inches='tight')"
   ]
  },
  {
   "cell_type": "code",
   "execution_count": null,
   "metadata": {
    "collapsed": false
   },
   "outputs": [],
   "source": [
    "#x1,y1 = res_dict['01 no magnetic field at all']\n",
    "fig = figure(figsize=(16,10))\n",
    "xt,yt = res_dict['10 prob in magnetic field 8G']\n",
    "\n",
    "xt, yt = impr.data2_sort(xt,yt)\n",
    "#xt, yt = impr.drop_data((xt,yt),(3,))\n",
    "xt, yt = xt[1:], yt[1:]\n",
    "plot(xt, yt, 'o-')\n",
    "fit_func = two_frac_decay_no_bg\n",
    "popt, pcov = curve_fit(fit_func,xt,yt, p0=(yt[0]/2, yt[0]/2, 500,2e-7,0))\n",
    "#popt, pcov = curve_fit(fit_func,xt,yt, p0=(yt[0],  500))\n",
    "print('Fit parameters',*list(zip(inspect.getargspec(fit_func)[0][1:], popt)))\n",
    "plot(xt,fit_func(xt,*popt))\n",
    "plot(xt, exp_decay(xt, popt[0], popt[2], popt[-1]))\n",
    "#plot(xt, exp_plus_tw_body_decay(xt, popt[1], popt[2], popt[3], popt[-1]))"
   ]
  },
  {
   "cell_type": "code",
   "execution_count": null,
   "metadata": {
    "collapsed": false
   },
   "outputs": [],
   "source": [
    "fit_func\n",
    "def int_plot(tau, betta):\n",
    "    plot(xt,yt)\n",
    "    plot(xt, fit_func(xt, \n",
    "interact"
   ]
  },
  {
   "cell_type": "code",
   "execution_count": null,
   "metadata": {
    "collapsed": false
   },
   "outputs": [],
   "source": [
    "fg.savefig('lifetime.png')"
   ]
  },
  {
   "cell_type": "markdown",
   "metadata": {},
   "source": [
    "###Interactive display of data from all_Temperature_data.txt"
   ]
  },
  {
   "cell_type": "raw",
   "metadata": {},
   "source": [
    "with open('all_Temperature_data.txt', 'rb') as handle:\n",
    "    res_dict = pickle.loads(handle.read())\n",
    "\n",
    "ks = res_dict.keys()\n",
    "ch_boxes = dict()\n",
    "for k in ks:\n",
    "    ch_boxes[k]=True\n",
    "\n",
    "x = []\n",
    "yx = []\n",
    "yy = []\n",
    "def plot_gr(**ar):\n",
    "    fig,ax = subplots(2,figsize=(10,7))\n",
    "    for k in ks:\n",
    "        if ar[k]:\n",
    "            val=res_dict[k]\n",
    "            #x,y=data2_sort(val[0],val[1])\n",
    "            ax[0].plot(float(k.split(' ')[0]),val[0][0],'o',label=k)\n",
    "            ax[1].plot(float(k.split(' ')[0]),val[1][0],'o',label=k)\n",
    "    ax[0].legend(bbox_to_anchor=(1.05, 1), loc=2, borderaxespad=0.,fontsize=15)\n",
    "    #xscale('log')\n",
    "    xlabel('freq, kHz')\n",
    "    ylabel('atoms number, a.u.')\n",
    "    \n",
    "ter = interactive(plot_gr,**ch_boxes);\n",
    "ter.box_style='info'\n",
    "display(ter)"
   ]
  },
  {
   "cell_type": "markdown",
   "metadata": {},
   "source": [
    "###Построение списка сканирования "
   ]
  },
  {
   "cell_type": "code",
   "execution_count": null,
   "metadata": {
    "collapsed": false
   },
   "outputs": [],
   "source": [
    "res = array(range(0,10, 1))\n",
    "rr = ''\n",
    "for x in res:\n",
    "    rr += str(x) + ' '\n",
    "print(rr)"
   ]
  },
  {
   "cell_type": "markdown",
   "metadata": {},
   "source": [
    "###To get some good pictures \n",
    "Set up configuration and change it to 'Raw code' when not used"
   ]
  },
  {
   "cell_type": "raw",
   "metadata": {},
   "source": [
    "val=res_dict['09 as 08 but offset -6A']\n",
    "x,y=data2_sort(val[0],val[1])\n",
    "axvline(x=0, ls='-.')\n",
    "x = (x)*10.2-1.44\n",
    "plot(x,y,'o--')\n",
    "ylim(bottom=0)\n",
    "xlabel('magnetic field, G')\n",
    "ylabel('number of atoms in the trap, a.u.')\n",
    "xlim(-1.5,3.2);\n",
    "title('Feshbah resonans')\n",
    "#savefig('feshbah1.eps')"
   ]
  },
  {
   "cell_type": "raw",
   "metadata": {
    "collapsed": false
   },
   "source": [
    "c = 3e8 #speed of light\n",
    "e0 =  8.85e-12 #vacuum permitivity\n",
    "m_at = 1.66053892e-27\n",
    "m_Th = 169\n",
    "w_z = 2*pi * 200000\n",
    "w0 = 50e-6\n",
    "lmda = 0.53e-6\n",
    "alf0 = 1.65e-41\n",
    "p = 2.7\n",
    "alf_s = (w_z * w0 * lmda)**2 * c * e0 * m_Th * m_at / (32*pi*p)  / alf0\n",
    "print(alf_s)\n",
    "\n",
    "#polarizability\n",
    "(2*pi*250 * w0**2)**2 * c * e0 * m_Th * m_at *pi/ (5)  / alf0"
   ]
  },
  {
   "cell_type": "raw",
   "metadata": {
    "collapsed": false
   },
   "source": [
    "print(res_dict.keys())\n",
    "for key, val in res_dict.items():\n",
    "    plot(*data2_sort(val[0],val[1]),label=key)\n",
    "    xscale('log')\n",
    "    xlabel('freq, kHz')\n",
    "    legend(bbox_to_anchor=(1.05, 1), loc=2, borderaxespad=0.,fontsize=15)"
   ]
  },
  {
   "cell_type": "raw",
   "metadata": {
    "collapsed": false
   },
   "source": [
    "list(zip(range(len(res_dict)),list(res_dict.keys())))"
   ]
  },
  {
   "cell_type": "raw",
   "metadata": {
    "collapsed": false
   },
   "source": [
    "k_nums = [[3,4,2,7],[]]\n",
    "keys = list(res_dict.keys())\n",
    "fig, ax = subplots(len(k_nums), figsize=(6,10))\n",
    "i=0\n",
    "for lst in k_nums:\n",
    "    for j in lst:\n",
    "        ax[i].plot(*data2_sort(*res_dict[keys[j]]),label=keys[j])\n",
    "        ax[i].legend(bbox_to_anchor=(1.05, 1), loc=2, borderaxespad=0.,fontsize=15)\n",
    "        ax[i].set_xlabel('freq, kHz')\n",
    "        ax[i].set_ylabel('atoms number, a.u.')\n",
    "    i += 1\n",
    "ax[0].set_title(r'$\\nu_z$', fontsize=20)\n",
    "ax[1].set_title(r'$\\nu_r$', fontsize=20)\n",
    "fig.savefig('good data.png')"
   ]
  },
  {
   "cell_type": "raw",
   "metadata": {
    "collapsed": false
   },
   "source": [
    "(2*pi*250 * w0**2)**2 * c * e0 * m_Th * m_at *pi/ (5)  / alf0"
   ]
  }
 ],
 "metadata": {
  "kernelspec": {
   "display_name": "Python 3",
   "language": "python",
   "name": "python3"
  },
  "language_info": {
   "codemirror_mode": {
    "name": "ipython",
    "version": 3
   },
   "file_extension": ".py",
   "mimetype": "text/x-python",
   "name": "python",
   "nbconvert_exporter": "python",
   "pygments_lexer": "ipython3",
   "version": "3.4.3"
  }
 },
 "nbformat": 4,
 "nbformat_minor": 0
}
