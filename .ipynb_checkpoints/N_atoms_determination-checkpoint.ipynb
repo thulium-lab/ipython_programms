{
 "cells": [
  {
   "cell_type": "code",
   "execution_count": null,
   "metadata": {
    "collapsed": false
   },
   "outputs": [],
   "source": [
    "%pylab inline\n",
    "import sys\n",
    "sys.path.append(r'D:\\\\!Data')\n",
    "from thulium_python_lib.image_processing import *\n",
    "from scipy.optimize import curve_fit\n",
    "import inspect\n",
    "import os\n",
    "import pickle\n"
   ]
  },
  {
   "cell_type": "markdown",
   "metadata": {},
   "source": [
    "###Setting directory to work with "
   ]
  },
  {
   "cell_type": "code",
   "execution_count": null,
   "metadata": {
    "collapsed": false
   },
   "outputs": [],
   "source": [
    "# Which folder to handle\n",
    "folder = '29 реш бол час 6Вт мод внешняя/'\n",
    "\n",
    "working_directory = os.path.join(os.getcwd(),folder)\n",
    "print('Current directory', os.getcwd())\n",
    "print('Working directory', working_directory)\n",
    "\n",
    "# Create folder 'Figures' for saving individual plot\n",
    "if folder != '' and not os.path.exists('Figures'):\n",
    "    os.makedirs('Figures')"
   ]
  },
  {
   "cell_type": "markdown",
   "metadata": {},
   "source": [
    "### Constructing data"
   ]
  },
  {
   "cell_type": "code",
   "execution_count": null,
   "metadata": {
    "collapsed": false
   },
   "outputs": [],
   "source": [
    "# loading images, filter each image with \n",
    "all_data = load_data(working_directory, do_filtering=True)"
   ]
  },
  {
   "cell_type": "code",
   "execution_count": null,
   "metadata": {
    "collapsed": false
   },
   "outputs": [],
   "source": [
    "# rearranging to dictionary\n",
    "dataD = rearrange_data(all_data)"
   ]
  },
  {
   "cell_type": "code",
   "execution_count": null,
   "metadata": {
    "collapsed": false
   },
   "outputs": [],
   "source": [
    "# sifting(filtering) data - removing empty images\n",
    "sift(dataD)"
   ]
  },
  {
   "cell_type": "code",
   "execution_count": null,
   "metadata": {
    "collapsed": false
   },
   "outputs": [],
   "source": [
    "# for plotting sifted? image\n",
    "#imshow(imread('2700ms/10_1.png'))\n",
    "#colorbar()"
   ]
  },
  {
   "cell_type": "code",
   "execution_count": null,
   "metadata": {
    "collapsed": false
   },
   "outputs": [],
   "source": [
    "# averaging data\n",
    "avr_dataD = average_data(dataD)"
   ]
  },
  {
   "cell_type": "markdown",
   "metadata": {},
   "source": [
    "### After above, we can analize our data "
   ]
  },
  {
   "cell_type": "code",
   "execution_count": null,
   "metadata": {
    "collapsed": true
   },
   "outputs": [],
   "source": [
    "def exp_decay(t, N0, tau, background):\n",
    "    return N0 * exp(- t / tau) + background\n",
    "def exp_decay_no_bg(t, N0, tau):\n",
    "    return N0 * exp(- t / tau)\n",
    "def cloud_expansion(t, T, r0, t0):\n",
    "    k_b = 1.38e-23\n",
    "    m = 169 * 1.66e-27\n",
    "    return sqrt( r0**2 + 2 * k_b * T * (t + t0)**2 / m)\n",
    "\n",
    "# function to convert arbitrary units to atoms number\n",
    "convert_N_atoms = N_atoms(width=0.5, delta = 5)"
   ]
  },
  {
   "cell_type": "markdown",
   "metadata": {},
   "source": [
    "####Plotting atoms number for different tipes of data"
   ]
  },
  {
   "cell_type": "code",
   "execution_count": null,
   "metadata": {
    "collapsed": false
   },
   "outputs": [],
   "source": [
    "shot_typeN = 1\n",
    "\n",
    "# constracting data arrays\n",
    "x_data_x,n_atoms_x = constract_data(avr_dataD, shot_typeN, 'total')\n",
    "n_atoms_x = convert_N_atoms(n_atoms_x)\n",
    "x_data_y,n_atoms_y = constract_data(avr_dataD, shot_typeN, 'y_data_fit',0)\n",
    "n_atoms_y = convert_N_atoms(n_atoms_y)\n",
    "x_data_x_all,n_atoms_x_all = constract_data(dataD, shot_typeN, 'x_data_fit',0)\n",
    "n_atoms_x_all = convert_N_atoms(n_atoms_x_all)\n",
    "\n",
    "# fit_func - which function to use to fit data\n",
    "fit_func = exp_decay\n",
    "\n",
    "# fitting\n",
    "popt_T, pcov_T = curve_fit(fit_func, x_data_x, n_atoms_x, p0=(n_atoms_x[0], 100,0))\n",
    "print('Fit parameters',list(zip(inspect.getargspec(fit_func)[0][1:], popt_T)))\n",
    "\n",
    "# plotting\n",
    "fig2, ax2 = subplots(1,2, figsize=(14,4))\n",
    "ax2[0].plot(x_data_x, n_atoms_x, 'ro', label='n_atoms_x')\n",
    "ax2[0].plot(x_data_y, n_atoms_y, 'bo', label='n_atoms_y')\n",
    "x_dat = linspace(0,max(x_data_x),100)\n",
    "#ax2[0].plot(x_dat, fit_func(x_dat,*popt_T),'k', label='fit X')\n",
    "ax2[0].set_xlabel('time, ms')\n",
    "ax2[0].set_ylabel('N atoms, a.u.')\n",
    "ax2[0].set_title('N atoms')\n",
    "ax2[0].set_ylim(bottom=0)\n",
    "ax2[0].legend(loc=1)\n",
    "ax2[1].plot(x_data_x_all,n_atoms_x_all,'o')\n",
    "ax2[1].set_xlabel('time, ms')\n",
    "ax2[1].set_ylabel('N atoms, a.u.')\n",
    "ax2[1].set_title('N atoms each point')\n",
    "ax2[1].set_ylim(bottom=0)"
   ]
  },
  {
   "cell_type": "markdown",
   "metadata": {},
   "source": [
    "####Save plots to folder 'Figures' (if in outter directory) and data to file 'all_N_atoms_data.txt' "
   ]
  },
  {
   "cell_type": "code",
   "execution_count": null,
   "metadata": {
    "collapsed": false
   },
   "outputs": [],
   "source": [
    "if folder != '':\n",
    "    fig2.savefig(os.path.join('Figures',folder.rstrip(r'\\/ ')+'.png'))\n",
    "    try:\n",
    "        with open('all_N_atoms_data.txt', 'rb') as handle:\n",
    "            res_dict = pickle.loads(handle.read())\n",
    "    except FileNotFoundError:\n",
    "        res_dict = {}\n",
    "    except EOFError:\n",
    "        res_dict = {}\n",
    "    res_dict[folder.rstrip(r'\\/ ')]=(x_data_x, n_atoms_x)\n",
    "    with open('all_N_atoms_data.txt', 'wb') as handle:\n",
    "        pickle.dump(res_dict, handle)\n",
    "    print('Figure and data saved!!!')"
   ]
  },
  {
   "cell_type": "markdown",
   "metadata": {},
   "source": [
    "####Normalize average data"
   ]
  },
  {
   "cell_type": "code",
   "execution_count": null,
   "metadata": {
    "collapsed": false
   },
   "outputs": [],
   "source": [
    "#norm_avr_dataD = normalise_avr_image(avr_dataD, 1, 2, 'x_data_fit',0)"
   ]
  },
  {
   "cell_type": "markdown",
   "metadata": {},
   "source": [
    "####Normalize each image"
   ]
  },
  {
   "cell_type": "code",
   "execution_count": null,
   "metadata": {
    "collapsed": false
   },
   "outputs": [],
   "source": [
    "#norm_dataD = normalise_individual_image(dataD, 1, 2, 'x_data_fit',0)"
   ]
  },
  {
   "cell_type": "markdown",
   "metadata": {},
   "source": [
    "\n",
    "####And do smth with this data"
   ]
  },
  {
   "cell_type": "raw",
   "metadata": {
    "collapsed": false
   },
   "source": [
    "# to transform to executable code choose Cell->Cell Type->Code\n",
    "x_data_x,n_atoms_x = constract_data(norm_avr_dataD, 1, 'x_data_fit',0)\n",
    "x_data_y,n_atoms_y = constract_data(norm_avr_dataD, 1, 'y_data_fit',0)\n",
    "popt_T, pcov_T = curve_fit(exp_decay, x_data_x, n_atoms_x, p0=(n_atoms_x[0], 100, 0))\n",
    "print('Fit parameters',list(zip(inspect.getargspec(exp_decay)[0][1:], popt_T)))\n",
    "fig_T, ax_T = subplots(1,1)\n",
    "ax_T.plot(x_data_x, n_atoms_x, 'ro', label='n_atoms_x')\n",
    "ax_T.plot(x_data_y, n_atoms_y, 'bo', label='n_atoms_y')\n",
    "x_dat = linspace(0,max(x_data_x),100)\n",
    "ax_T.plot(x_dat, exp_decay(x_dat,*popt_T),'k', label='exp fit X')\n",
    "ax_T.set_xlabel('time, ms')\n",
    "ax_T.set_ylabel('N atoms, a.u.')\n",
    "ax_T.set_title('N atoms after norm')\n",
    "ax_T.set_ylim(bottom=0)\n",
    "ax_T.legend(loc=1)"
   ]
  },
  {
   "cell_type": "markdown",
   "metadata": {},
   "source": [
    "####Looking at second shot_typeN"
   ]
  },
  {
   "cell_type": "code",
   "execution_count": null,
   "metadata": {
    "collapsed": false
   },
   "outputs": [],
   "source": [
    "#x_data,y_data = constract_data(avr_dataD, 2, 'total')\n",
    "#plot(append(x_data, 0), append(y_data,0), 'o')"
   ]
  }
 ],
 "metadata": {
  "kernelspec": {
   "display_name": "Python 3",
   "language": "python",
   "name": "python3"
  },
  "language_info": {
   "codemirror_mode": {
    "name": "ipython",
    "version": 3
   },
   "file_extension": ".py",
   "mimetype": "text/x-python",
   "name": "python",
   "nbconvert_exporter": "python",
   "pygments_lexer": "ipython3",
   "version": "3.4.3"
  }
 },
 "nbformat": 4,
 "nbformat_minor": 0
}
