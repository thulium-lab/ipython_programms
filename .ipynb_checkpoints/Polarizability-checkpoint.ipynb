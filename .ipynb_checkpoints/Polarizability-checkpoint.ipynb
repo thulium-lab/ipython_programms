{
 "cells": [
  {
   "cell_type": "code",
   "execution_count": 1,
   "metadata": {
    "collapsed": false
   },
   "outputs": [
    {
     "name": "stdout",
     "output_type": "stream",
     "text": [
      "Populating the interactive namespace from numpy and matplotlib\n"
     ]
    }
   ],
   "source": [
    "%pylab inline"
   ]
  },
  {
   "cell_type": "markdown",
   "metadata": {},
   "source": [
    "###Scalar polarizability is given by\n",
    "###$\\alpha_s = \\frac{\\omega_z^2 w_x w_y λ^2 c \\epsilon_0 m}{32 \\pi P}$"
   ]
  },
  {
   "cell_type": "code",
   "execution_count": 3,
   "metadata": {
    "collapsed": false
   },
   "outputs": [
    {
     "name": "stdout",
     "output_type": "stream",
     "text": [
      "212.3534825753709\n"
     ]
    }
   ],
   "source": [
    "c = 3e8 #speed of light\n",
    "e0 =  8.85e-12 #vacuum permitivity\n",
    "m_at = 1.66053892e-27  #atomic mass\n",
    "m_Th = 169 \n",
    "ω_z = 2*pi * 180e3 #oscillation frequency, Hz\n",
    "W_x = 50e-6 # diamiter, m\n",
    "W_y = 50e-6 # diamiter, m\n",
    "λ = 0.53e-6\n",
    "α0 = 1.65e-41\n",
    "p = 1.9 #optical power, W\n",
    "#$\\alpha_s = \\frac{\\omega_z^2 w_x w_y λ^2 c \\epsilon_0 m}{32 \\pi P}$\n",
    "alf_s = (ω_z**2 * W_x *W_y * λ**2) * c * e0 * m_Th * m_at / (32*pi*p)  / α0\n",
    "print(alf_s)\n",
    "\n",
    "#polarizability\n",
    "#(2*pi*250 * w0**2)**2 * c * e0 * m_Th * m_at *pi/ (5)  / alf0"
   ]
  },
  {
   "cell_type": "code",
   "execution_count": 10,
   "metadata": {
    "collapsed": true
   },
   "outputs": [],
   "source": [
    "def alf_func(f_z, p):\n",
    "    return ((2 * pi * f_z *1000)**2 * W_x *W_y * λ**2) * c * e0 * m_Th * m_at / (32*pi*p)  / α0"
   ]
  },
  {
   "cell_type": "code",
   "execution_count": 49,
   "metadata": {
    "collapsed": false
   },
   "outputs": [
    {
     "name": "stdout",
     "output_type": "stream",
     "text": [
      "α_s =  [188.34901868857162, 212.3534825753709]\n"
     ]
    }
   ],
   "source": [
    "# Первое число - частота в кГц, второе - мощность верди перед входом в ловушку\n",
    "mess = ((220, 3.2), (180,1.9))\n",
    "\n",
    "alphas = list(map(alf_func,*zip(*mess)))\n",
    "print('α_s = ',alphas)"
   ]
  },
  {
   "cell_type": "code",
   "execution_count": null,
   "metadata": {
    "collapsed": true
   },
   "outputs": [],
   "source": []
  }
 ],
 "metadata": {
  "kernelspec": {
   "display_name": "Python 3",
   "language": "python",
   "name": "python3"
  },
  "language_info": {
   "codemirror_mode": {
    "name": "ipython",
    "version": 3
   },
   "file_extension": ".py",
   "mimetype": "text/x-python",
   "name": "python",
   "nbconvert_exporter": "python",
   "pygments_lexer": "ipython3",
   "version": "3.4.3"
  }
 },
 "nbformat": 4,
 "nbformat_minor": 0
}
