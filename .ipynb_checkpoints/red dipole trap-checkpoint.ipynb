{
 "cells": [
  {
   "cell_type": "code",
   "execution_count": 1,
   "metadata": {
    "collapsed": false
   },
   "outputs": [
    {
     "name": "stdout",
     "output_type": "stream",
     "text": [
      "Populating the interactive namespace from numpy and matplotlib\n"
     ]
    }
   ],
   "source": [
    "%pylab inline"
   ]
  },
  {
   "cell_type": "code",
   "execution_count": 45,
   "metadata": {
    "collapsed": false
   },
   "outputs": [
    {
     "name": "stdout",
     "output_type": "stream",
     "text": [
      "From geomoptics 4.0 mm\n"
     ]
    }
   ],
   "source": [
    "f = 150 # mm\n",
    "λ = 0.8e-3 # mm\n",
    "w0 = 30e-3 # mm waist\n",
    "print ('From geomoptics %.1f mm' % (λ * f / w0))"
   ]
  },
  {
   "cell_type": "markdown",
   "metadata": {
    "variables": {
     "'%.1f' % w_final": "2.4",
     "w0": "0.03"
    }
   },
   "source": [
    "#### Matrix optics\n",
    "\n",
    "Radius of gaussian beam on lens to get waits {{w0}} mm  shoul be {{'%.1f' % w_final}} mm.\n",
    "Rasiud Ti-Supphire 0.6mm, after its telescope - 1.2mm."
   ]
  },
  {
   "cell_type": "code",
   "execution_count": 48,
   "metadata": {
    "collapsed": false
   },
   "outputs": [],
   "source": [
    "M_F = array([[1,0],[-1/f,1]])\n",
    "M_FS = array([[1,f],[0,1]])\n",
    "\n",
    "q0 = (1j*pi/ (λ * w0**2))**(-1)\n",
    "cc = dot(M_F, M_FS)*q0\n",
    "q1 = 1 / (sum(cc[0])/sum(cc[1]))\n",
    "w_final = sqrt(1 / abs(q1.real) * λ / pi)"
   ]
  },
  {
   "cell_type": "code",
   "execution_count": null,
   "metadata": {
    "collapsed": true
   },
   "outputs": [],
   "source": []
  }
 ],
 "metadata": {
  "hide_input": false,
  "kernelspec": {
   "display_name": "Python 3",
   "language": "python",
   "name": "python3"
  },
  "language_info": {
   "codemirror_mode": {
    "name": "ipython",
    "version": 3
   },
   "file_extension": ".py",
   "mimetype": "text/x-python",
   "name": "python",
   "nbconvert_exporter": "python",
   "pygments_lexer": "ipython3",
   "version": "3.4.3"
  },
  "latex_envs": {
   "bibliofile": "biblio.bib",
   "cite_by": "apalike",
   "current_citInitial": 1,
   "eqLabelWithNumbers": true,
   "eqNumInitial": 0
  }
 },
 "nbformat": 4,
 "nbformat_minor": 0
}
