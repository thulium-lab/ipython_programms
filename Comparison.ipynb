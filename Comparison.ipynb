{
 "cells": [
  {
   "cell_type": "code",
   "execution_count": null,
   "metadata": {
    "collapsed": false
   },
   "outputs": [],
   "source": [
    "%pylab inline\n",
    "import sys\n",
    "sys.path.append(r'D:\\\\!Data')\n",
    "from thulium_python_lib.image_processing import *\n",
    "from scipy.optimize import curve_fit\n",
    "import inspect\n",
    "import os\n",
    "import pickle"
   ]
  },
  {
   "cell_type": "code",
   "execution_count": null,
   "metadata": {
    "collapsed": false
   },
   "outputs": [],
   "source": [
    "print('Current directory', os.getcwd())"
   ]
  },
  {
   "cell_type": "code",
   "execution_count": null,
   "metadata": {
    "collapsed": false
   },
   "outputs": [],
   "source": [
    "from IPython import parallel\n",
    "rc = parallel.Client()\n",
    "lview = rc.load_balanced_view()\n",
    "\n",
    "with rc[:].sync_imports():\n",
    "    import sys, os"
   ]
  },
  {
   "cell_type": "code",
   "execution_count": null,
   "metadata": {
    "collapsed": false
   },
   "outputs": [],
   "source": [
    "with open('all_N_atoms_data.txt', 'rb') as handle:\n",
    "    res_dict = pickle.loads(handle.read())"
   ]
  },
  {
   "cell_type": "code",
   "execution_count": null,
   "metadata": {
    "collapsed": true
   },
   "outputs": [],
   "source": [
    "from IPython.html import widgets\n",
    "from IPython.display import display\n",
    "from IPython.html.widgets import interact, interactive, fixed"
   ]
  },
  {
   "cell_type": "code",
   "execution_count": null,
   "metadata": {
    "collapsed": false
   },
   "outputs": [],
   "source": [
    "ks = res_dict.keys()\n",
    "ch_boxes = dict()\n",
    "for k in ks:\n",
    "    ch_boxes[k]=True\n",
    "    \n",
    "def plot_gr(**ar):\n",
    "    fig,ax = subplots()\n",
    "    for k in ks:\n",
    "        if ar[k]:\n",
    "            val=res_dict[k]\n",
    "            x,y=data2_sort(val[0],val[1])\n",
    "            ax.plot(x,y,label=k)\n",
    "    legend(bbox_to_anchor=(1.05, 1), loc=2, borderaxespad=0.,fontsize=15)\n",
    "    xscale('log')\n",
    "    xlabel('freq, kHz')\n",
    "    ylabel('atoms number, a.u.')\n",
    "    \n",
    "ter = interactive(plot_gr,**ch_boxes);\n",
    "ter.box_style='info'\n",
    "display(ter)"
   ]
  },
  {
   "cell_type": "markdown",
   "metadata": {},
   "source": [
    "###Построение списка сканирования "
   ]
  },
  {
   "cell_type": "code",
   "execution_count": null,
   "metadata": {
    "collapsed": true
   },
   "outputs": [],
   "source": [
    "res = range(2, 80, 3)\n",
    "rr = ''\n",
    "for x in res:\n",
    "    rr += str(x/100) + ' '"
   ]
  },
  {
   "cell_type": "raw",
   "metadata": {
    "collapsed": false
   },
   "source": [
    "c = 3e8 #speed of light\n",
    "e0 =  8.85e-12 #vacuum permitivity\n",
    "m_at = 1.66053892e-27\n",
    "m_Th = 169\n",
    "w_z = 2*pi * 200000\n",
    "w0 = 50e-6\n",
    "lmda = 0.53e-6\n",
    "alf0 = 1.65e-41\n",
    "p = 2.7\n",
    "alf_s = (w_z * w0 * lmda)**2 * c * e0 * m_Th * m_at / (32*pi*p)  / alf0\n",
    "print(alf_s)\n",
    "\n",
    "#polarizability\n",
    "(2*pi*250 * w0**2)**2 * c * e0 * m_Th * m_at *pi/ (5)  / alf0"
   ]
  },
  {
   "cell_type": "raw",
   "metadata": {
    "collapsed": false
   },
   "source": [
    "print(res_dict.keys())\n",
    "for key, val in res_dict.items():\n",
    "    plot(*data2_sort(val[0],val[1]),label=key)\n",
    "    xscale('log')\n",
    "    xlabel('freq, kHz')\n",
    "    legend(bbox_to_anchor=(1.05, 1), loc=2, borderaxespad=0.,fontsize=15)"
   ]
  },
  {
   "cell_type": "raw",
   "metadata": {
    "collapsed": false
   },
   "source": [
    "list(zip(range(len(res_dict)),list(res_dict.keys())))"
   ]
  },
  {
   "cell_type": "raw",
   "metadata": {
    "collapsed": false
   },
   "source": [
    "k_nums = [[3,4,2,7],[]]\n",
    "keys = list(res_dict.keys())\n",
    "fig, ax = subplots(len(k_nums), figsize=(6,10))\n",
    "i=0\n",
    "for lst in k_nums:\n",
    "    for j in lst:\n",
    "        ax[i].plot(*data2_sort(*res_dict[keys[j]]),label=keys[j])\n",
    "        ax[i].legend(bbox_to_anchor=(1.05, 1), loc=2, borderaxespad=0.,fontsize=15)\n",
    "        ax[i].set_xlabel('freq, kHz')\n",
    "        ax[i].set_ylabel('atoms number, a.u.')\n",
    "    i += 1\n",
    "ax[0].set_title(r'$\\nu_z$', fontsize=20)\n",
    "ax[1].set_title(r'$\\nu_r$', fontsize=20)\n",
    "fig.savefig('good data.png')"
   ]
  },
  {
   "cell_type": "raw",
   "metadata": {
    "collapsed": false
   },
   "source": [
    "(2*pi*250 * w0**2)**2 * c * e0 * m_Th * m_at *pi/ (5)  / alf0"
   ]
  }
 ],
 "metadata": {
  "kernelspec": {
   "display_name": "Python 3",
   "language": "python",
   "name": "python3"
  },
  "language_info": {
   "codemirror_mode": {
    "name": "ipython",
    "version": 3
   },
   "file_extension": ".py",
   "mimetype": "text/x-python",
   "name": "python",
   "nbconvert_exporter": "python",
   "pygments_lexer": "ipython3",
   "version": "3.4.3"
  }
 },
 "nbformat": 4,
 "nbformat_minor": 0
}
