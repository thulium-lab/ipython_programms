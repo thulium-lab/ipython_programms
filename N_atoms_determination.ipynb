{
 "cells": [
  {
   "cell_type": "code",
   "execution_count": 17,
   "metadata": {
    "collapsed": false
   },
   "outputs": [
    {
     "name": "stdout",
     "output_type": "stream",
     "text": [
      "Populating the interactive namespace from numpy and matplotlib\n"
     ]
    }
   ],
   "source": [
    "%pylab inline\n",
    "import sys\n",
    "sys.path.append('..')\n",
    "from thulium_library.image_processing import *\n",
    "from scipy.optimize import curve_fit"
   ]
  },
  {
   "cell_type": "code",
   "execution_count": 18,
   "metadata": {
    "collapsed": false
   },
   "outputs": [
    {
     "name": "stdout",
     "output_type": "stream",
     "text": [
      "['', '/Users/artemgolovizin/anaconda/envs/py3k/lib/python33.zip', '/Users/artemgolovizin/anaconda/envs/py3k/lib/python3.3', '/Users/artemgolovizin/anaconda/envs/py3k/lib/python3.3/plat-darwin', '/Users/artemgolovizin/anaconda/envs/py3k/lib/python3.3/lib-dynload', '/Users/artemgolovizin/anaconda/envs/py3k/lib/python3.3/site-packages', '/Users/artemgolovizin/anaconda/envs/py3k/lib/python3.3/site-packages/Sphinx-1.2.3-py3.3.egg', '/Users/artemgolovizin/anaconda/envs/py3k/lib/python3.3/site-packages/aeosa', '/Users/artemgolovizin/anaconda/envs/py3k/lib/python3.3/site-packages/cryptography-0.8-py3.3-macosx-10.5-x86_64.egg', '/Users/artemgolovizin/anaconda/envs/py3k/lib/python3.3/site-packages/nose-1.3.4-py3.3.egg', '/Users/artemgolovizin/anaconda/envs/py3k/lib/python3.3/site-packages/setuptools-14.3-py3.3.egg', '/Users/artemgolovizin/anaconda/envs/py3k/lib/python3.3/site-packages/IPython/extensions', '..', '..']\n"
     ]
    }
   ],
   "source": [
    "print(sys.path)"
   ]
  },
  {
   "cell_type": "markdown",
   "metadata": {},
   "source": [
    "### Constructing dataD - all data dictionary, then sifting bad images and averaging data to avr_dataD dictionary "
   ]
  },
  {
   "cell_type": "code",
   "execution_count": 2,
   "metadata": {
    "collapsed": false
   },
   "outputs": [
    {
     "name": "stdout",
     "output_type": "stream",
     "text": [
      "RuntimeError, couldn't find fit for image 300ms/3_1.png\n",
      "Total number of images:  121\n",
      "Rearranging to dictionary is complited\n"
     ]
    }
   ],
   "source": [
    "dataD = load_data()"
   ]
  },
  {
   "cell_type": "code",
   "execution_count": 3,
   "metadata": {
    "collapsed": false
   },
   "outputs": [
    {
     "name": "stdout",
     "output_type": "stream",
     "text": [
      "remove element 1 300ms/1_1.png\n",
      "remove element 1 300ms/2_1.png\n",
      "remove element 1 300ms/4_1.png\n",
      "remove element 0 400ms/10_1.png\n"
     ]
    }
   ],
   "source": [
    "sift(dataD)"
   ]
  },
  {
   "cell_type": "code",
   "execution_count": 4,
   "metadata": {
    "collapsed": false
   },
   "outputs": [
    {
     "name": "stdout",
     "output_type": "stream",
     "text": [
      "Averaging is complited\n"
     ]
    }
   ],
   "source": [
    "avr_dataD = average_data(dataD)"
   ]
  },
  {
   "cell_type": "markdown",
   "metadata": {},
   "source": [
    "### After above, we can analize our data "
   ]
  },
  {
   "cell_type": "markdown",
   "metadata": {},
   "source": [
    "####For example, plotting sigma_x and sigma_y for temperature determination: "
   ]
  },
  {
   "cell_type": "code",
   "execution_count": 5,
   "metadata": {
    "collapsed": false
   },
   "outputs": [
    {
     "data": {
      "text/plain": [
       "<matplotlib.legend.Legend at 0x10a7afed0>"
      ]
     },
     "execution_count": 5,
     "metadata": {},
     "output_type": "execute_result"
    },
    {
     "data": {
      "image/png": "[encoded data removed]",
      "text/plain": [
       "<matplotlib.figure.Figure at 0x1028f4d90>"
      ]
     },
     "metadata": {},
     "output_type": "display_data"
    }
   ],
   "source": [
    "x_data_x,sigma_x = constract_data(avr_dataD, 1, 'x_data_fit',2)\n",
    "x_data_y,sigma_y = constract_data(avr_dataD, 1, 'y_data_fit',2)\n",
    "fig_T, ax_T = subplots(1,1)\n",
    "ax_T.plot(x_data_x, sigma_x, 'ro', label='sigma_x')\n",
    "ax_T.plot(x_data_y, sigma_y, 'bo', label='sigma_y')\n",
    "ax_T.legend()"
   ]
  },
  {
   "cell_type": "code",
   "execution_count": 6,
   "metadata": {
    "collapsed": false
   },
   "outputs": [
    {
     "data": {
      "text/plain": [
       "[<matplotlib.lines.Line2D at 0x103271410>]"
      ]
     },
     "execution_count": 6,
     "metadata": {},
     "output_type": "execute_result"
    },
    {
     "data": {
      "image/png": "[encoded data removed]",
      "text/plain": [
       "<matplotlib.figure.Figure at 0x10771e710>"
      ]
     },
     "metadata": {},
     "output_type": "display_data"
    }
   ],
   "source": [
    "x_data,y_data = constract_data(dataD, 1, 'x_data_fit',2)\n",
    "plot(x_data, y_data,'o')"
   ]
  },
  {
   "cell_type": "code",
   "execution_count": 7,
   "metadata": {
    "collapsed": true
   },
   "outputs": [],
   "source": [
    "norm_dict = normalise_individual_image(dataD, 1, 1, 'total')"
   ]
  },
  {
   "cell_type": "code",
   "execution_count": 14,
   "metadata": {
    "collapsed": false
   },
   "outputs": [
    {
     "data": {
      "text/plain": [
       "(0, 7.0)"
      ]
     },
     "execution_count": 14,
     "metadata": {},
     "output_type": "execute_result"
    },
    {
     "data": {
      "image/png": "[encoded data removed]",
      "text/plain": [
       "<matplotlib.figure.Figure at 0x10d512490>"
      ]
     },
     "metadata": {},
     "output_type": "display_data"
    }
   ],
   "source": [
    "x_data,y_data = constract_data(norm_dict, 1, 'x_data_fit',2)\n",
    "fig, ax = subplots(1,1)\n",
    "ax.plot(x_data, y_data,'o',)\n",
    "ax.set_ylim(bottom=0)"
   ]
  },
  {
   "cell_type": "code",
   "execution_count": 15,
   "metadata": {
    "collapsed": false
   },
   "outputs": [],
   "source": [
    "norm_data = normalise_avr_image(avr_dataD, 1, 1, 'total')"
   ]
  },
  {
   "cell_type": "code",
   "execution_count": 16,
   "metadata": {
    "collapsed": false
   },
   "outputs": [
    {
     "data": {
      "text/plain": [
       "[<matplotlib.lines.Line2D at 0x10cf40150>]"
      ]
     },
     "execution_count": 16,
     "metadata": {},
     "output_type": "execute_result"
    },
    {
     "data": {
      "image/png": "[encoded data removed]",
      "text/plain": [
       "<matplotlib.figure.Figure at 0x10d1a7550>"
      ]
     },
     "metadata": {},
     "output_type": "display_data"
    }
   ],
   "source": [
    "x_data,y_data = constract_data(norm_data, 1, 'x_data_fit',2)\n",
    "plot(x_data, y_data,'o')\n",
    "#plot(x_data_x,sigma_x,'o')"
   ]
  },
  {
   "cell_type": "code",
   "execution_count": 12,
   "metadata": {
    "collapsed": false
   },
   "outputs": [
    {
     "name": "stdout",
     "output_type": "stream",
     "text": [
      "[ 400.]\n",
      "[   5.56268751  165.8554661    -0.1997726 ]\n"
     ]
    },
    {
     "data": {
      "text/plain": [
       "[<matplotlib.lines.Line2D at 0x10b051490>]"
      ]
     },
     "execution_count": 12,
     "metadata": {},
     "output_type": "execute_result"
    },
    {
     "data": {
      "image/png": "[encoded data removed]",
      "text/plain": [
       "<matplotlib.figure.Figure at 0x10b051110>"
      ]
     },
     "metadata": {},
     "output_type": "display_data"
    }
   ],
   "source": [
    "x_data, y_data = constract_data(avr_dataD, 1, 'x_data_fit', 0)\n",
    "print(x_data[x_data == 400])\n",
    "plot(x_data, y_data, 'o')\n",
    "popt, pcov = curve_fit(exp_decay, x_data, y_data, p0=(y_data[0], 100, 0))\n",
    "print(popt)\n",
    "x_data_fit = append(x_data,0)\n",
    "plot(sort(x_data_fit), exp_decay(sort(x_data_fit), *popt))"
   ]
  },
  {
   "cell_type": "code",
   "execution_count": 11,
   "metadata": {
    "collapsed": true
   },
   "outputs": [],
   "source": [
    "def exp_decay(t, N0, tau, background):\n",
    "    return N0 * exp(- t / tau) + background"
   ]
  },
  {
   "cell_type": "code",
   "execution_count": null,
   "metadata": {
    "collapsed": true
   },
   "outputs": [],
   "source": []
  }
 ],
 "metadata": {
  "kernelspec": {
   "display_name": "Python 3",
   "language": "python",
   "name": "python3"
  },
  "language_info": {
   "codemirror_mode": {
    "name": "ipython",
    "version": 3
   },
   "file_extension": ".py",
   "mimetype": "text/x-python",
   "name": "python",
   "nbconvert_exporter": "python",
   "pygments_lexer": "ipython3",
   "version": "3.3.5"
  }
 },
 "nbformat": 4,
 "nbformat_minor": 0
}
