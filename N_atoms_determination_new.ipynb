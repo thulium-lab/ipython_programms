{
 "cells": [
  {
   "cell_type": "raw",
   "metadata": {},
   "source": [
    "# To restart remote kernels run code below before restarting this kernel\n",
    "rc.close()"
   ]
  },
  {
   "cell_type": "raw",
   "metadata": {},
   "source": [
    "# to enter kernel qtconsole run code below\n",
    "%%px --targets 0 \n",
    "%qtconsole"
   ]
  },
  {
   "cell_type": "code",
<<<<<<< HEAD
   "execution_count": 36,
=======
   "execution_count": 1,
>>>>>>> origin/master
   "metadata": {
    "collapsed": false,
    "scrolled": true
   },
   "outputs": [
    {
     "name": "stdout",
     "output_type": "stream",
     "text": [
      "Populating the interactive namespace from numpy and matplotlib\n",
<<<<<<< HEAD
      "importing sys on engine(s)\n",
      "importing os on engine(s)\n"
=======
      "Done importing, module image_processing\n",
      "importing sys on engine(s)\n",
      "importing os on engine(s)\n",
      "[stdout:0] Done importing, module image_processing\n"
>>>>>>> origin/master
     ]
    },
    {
     "name": "stderr",
     "output_type": "stream",
     "text": [
<<<<<<< HEAD
      "WARNING: pylab import has clobbered these variables: ['interactive']\n",
      "`%matplotlib` prevents importing * from pylab and numpy\n"
=======
      ":0: FutureWarning: IPython widgets are experimental and may change in the future.\n",
      "[stderr:0] :0: FutureWarning: IPython widgets are experimental and may change in the future.\n"
     ]
    },
    {
     "name": "stdout",
     "output_type": "stream",
     "text": [
      "[stdout:1] Done importing, module image_processing\n",
      "[stdout:2] Done importing, module image_processing\n",
      "[stdout:3] Done importing, module image_processing\n"
     ]
    },
    {
     "name": "stderr",
     "output_type": "stream",
     "text": [
      "[stderr:1] :0: FutureWarning: IPython widgets are experimental and may change in the future.\n",
      "[stderr:2] :0: FutureWarning: IPython widgets are experimental and may change in the future.\n",
      "[stderr:3] :0: FutureWarning: IPython widgets are experimental and may change in the future.\n"
>>>>>>> origin/master
     ]
    }
   ],
   "source": [
    "%pylab inline\n",
    "\n",
    "import sys\n",
    "import os\n",
    "par_dir = os.path.split(os.getcwd())[0]\n",
    "if par_dir not in sys.path:\n",
    "    sys.path.append(par_dir)\n",
    "# sys.path.append(r'/Users/artemgolovizin/GitHub')\n",
    "from scipy.optimize import curve_fit\n",
    "import inspect\n",
    "import pickle\n",
    "#import imp\n",
    "import re\n",
    "import json\n",
    "\n",
    "from IPython.html import widgets\n",
    "from IPython.display import display\n",
    "from IPython.html.widgets import interact, interactive, fixed\n",
    "\n",
    "from IPython import parallel\n",
    "\n",
    "import thulium_python_lib.image_processing_new as impr\n",
    "rc1 = parallel.Client()\n",
    "lview = rc1.load_balanced_view()\n",
    "dview = rc1.direct_view()\n",
    "with dview.sync_imports():\n",
    "    import sys, os    \n",
    "dview['par_dir'] = par_dir\n",
    "%px if par_dir not in sys.path: sys.path.append(par_dir)\n",
    "#%px if r'/Users/artemgolovizin/GitHub' not in sys.path: sys.path.append(r'/Users/artemgolovizin/GitHub')\n",
    "%px import thulium_python_lib.image_processing_new as impr\n",
    "%px import imp\n",
    "%px from IPython.parallel import bind_kernel; bind_kernel()"
   ]
  },
  {
   "cell_type": "code",
<<<<<<< HEAD
   "execution_count": 37,
=======
   "execution_count": 2,
>>>>>>> origin/master
   "metadata": {
    "collapsed": false
   },
   "outputs": [],
   "source": [
    "# to reload library on remote and local engine\n",
    "#%px imp.reload(impr)\n",
    "#imp.reload(impr)"
   ]
  },
  {
   "cell_type": "markdown",
   "metadata": {},
   "source": [
    "###Helper functions"
   ]
  },
  {
   "cell_type": "code",
<<<<<<< HEAD
   "execution_count": 38,
=======
   "execution_count": 3,
>>>>>>> origin/master
   "metadata": {
    "collapsed": false
   },
   "outputs": [],
   "source": [
    "def exp_decay(t, N0, tau, background):\n",
    "    return N0 * exp(- t / tau) + background\n",
    "def exp_decay_no_bg(t, N0, tau):\n",
    "    return N0 * exp(- t / tau)\n",
    "def cloud_expansion(t, T, r0, t0):\n",
    "    k_b = 1.38e-23\n",
    "    m = 169 * 1.66e-27\n",
    "    return sqrt( r0**2 + 2 * k_b * T * (t + t0)**2 / m)\n",
    "def exp_grouth(t, N0, tau, background):\n",
    "    return N0 * ( 1 - exp( - t / tau)) + 0*background\n",
    "# function to convert arbitrary units to atoms number\n",
    "convert_N_atoms = impr.N_atoms(width=0.5, delta = 5)\n",
    "\n",
    "def construct_fit_description(fit_func, popt_T):\n",
    "    \"\"\"constructs a set of string of type 'variable=value\\n' for all [1:] function variables\"\"\"\n",
    "    res = ''\n",
    "    for item in zip(inspect.getargspec(fit_func)[0][1:], popt_T):\n",
    "        res += str(item[0]) + ' = ' + \"%.2f\"%(item[1]) + '\\n'\n",
    "    res = res.rstrip('\\n')\n",
    "    return res"
   ]
  },
  {
   "cell_type": "markdown",
   "metadata": {},
   "source": [
    "###And now:\n",
    "###Constract loader and averager \n",
    "For available parameters see help('instance')"
   ]
  },
  {
   "cell_type": "code",
<<<<<<< HEAD
   "execution_count": 39,
=======
   "execution_count": 12,
>>>>>>> origin/master
   "metadata": {
    "collapsed": true
   },
   "outputs": [],
   "source": [
    "loader  = impr.Load_Image(dview)\n",
    "averager = impr.Avr_Image(dview)"
   ]
  },
  {
   "cell_type": "markdown",
   "metadata": {},
   "source": [
<<<<<<< HEAD
    "###Setting directory to work with "
   ]
  },
  {
   "cell_type": "markdown",
   "metadata": {},
   "source": [
    "####Set date of measurement directory and create folder Figures "
   ]
  },
  {
   "cell_type": "raw",
   "metadata": {
    "collapsed": false
   },
   "source": [
    "cd 'D:\\!Data\\2015_02_06'"
=======
    "###Setting directory to work with \n",
    "####Set date of measurement directory and create folder 'Figures'"
>>>>>>> origin/master
   ]
  },
  {
   "cell_type": "code",
<<<<<<< HEAD
   "execution_count": 40,
   "metadata": {
    "collapsed": false
   },
   "outputs": [],
   "source": [
    "# for mac - delite comment on use      cd '/Users/artemgolovizin/Downloads/2015_08_20'"
   ]
  },
  {
   "cell_type": "code",
   "execution_count": 93,
=======
   "execution_count": 13,
>>>>>>> origin/master
   "metadata": {
    "collapsed": false,
    "scrolled": true
   },
   "outputs": [
    {
     "name": "stdout",
     "output_type": "stream",
     "text": [
<<<<<<< HEAD
      "Current directory D:\\!Data\\2015_07_10\n"
=======
      "Current directory /Users/artemgolovizin/Downloads/2015_07_07\n"
>>>>>>> origin/master
     ]
    }
   ],
   "source": [
<<<<<<< HEAD
    "os.chdir(r'D:\\!Data\\2015_07_10')\n",
=======
    "# smth like 'D:\\!Data\\2015_08_20' for lab and like '/Users/artemgolovizin/Downloads/2015_08_20' for mac\n",
    "os.chdir(r'/Users/artemgolovizin/Downloads/2015_07_07')\n",
>>>>>>> origin/master
    "print('Current directory', os.getcwd());\n",
    "# Create folder 'Figures' for saving individual plot\n",
    "if not os.path.exists('Figures'):\n",
    "    os.makedirs('Figures')\n",
    "    print('Folder Figures has been created')\n",
    "    \n",
    "working_directory = ''\n",
    "folder = ''"
   ]
  },
  {
   "cell_type": "markdown",
   "metadata": {
    "collapsed": false
   },
   "source": [
    "####Set measurement folder "
   ]
  },
  {
   "cell_type": "code",
<<<<<<< HEAD
   "execution_count": 169,
=======
   "execution_count": 14,
>>>>>>> origin/master
   "metadata": {
    "collapsed": false
   },
   "outputs": [
    {
     "name": "stdout",
     "output_type": "stream",
     "text": [
<<<<<<< HEAD
      "Working directory D:\\!Data\\2015_07_10\\05 as 04 but another config\n"
=======
      "Working directory /Users/artemgolovizin/Downloads/2015_07_07/15 as 14 15G/\n"
>>>>>>> origin/master
     ]
    }
   ],
   "source": [
<<<<<<< HEAD
=======
    "folder = '15 as 14 15G/'\n",
    "\n",
    "working_directory = os.path.join(os.getcwd(),folder)\n",
    "print('Working directory', working_directory)\n",
    "\n",
>>>>>>> origin/master
    "dirs = [x for x in os.listdir() if re.match('\\d',x)]\n",
    "x_lbl, y_lbl, xaxis_calib = impr.get_x_calibration(folder, dirs)"
   ]
  },
  {
   "cell_type": "markdown",
   "metadata": {},
   "source": [
    "###Loading images  "
   ]
  },
  {
   "cell_type": "code",
<<<<<<< HEAD
   "execution_count": 170,
=======
   "execution_count": 15,
>>>>>>> origin/master
   "metadata": {
    "collapsed": false
   },
   "outputs": [
    {
     "name": "stdout",
     "output_type": "stream",
     "text": [
<<<<<<< HEAD
      " 600/600 tasks finished after    2 s\n",
      "done\n",
      "Total number of images:  600\n"
=======
      "  15/15 tasks finished after    0 s\n",
      "done\n",
      "\n"
>>>>>>> origin/master
     ]
    }
   ],
   "source": [
    "# downloading images\n",
<<<<<<< HEAD
    "all_data = loader(working_directory,lview)"
   ]
  },
  {
   "cell_type": "code",
   "execution_count": 171,
   "metadata": {
    "collapsed": false
   },
   "outputs": [
    {
     "name": "stdout",
     "output_type": "stream",
     "text": [
      "Rearranging to dictionary is complited\n"
     ]
    }
   ],
   "source": [
    "# rearranging to dictionary\n",
    "dataD = impr.rearrange_data(all_data)"
   ]
  },
  {
   "cell_type": "code",
   "execution_count": 172,
   "metadata": {
    "collapsed": false
   },
   "outputs": [],
   "source": [
    "# sifting(filtering) data - removing empty images  !!! DOES NOTE WORKS NOW\n",
    "#impr.sift(dataD)"
   ]
  },
  {
   "cell_type": "code",
   "execution_count": 173,
   "metadata": {
    "collapsed": false
   },
   "outputs": [],
   "source": [
=======
    "all_data = loader(working_directory,lview)\n",
    "\n",
    "# rearranging to dictionary\n",
    "dataD = impr.rearrange_data(all_data)\n",
    "\n",
    "# sifting(filtering) data - removing empty images  !!! DOES NOTE WORKS NOW\n",
    "#impr.sift(dataD)\n",
    "\n",
    "# averaging data\n",
    "avr_dataD = averager(dataD,lview)\n",
    "\n",
    "# construct new data dictionary without image and calibration atoms number, size and x-axis\n",
    "navrD = impr.mod_avrData(avr_dataD, xaxis_calib, convert_N_atoms, impr.real_size)\n",
    "\n",
    "\n",
>>>>>>> origin/master
    "# for plotting sifted image\n",
    "#imshow(imread('1 от частоты амплитудной модуляции аома верди (5) 3.9W/26ms/2_1.png'))\n",
    "#colorbar()"
   ]
  },
  {
<<<<<<< HEAD
   "cell_type": "code",
   "execution_count": 174,
   "metadata": {
    "collapsed": false
   },
   "outputs": [
    {
     "name": "stdout",
     "output_type": "stream",
     "text": [
      "  60/60 tasks finished after    0 s\n",
      "done\n",
      "\n"
     ]
    }
   ],
   "source": [
    "# averaging data\n",
    "avr_dataD = averager(dataD,lview)"
   ]
  },
  {
=======
>>>>>>> origin/master
   "cell_type": "markdown",
   "metadata": {},
   "source": [
    "### After above, we can analize our data \n",
    "###Automatic construction "
   ]
  },
  {
   "cell_type": "code",
<<<<<<< HEAD
   "execution_count": 175,
=======
   "execution_count": 26,
>>>>>>> origin/master
   "metadata": {
    "collapsed": false
   },
   "outputs": [
    {
<<<<<<< HEAD
     "name": "stderr",
     "output_type": "stream",
     "text": [
      "D:\\!Data\\thulium_python_lib\\image_processing_new.py:408: FutureWarning: comparison to `None` will result in an elementwise object comparison in the future.\n",
      "  if data[k]!=None and type(data[k])!=str:\n"
     ]
    }
   ],
   "source": [
    "shot_typeN = 1\n",
    "# first set of data  \n",
    "param = 'fit1D_x'\n",
    "d1 = impr.get_avr_data_for_plot(avr_dataD, shot_typeN, convert_N_atoms, param,0)\n",
    "d1['fmt']='ro'\n",
    "d1['label']=param\n",
    "#feshbah_calibration(folder, d1)\n",
    "\n",
    "d1['x'] *= 0.5 # to simly modify scale\n",
    "d1['x'] -= 0.5 # to simly modify scale\n",
    "impr.drop_by_number(d1,*range(0,20))\n",
    "#impr.drop_by_number(d1,*range(20,len(d1['x'])))\n",
    "#impr.drop_by_x(d1,140,1600)\n",
=======
     "ename": "AttributeError",
     "evalue": "'dict' object has no attribute 'fit1D_x'",
     "output_type": "error",
     "traceback": [
      "\u001b[0;31m---------------------------------------------------------------------------\u001b[0m",
      "\u001b[0;31mAttributeError\u001b[0m                            Traceback (most recent call last)",
      "\u001b[0;32m<ipython-input-26-af2b7b671a35>\u001b[0m in \u001b[0;36m<module>\u001b[0;34m()\u001b[0m\n\u001b[1;32m     49\u001b[0m     \u001b[0;31m# construct data, param - what value to use\u001b[0m\u001b[0;34m\u001b[0m\u001b[0;34m\u001b[0m\u001b[0m\n\u001b[1;32m     50\u001b[0m     \u001b[0mparam\u001b[0m \u001b[0;34m=\u001b[0m \u001b[0;34m'fit1D_x'\u001b[0m\u001b[0;34m\u001b[0m\u001b[0m\n\u001b[0;32m---> 51\u001b[0;31m     \u001b[0md1\u001b[0m \u001b[0;34m=\u001b[0m \u001b[0mimpr\u001b[0m\u001b[0;34m.\u001b[0m\u001b[0mget_avr_data_for_plot\u001b[0m\u001b[0;34m(\u001b[0m\u001b[0mnavrD\u001b[0m\u001b[0;34m,\u001b[0m \u001b[0mshot_typeN\u001b[0m\u001b[0;34m,\u001b[0m \u001b[0;32mlambda\u001b[0m \u001b[0mx\u001b[0m\u001b[0;34m:\u001b[0m \u001b[0mx\u001b[0m\u001b[0;34m,\u001b[0m \u001b[0mparam\u001b[0m\u001b[0;34m,\u001b[0m\u001b[0;36m0\u001b[0m\u001b[0;34m)\u001b[0m\u001b[0;34m\u001b[0m\u001b[0m\n\u001b[0m\u001b[1;32m     52\u001b[0m     \u001b[0md1\u001b[0m\u001b[0;34m[\u001b[0m\u001b[0;34m'fmt'\u001b[0m\u001b[0;34m]\u001b[0m\u001b[0;34m=\u001b[0m\u001b[0;34m'ro'\u001b[0m\u001b[0;34m\u001b[0m\u001b[0m\n\u001b[1;32m     53\u001b[0m     \u001b[0md1\u001b[0m\u001b[0;34m[\u001b[0m\u001b[0;34m'label'\u001b[0m\u001b[0;34m]\u001b[0m\u001b[0;34m=\u001b[0m\u001b[0mparam\u001b[0m\u001b[0;34m\u001b[0m\u001b[0m\n",
      "\u001b[0;32m/Users/artemgolovizin/GitHub/thulium_python_lib/image_processing_new.py\u001b[0m in \u001b[0;36mget_avr_data_for_plot\u001b[0;34m(avr_dataD, shot_typeN, norm_func, attribute, index)\u001b[0m\n\u001b[1;32m    297\u001b[0m             \u001b[0mprint\u001b[0m\u001b[0;34m(\u001b[0m\u001b[0;34m'avr_dataD has no average image for folderN=%i shot_typeN=%i'\u001b[0m \u001b[0;34m%\u001b[0m \u001b[0;34m(\u001b[0m\u001b[0mk\u001b[0m\u001b[0;34m,\u001b[0m\u001b[0mshot_typeN\u001b[0m\u001b[0;34m)\u001b[0m\u001b[0;34m)\u001b[0m\u001b[0;34m\u001b[0m\u001b[0m\n\u001b[1;32m    298\u001b[0m     \u001b[0md_plot\u001b[0m\u001b[0;34m[\u001b[0m\u001b[0;34m'x'\u001b[0m\u001b[0;34m]\u001b[0m \u001b[0;34m=\u001b[0m \u001b[0marray\u001b[0m\u001b[0;34m(\u001b[0m\u001b[0mks_f\u001b[0m\u001b[0;34m)\u001b[0m\u001b[0;34m\u001b[0m\u001b[0m\n\u001b[0;32m--> 299\u001b[0;31m     \u001b[0md_plot\u001b[0m\u001b[0;34m[\u001b[0m\u001b[0;34m'y'\u001b[0m\u001b[0;34m]\u001b[0m \u001b[0;34m=\u001b[0m \u001b[0mnorm_func\u001b[0m\u001b[0;34m(\u001b[0m\u001b[0marray\u001b[0m\u001b[0;34m(\u001b[0m\u001b[0;34m[\u001b[0m\u001b[0mget_value\u001b[0m\u001b[0;34m(\u001b[0m\u001b[0mavr_dataD\u001b[0m\u001b[0;34m[\u001b[0m\u001b[0mxx\u001b[0m\u001b[0;34m]\u001b[0m\u001b[0;34m[\u001b[0m\u001b[0mshot_typeN\u001b[0m\u001b[0;34m]\u001b[0m\u001b[0;34m,\u001b[0m\u001b[0mattribute\u001b[0m\u001b[0;34m,\u001b[0m\u001b[0mindex\u001b[0m\u001b[0;34m)\u001b[0m \u001b[0;32mfor\u001b[0m \u001b[0mxx\u001b[0m \u001b[0;32min\u001b[0m \u001b[0md_plot\u001b[0m\u001b[0;34m[\u001b[0m\u001b[0;34m'x'\u001b[0m\u001b[0;34m]\u001b[0m\u001b[0;34m]\u001b[0m\u001b[0;34m)\u001b[0m\u001b[0;34m)\u001b[0m\u001b[0;34m\u001b[0m\u001b[0m\n\u001b[0m\u001b[1;32m    300\u001b[0m     \u001b[0;32mtry\u001b[0m\u001b[0;34m:\u001b[0m\u001b[0;34m\u001b[0m\u001b[0m\n\u001b[1;32m    301\u001b[0m         \u001b[0md_plot\u001b[0m\u001b[0;34m[\u001b[0m\u001b[0;34m'yerr'\u001b[0m\u001b[0;34m]\u001b[0m \u001b[0;34m=\u001b[0m \u001b[0mnorm_func\u001b[0m\u001b[0;34m(\u001b[0m\u001b[0marray\u001b[0m\u001b[0;34m(\u001b[0m\u001b[0;34m[\u001b[0m\u001b[0mget_value\u001b[0m\u001b[0;34m(\u001b[0m\u001b[0mavr_dataD\u001b[0m\u001b[0;34m[\u001b[0m\u001b[0mxx\u001b[0m\u001b[0;34m]\u001b[0m\u001b[0;34m[\u001b[0m\u001b[0mshot_typeN\u001b[0m\u001b[0;34m]\u001b[0m\u001b[0;34m,\u001b[0m\u001b[0mattribute\u001b[0m \u001b[0;34m+\u001b[0m\u001b[0;34m'_std'\u001b[0m\u001b[0;34m,\u001b[0m\u001b[0mindex\u001b[0m\u001b[0;34m)\u001b[0m \u001b[0;32mfor\u001b[0m \u001b[0mxx\u001b[0m \u001b[0;32min\u001b[0m \u001b[0md_plot\u001b[0m\u001b[0;34m[\u001b[0m\u001b[0;34m'x'\u001b[0m\u001b[0;34m]\u001b[0m\u001b[0;34m]\u001b[0m\u001b[0;34m)\u001b[0m\u001b[0;34m)\u001b[0m\u001b[0;34m\u001b[0m\u001b[0m\n",
      "\u001b[0;32m/Users/artemgolovizin/GitHub/thulium_python_lib/image_processing_new.py\u001b[0m in \u001b[0;36m<listcomp>\u001b[0;34m(.0)\u001b[0m\n\u001b[1;32m    297\u001b[0m             \u001b[0mprint\u001b[0m\u001b[0;34m(\u001b[0m\u001b[0;34m'avr_dataD has no average image for folderN=%i shot_typeN=%i'\u001b[0m \u001b[0;34m%\u001b[0m \u001b[0;34m(\u001b[0m\u001b[0mk\u001b[0m\u001b[0;34m,\u001b[0m\u001b[0mshot_typeN\u001b[0m\u001b[0;34m)\u001b[0m\u001b[0;34m)\u001b[0m\u001b[0;34m\u001b[0m\u001b[0m\n\u001b[1;32m    298\u001b[0m     \u001b[0md_plot\u001b[0m\u001b[0;34m[\u001b[0m\u001b[0;34m'x'\u001b[0m\u001b[0;34m]\u001b[0m \u001b[0;34m=\u001b[0m \u001b[0marray\u001b[0m\u001b[0;34m(\u001b[0m\u001b[0mks_f\u001b[0m\u001b[0;34m)\u001b[0m\u001b[0;34m\u001b[0m\u001b[0m\n\u001b[0;32m--> 299\u001b[0;31m     \u001b[0md_plot\u001b[0m\u001b[0;34m[\u001b[0m\u001b[0;34m'y'\u001b[0m\u001b[0;34m]\u001b[0m \u001b[0;34m=\u001b[0m \u001b[0mnorm_func\u001b[0m\u001b[0;34m(\u001b[0m\u001b[0marray\u001b[0m\u001b[0;34m(\u001b[0m\u001b[0;34m[\u001b[0m\u001b[0mget_value\u001b[0m\u001b[0;34m(\u001b[0m\u001b[0mavr_dataD\u001b[0m\u001b[0;34m[\u001b[0m\u001b[0mxx\u001b[0m\u001b[0;34m]\u001b[0m\u001b[0;34m[\u001b[0m\u001b[0mshot_typeN\u001b[0m\u001b[0;34m]\u001b[0m\u001b[0;34m,\u001b[0m\u001b[0mattribute\u001b[0m\u001b[0;34m,\u001b[0m\u001b[0mindex\u001b[0m\u001b[0;34m)\u001b[0m \u001b[0;32mfor\u001b[0m \u001b[0mxx\u001b[0m \u001b[0;32min\u001b[0m \u001b[0md_plot\u001b[0m\u001b[0;34m[\u001b[0m\u001b[0;34m'x'\u001b[0m\u001b[0;34m]\u001b[0m\u001b[0;34m]\u001b[0m\u001b[0;34m)\u001b[0m\u001b[0;34m)\u001b[0m\u001b[0;34m\u001b[0m\u001b[0m\n\u001b[0m\u001b[1;32m    300\u001b[0m     \u001b[0;32mtry\u001b[0m\u001b[0;34m:\u001b[0m\u001b[0;34m\u001b[0m\u001b[0m\n\u001b[1;32m    301\u001b[0m         \u001b[0md_plot\u001b[0m\u001b[0;34m[\u001b[0m\u001b[0;34m'yerr'\u001b[0m\u001b[0;34m]\u001b[0m \u001b[0;34m=\u001b[0m \u001b[0mnorm_func\u001b[0m\u001b[0;34m(\u001b[0m\u001b[0marray\u001b[0m\u001b[0;34m(\u001b[0m\u001b[0;34m[\u001b[0m\u001b[0mget_value\u001b[0m\u001b[0;34m(\u001b[0m\u001b[0mavr_dataD\u001b[0m\u001b[0;34m[\u001b[0m\u001b[0mxx\u001b[0m\u001b[0;34m]\u001b[0m\u001b[0;34m[\u001b[0m\u001b[0mshot_typeN\u001b[0m\u001b[0;34m]\u001b[0m\u001b[0;34m,\u001b[0m\u001b[0mattribute\u001b[0m \u001b[0;34m+\u001b[0m\u001b[0;34m'_std'\u001b[0m\u001b[0;34m,\u001b[0m\u001b[0mindex\u001b[0m\u001b[0;34m)\u001b[0m \u001b[0;32mfor\u001b[0m \u001b[0mxx\u001b[0m \u001b[0;32min\u001b[0m \u001b[0md_plot\u001b[0m\u001b[0;34m[\u001b[0m\u001b[0;34m'x'\u001b[0m\u001b[0;34m]\u001b[0m\u001b[0;34m]\u001b[0m\u001b[0;34m)\u001b[0m\u001b[0;34m)\u001b[0m\u001b[0;34m\u001b[0m\u001b[0m\n",
      "\u001b[0;32m/Users/artemgolovizin/GitHub/thulium_python_lib/image_processing_new.py\u001b[0m in \u001b[0;36mget_value\u001b[0;34m(obj, attribute, index)\u001b[0m\n\u001b[1;32m    310\u001b[0m     \u001b[0;34m\"\"\"retruns obj.attibute[index] or obj.attribute if index is not defined\"\"\"\u001b[0m\u001b[0;34m\u001b[0m\u001b[0m\n\u001b[1;32m    311\u001b[0m     \u001b[0;32mif\u001b[0m \u001b[0mindex\u001b[0m \u001b[0;34m!=\u001b[0m \u001b[0;32mNone\u001b[0m\u001b[0;34m:\u001b[0m\u001b[0;34m\u001b[0m\u001b[0m\n\u001b[0;32m--> 312\u001b[0;31m         \u001b[0;32mreturn\u001b[0m \u001b[0mgetattr\u001b[0m\u001b[0;34m(\u001b[0m\u001b[0mobj\u001b[0m\u001b[0;34m,\u001b[0m\u001b[0mattribute\u001b[0m\u001b[0;34m)\u001b[0m\u001b[0;34m[\u001b[0m\u001b[0mindex\u001b[0m\u001b[0;34m]\u001b[0m\u001b[0;34m\u001b[0m\u001b[0m\n\u001b[0m\u001b[1;32m    313\u001b[0m     \u001b[0;32melse\u001b[0m\u001b[0;34m:\u001b[0m\u001b[0;34m\u001b[0m\u001b[0m\n\u001b[1;32m    314\u001b[0m         \u001b[0;32mreturn\u001b[0m \u001b[0mgetattr\u001b[0m\u001b[0;34m(\u001b[0m\u001b[0mobj\u001b[0m\u001b[0;34m,\u001b[0m\u001b[0mattribute\u001b[0m\u001b[0;34m)\u001b[0m\u001b[0;34m\u001b[0m\u001b[0m\n",
      "\u001b[0;31mAttributeError\u001b[0m: 'dict' object has no attribute 'fit1D_x'"
     ]
    },
    {
     "data": {
      "image/png": [
       "iVBORw0KGgoAAAANSUhEUgAAAXcAAAEACAYAAABI5zaHAAAABHNCSVQICAgIfAhkiAAAAAlwSFlz\n",
       "AAALEgAACxIB0t1+/AAADWRJREFUeJzt3V+InXedx/H3Z5NWKGy3SqAXSaSuhm5daKlirLqLIy0Y\n",
       "e2HBhS3xz+IfsCxE9s66Xtjc6LJ3IoUSQi1emQstbHYpLYIOSmlrA/bfNimJWkhSKbbWItKLBL97\n",
       "Maeds9PMnD85c87km/cLAnnm+fWZb37MvPv0OXPSVBWSpF7+atEDSJJmz7hLUkPGXZIaMu6S1JBx\n",
       "l6SGjLskNTQy7km+n+TlJM9usOZ7SU4meTrJzbMdUZI0qXHu3B8A9q13MsntwPuqag/wVeC+Gc0m\n",
       "SZrSyLhX1S+A1zZY8mngB4O1TwDXJLl2NuNJkqYxi2fuO4HTQ8dngF0zuK4kaUqzekE1a479Ow0k\n",
       "aYG2z+AaZ4HdQ8e7Bh/7f5IYfEmaQlWtvYEeaRZxPwocAI4kuQX4Y1W9fKGF0wzYUZKDVXVw0XNs\n",
       "Be7FKvdilXuxatob45FxT/JD4OPAjiSngXuAKwCq6lBVPZTk9iSngD8DX5pmEEnS7IyMe1XtH2PN\n",
       "gdmMI0maBd+huhjLix5gC1le9ABbyPKiB9hClhc9wKUu8/qfdSQpn7lL0mSmbad37pLUkHGXpIaM\n",
       "uyQ1ZNwlqSHjLkkNGXdJasi4S1JDxl2SGjLuktSQcZekhoy7JDVk3CWpIeMuSQ0Zd0lqyLhLUkPG\n",
       "XZIaMu6S1JBxl6SGjLskNWTcJakh4y5JDRl3SWrIuEtSQ8Zdkhoy7pLUkHGXpIaMuyQ1ZNwlqSHj\n",
       "LkkNGXdJasi4S1JDxl2SGjLuktSQcZekhkbGPcm+JCeSnExy9wXO70jycJKnkjyX5IubMqkkaWyp\n",
       "qvVPJtuAF4DbgLPAk8D+qjo+tOYg8I6q+vckOwbrr62q82uuVVWV2f8RJKmvads56s59L3Cqql6s\n",
       "qnPAEeCONWt+B1w9+P3VwKtrwy5Jmq/tI87vBE4PHZ8BPrxmzWHgp0leAv4a+OfZjSdJmsaouK//\n",
       "zGbVN4GnqmopyXuBnyS5qar+tHbh4BHOm5arannsSSXpMpBkCVi62OuMivtZYPfQ8W5W7t6HfRT4\n",
       "NkBV/TrJb4HrgWNrL1ZVB6eeVJIuA4Ob3uU3j5PcM811Rj1zPwbsSXJdkiuBO4Gja9acYOUFV5Jc\n",
       "y0rYfzPNMJKk2djwzr2qzic5ADwCbAPur6rjSe4anD8EfAd4IMnTrPzL4utV9YdNnluStIENfxRy\n",
       "pp/IH4WUpIlt1o9CSpIuQcZdkhoy7pLUkHGXpIaMuyQ1ZNwlqSHjLkkNGXdJasi4S1JDxl2SGjLu\n",
       "ktSQcZekhoy7JDVk3CWpIeMuSQ0Zd0lqyLhLUkPGXZIaMu6S1JBxl6SGjLskNWTcJakh4y5JDRl3\n",
       "SWrIuEtSQ8Zdkhoy7pLUkHGXpIaMuyQ1ZNwlqSHjLkkNGXdJasi4S1JDxl2SGjLuktTQyLgn2Zfk\n",
       "RJKTSe5eZ81Skl8leS7J8synlCRNJFW1/slkG/ACcBtwFngS2F9Vx4fWXAM8Cnyyqs4k2VFVr1zg\n",
       "WlVVmfUfQJI6m7ado+7c9wKnqurFqjoHHAHuWLPms8CPq+oMwIXCLkmar1Fx3wmcHjo+M/jYsD3A\n",
       "u5L8LMmxJF+Y5YCSpMltH3F+/Wc2q64APgDcClwFPJbk8ao6ebHDSZKmMyruZ4HdQ8e7Wbl7H3Ya\n",
       "eKWq3gDeSPJz4CbgbXFPcnDocLmqlicdWJI6S7IELF30dUa8oLqdlRdUbwVeAn7J219Q/TvgXuCT\n",
       "wDuAJ4A7q+r5NdfyBVVJmtC07dzwzr2qzic5ADwCbAPur6rjSe4anD9UVSeSPAw8A/wFOLw27JKk\n",
       "+drwzn2mn8g7d0ma2Gb9KKQk6RJk3CWpIeMuSQ0Zd0lqyLhLUkPGXZIaMu6S1JBxl6SGjLskNWTc\n",
       "Jakh4y5JDRl3SWrIuEtSQ8Zdkhoy7pLUkHGXpIaMuyQ1ZNwlqSHjLkkNGXdJasi4S1JDxl2SGjLu\n",
       "ktSQcZekhoy7JDVk3CWpIeMuSQ0Zd0lqyLhLUkPGXZIaMu6S1JBxl6SGjLskNWTcJakh4y5JDRl3\n",
       "SWpoZNyT7EtyIsnJJHdvsO5DSc4n+cxsR5QkTWrDuCfZBtwL7APeD+xPcsM66/4TeBjIJswpSZrA\n",
       "qDv3vcCpqnqxqs4BR4A7LrDua8CPgN/PeD5J0hRGxX0ncHro+MzgY29JspOV4N83+FDNbDpJ0lRG\n",
       "xX2cUH8X+EZVFSuPZHwsI0kLtn3E+bPA7qHj3azcvQ/7IHAkCcAO4FNJzlXV0bUXS3Jw6HC5qpYn\n",
       "HViSOkuyBCxd9HVWbrjX/STbgReAW4GXgF8C+6vq+DrrHwD+u6oevMC5qirv6iVpAtO2c8M796o6\n",
       "n+QA8AiwDbi/qo4nuWtw/tBU00qSNtWGd+4z/UTeuUvSxKZtp+9QlaSGjLskNWTcJakh4y5JDRl3\n",
       "SWrIuEtSQ8Zdkhoy7pLUkHGXpIaMuyQ1ZNwlqSHjLkkNGXdJasi4S1JDxl2SGjLuktSQcZekhoy7\n",
       "JDVk3CWpIeMuSQ0Zd0lqyLhLUkPGXZIaMu6S1JBxl6SGjLskNWTcJakh4y5JDRl3SWrIuEtSQ8Zd\n",
       "khoy7pLUkHGXpIaMuyQ1ZNwlqSHjLkkNjRX3JPuSnEhyMsndFzj/uSRPJ3kmyaNJbpz9qJKkcaWq\n",
       "Nl6QbANeAG4DzgJPAvur6vjQmo8Az1fV60n2AQer6pY116mqyqz/AJLU2bTtHOfOfS9wqqperKpz\n",
       "wBHgjuEFVfVYVb0+OHwC2DXpIJKk2Rkn7juB00PHZwYfW89XgIcuZihJ0sXZPsaajZ/bDEnyCeDL\n",
       "wMfWOX9w6HC5qpbHvbYkXQ6SLAFLF3udceJ+Ftg9dLyblbv3tQPdCBwG9lXVaxe6UFUdnGJGSbps\n",
       "DG56l988TnLPNNcZ57HMMWBPkuuSXAncCRwdXpDk3cCDwOer6tQ0g0iSZmfknXtVnU9yAHgE2Abc\n",
       "X1XHk9w1OH8I+BbwTuC+JADnqmrv5o0tSdrIyB+FnNkn8kchJWlim/mjkJKkS4xxl6SGjLskNWTc\n",
       "Jakh4y5JDRl3SWrIuEtSQ8Zdkhoy7pLUkHGXpIaMuyQ1ZNwlqSHjLkkNGXdJasi4S1JDxl2SGjLu\n",
       "ktSQcZekhoy7JDVk3CWpIeMuSQ0Zd0lqyLhLUkPGXZIaMu6S1JBxl6SGjLskNWTcJakh4y5JDRl3\n",
       "SWrIuEtSQ8Zdkhoy7pLUkHGXpIaMuyQ1NDLuSfYlOZHkZJK711nzvcH5p5PcPPsxJUmT2DDuSbYB\n",
       "9wL7gPcD+5PcsGbN7cD7qmoP8FXgvk2atY0kS4ueYatwL1a5F6vci4s36s59L3Cqql6sqnPAEeCO\n",
       "NWs+DfwAoKqeAK5Jcu3MJ+1ladEDbCFLix5gC1la9ABbyNKiB7jUjYr7TuD00PGZwcdGrdl18aNJ\n",
       "kqY1Ku415nUy5T8nSdoE20ecPwvsHjrezcqd+UZrdg0+9jZJjP5AknsWPcNW4V6sci9WuRcXZ1Tc\n",
       "jwF7klwHvATcCexfs+YocAA4kuQW4I9V9fLaC1XV2rt7SdIm2TDuVXU+yQHgEWAbcH9VHU9y1+D8\n",
       "oap6KMntSU4Bfwa+tOlTS5I2lCqflEhSNzN/h6pvelo1ai+SfG6wB88keTTJjYuYcx7G+boYrPtQ\n",
       "kvNJPjPP+eZlzO+PpSS/SvJckuU5jzg3Y3x/7EjycJKnBnvxxQWMORdJvp/k5STPbrBmsm5W1cx+\n",
       "sfLo5hRwHXAF8BRww5o1twMPDX7/YeDxWc6wVX6NuRcfAf5m8Pt9l/NeDK37KfA/wD8teu4FfU1c\n",
       "A/wvsGtwvGPRcy9wLw4C//HmPgCvAtsXPfsm7cc/AjcDz65zfuJuzvrO3Tc9rRq5F1X1WFW9Pjh8\n",
       "gr7vDxjn6wLga8CPgN/Pc7g5GmcfPgv8uKrOAFTVK3OecV7G2YvfAVcPfn818GpVnZ/jjHNTVb8A\n",
       "XttgycTdnHXcfdPTqnH2YthXgIc2daLFGbkXSXay8s395l9f0fHFoHG+JvYA70rysyTHknxhbtPN\n",
       "1zh7cRj4+yQvAU8D/zan2baiibs56kchJ+WbnlaN/WdK8gngy8DHNm+chRpnL74LfKOqKkl4+9dI\n",
       "B+PswxXAB4BbgauAx5I8XlUnN3Wy+RtnL74JPFVVS0neC/wkyU1V9adNnm2rmqibs477TN/0dIkb\n",
       "Zy8YvIh6GNhXVRv9Z9mlbJy9+CAr75WAleern0pyrqqOzmfEuRhnH04Dr1TVG8AbSX4O3AR0i/s4\n",
       "e/FR4NsAVfXrJL8Frmfl/TeXm4m7OevHMm+96SnJlay86WntN+dR4F8ANnrTUwMj9yLJu4EHgc9X\n",
       "1akFzDgvI/eiqv62qt5TVe9h5bn7vzYLO4z3/fFfwD8k2ZbkKlZePHt+znPOwzh7cQK4DWDwfPl6\n",
       "4DdznXLrmLibM71zL9/09JZx9gL4FvBO4L7BHeu5qtq7qJk3y5h70d6Y3x8nkjwMPAP8BThcVe3i\n",
       "PubXxHeAB5I8zcqN6Ner6g8LG3oTJfkh8HFgR5LTwD2sPKKbupu+iUmSGvJ/sydJDRl3SWrIuEtS\n",
       "Q8Zdkhoy7pLUkHGXpIaMuyQ1ZNwlqaH/A5XPsQXhTFKZAAAAAElFTkSuQmCC\n"
      ],
      "text/plain": [
       "<matplotlib.figure.Figure at 0x105638190>"
      ]
     },
     "metadata": {},
     "output_type": "display_data"
    }
   ],
   "source": [
    "# find measurement type to automatically plot needed data\n",
    "meas_type = re.findall('\\d+\\s+(\\w+)',folder)\n",
    "meas_type = 'LT' if len(meas_type) ==0 else meas_type[0].upper()\n",
    "\n",
    "# shot_typeN - for now only 1, if there will be calibration - 1 or more\n",
    "shot_typeN = 1\n",
>>>>>>> origin/master
    "\n",
    "# description to add to all_data.txt file\n",
    "description = dict()\n",
    "description['meas_type'] = meas_type\n",
    "description['x_label'] = x_lbl\n",
    "description['y_label'] = y_lbl\n",
    "\n",
    "fig1, ax1 = subplots()\n",
    "\n",
    "if meas_type == 'T':\n",
    "    # construct data with cloud expansion on both coordinates\n",
    "    # first set of data  - Temperature X\n",
    "    d1 = impr.get_avr_data_for_plot(navrD, shot_typeN, lambda x: x, 'fit1D_x',2)\n",
    "    d1['fmt']='ro'\n",
    "    d1['label']='fit1D_x'\n",
    "    #impr.drop_by_number(d1,5)\n",
    "    #impr.drop_by_x(d1,130,160)\n",
    "\n",
    "    # second set of data  - Temperature Y\n",
    "    d2 = impr.get_avr_data_for_plot(navrD, shot_typeN, lambda x: x, 'fit1D_y',2)\n",
    "    d2['fmt']='bo'\n",
    "    d2['label'] = 'fit1D_y'\n",
    "    #impr.drop_by_number(d2,5)\n",
    "    \n",
    "    # fit cloud expansion\n",
    "    fit_func = cloud_expansion\n",
    "    popt_T, pcov_T = curve_fit(fit_func, d1['x'], d1['y'], p0=(d1['y'][0],20,0))\n",
    "    popt_T2, pcov_T2 = curve_fit(fit_func, d2['x'], d2['y'], p0=(d2['y'][0], 20,0))\n",
    "    print('Fit parameters X, Y:\\n' + construct_fit_description(fit_func, list(zip(popt_T,popt_T2))))\n",
    "    \n",
    "    # plot data and fits  ADD T VALUE ON PLOT\n",
    "    ax1.errorbar(**d2)\n",
    "    ax1.errorbar(**d1)\n",
    "    ax1.plot(linspace(min(d1['x']),max(d1['x']),100), fit_func(linspace(min(d1['x']),max(d1['x']),100),*popt_T),'k', label='fit X')\n",
    "    ax1.plot(linspace(min(d2['x']),max(d2['x']),100), fit_func(linspace(min(d2['x']),max(d2['x']),100),*popt_T2),'k', label='fit Y')\n",
    "    \n",
    "    # add information about fits to description\n",
    "    description['fit1D_x'] =  popt_T\n",
    "    description['fit1D_y'] =  popt_T2\n",
    "    description['fit-function'] = fit_func.__name__\n",
    "    \n",
    "else:\n",
    "    # construct data, param - what value to use\n",
    "    param = 'fit1D_x'\n",
    "    d1 = impr.get_avr_data_for_plot(navrD, shot_typeN, lambda x: x, param,0)\n",
    "    d1['fmt']='ro'\n",
    "    d1['label']=param\n",
    "    #impr.drop_by_number(d1,*range(20,len(d1['x'])))\n",
    "    #impr.drop_by_x(d1,130,160)\n",
    "    \n",
    "    # fit_func - which function to use to fit data  here one can put conditions on meas_type to choose fit\n",
    "    popt_T = None\n",
    "    fit_func = exp_decay\n",
    "    popt_T, pcov_T = curve_fit(fit_func, d1['x'], d1['y'], p0=(d1['y'][0], 100,0))\n",
    "    #popt_T, pcov_T = curve_fit(fit_func, d1['x'], d1['y'], p0=(-d1['y'][0], d1['x'][argmin(d1['y'])],0.1,d1['y'][0]))\n",
    "    print('Fit parameters:\\n' + construct_fit_description(fit_func, popt_T))\n",
    "    \n",
    "    # plot data and fits\n",
    "    ax1.errorbar(**d1)\n",
    "    if(fit_func != None):\n",
    "        ax1.plot(linspace(min(d1['x']),max(d1['x']),100), fit_func(linspace(min(d1['x']),max(d1['x']),100),*popt_T),'k', label='fit X')\n",
    "    if fit_func != None:\n",
    "        fit_label = fit_func.__name__ + ' fit:\\n' + construct_fit_description(fit_func, popt_T)\n",
    "        ax1.text(0.05,0.1,fit_label,transform=ax1.transAxes)\n",
    "    \n",
    "    description['fit'] =  popt_T\n",
    "    description['fit-function'] = fit_func.__name__\n",
    "    \n",
    "ax1.set_xlabel(x_lbl)\n",
    "ax1.set_ylabel(y_lbl)\n",
    "ax1.set_title(folder.rstrip(r'\\/ '))\n",
    "ax1.set_ylim(bottom=0)\n",
    "ax1.legend(loc=1)\n"
   ]
  },
  {
<<<<<<< HEAD
   "cell_type": "raw",
   "metadata": {
    "collapsed": false
   },
   "source": [
    "# fit_func - which function to use to fit data\n",
    "fit_func = impr.gaussian\n",
    "#popt_T, pcov_T = curve_fit(fit_func, d1['x'], d1['y'], p0=(d1['y'][0], 100,0))\n",
    "popt_T, pcov_T = curve_fit(fit_func, d1['x'], d1['y'], p0=(-d1['y'][0], d1['x'][argmin(d1['y'])],0.1,d1['y'][0]))\n",
    "print('Fit parameters',*list(zip(inspect.getargspec(fit_func)[0][1:], popt_T)))"
   ]
  },
  {
   "cell_type": "markdown",
   "metadata": {},
   "source": [
    "###Plot data "
   ]
  },
  {
   "cell_type": "markdown",
   "metadata": {},
   "source": [
    "####Main plot (1) "
   ]
  },
  {
   "cell_type": "code",
   "execution_count": 176,
   "metadata": {
    "collapsed": false
   },
=======
   "cell_type": "code",
   "execution_count": 28,
   "metadata": {
    "collapsed": false
   },
>>>>>>> origin/master
   "outputs": [
    {
     "data": {
      "text/plain": [
<<<<<<< HEAD
       "{'center_pos': (22, 22),\n",
       " 'fit1D_x': array([  6.95078618e-01,   2.30899582e+01,   6.50926200e+00,\n",
       "          7.52318125e-04]),\n",
       " 'fit1D_x_mean': array([  6.97957058e-01,   2.30911335e+01,   6.54338518e+00,\n",
       "          7.00919155e-04]),\n",
       " 'fit1D_x_std': array([ 0.03094536,  0.17857997,  0.3545772 ,  0.00111734]),\n",
       " 'fit1D_y': array([  6.09129542e-01,   2.34560647e+01,   6.01918726e+00,\n",
       "          2.46305350e-03]),\n",
       " 'fit1D_y_mean': array([  6.11633577e-01,   2.34557547e+01,   6.01170541e+00,\n",
       "          2.41490012e-03]),\n",
       " 'fit1D_y_std': array([ 0.05893466,  0.33115582,  0.55403509,  0.00182887]),\n",
       " 'fit2D': array([  6.22789849e-01,   2.33352328e+01,   2.30072968e+01,\n",
       "          6.19018288e+00,   6.24254728e+00,   3.92920760e-05]),\n",
       " 'image': array([[  4.78892354e-04,  -1.94030494e-04,   1.87445039e-04, ...,\n",
       "           1.70660118e-04,  -2.87110539e-04,  -1.31468521e-04],\n",
       "        [  7.56526133e-05,  -6.00322091e-04,   2.02302501e-04, ...,\n",
       "           2.99960258e-04,  -1.13559254e-04,  -1.22714671e-04],\n",
       "        [ -5.95904930e-05,   1.11310554e-04,   4.28698200e-04, ...,\n",
       "          -3.05983558e-05,  -1.58774143e-04,  -2.18284316e-04],\n",
       "        ..., \n",
       "        [ -1.57087605e-04,   6.53166440e-04,  -3.38669954e-04, ...,\n",
       "          -3.92076559e-04,  -1.67768943e-04,  -2.45589938e-04],\n",
       "        [  2.31937127e-04,   1.00709549e-04,  -1.67849139e-05, ...,\n",
       "           1.64797413e-04,   3.35698569e-05,   9.61318365e-05],\n",
       "        [ -4.62589378e-05,   1.07857188e-04,   1.07857188e-04, ...,\n",
       "          -9.20360035e-05,   2.37558896e-04,   3.00361844e-05]], dtype=float32),\n",
       " 'image_url': 'folder=0.000000,shot_typeN=1',\n",
       " 'isgood': True,\n",
       " 'total': 0.73720831,\n",
       " 'total_mean': 0.73720831,\n",
       " 'total_std': 0.071439832}"
      ]
     },
     "execution_count": 176,
=======
       "{'center_pos': array([ 423.7,  379.1]),\n",
       " 'fit1D_x': array([  2.51152391e+05,   3.71456978e+02,   1.00712454e+02,\n",
       "          3.99901325e+02]),\n",
       " 'fit1D_x_mean': array([  2.51153015e+05,   3.71446429e+02,   1.00697595e+02,\n",
       "          3.99894540e+02]),\n",
       " 'fit1D_x_std': array([  4.82293037e+03,   8.83033589e-01,   1.28607523e+00,\n",
       "          2.56958054e+01]),\n",
       " 'fit1D_y': array([  2.09118224e+05,   4.08196274e+02,   1.20760069e+02,\n",
       "          9.59337300e+02]),\n",
       " 'fit1D_y_mean': array([  2.09872808e+05,   4.08041542e+02,   1.21381707e+02,\n",
       "          9.50247122e+02]),\n",
       " 'fit1D_y_std': array([  4.07027361e+03,   9.32788737e-01,   5.54354936e+00,\n",
       "          5.37297715e+01]),\n",
       " 'fit2D': array([  1.98874690e+05,   4.09894472e+02,   3.74396554e+02,\n",
       "          1.12930381e+02,   8.19532282e+01,   1.15186385e+01]),\n",
       " 'image_url': array('folder=5.000000,shot_typeN=1', \n",
       "       dtype='<U28'),\n",
       " 'isgood': array(True, dtype=bool),\n",
       " 'total': 288743.09377057909,\n",
       " 'total_mean': 288743.07321665745,\n",
       " 'total_std': 3542.038681452022}"
      ]
     },
     "execution_count": 28,
>>>>>>> origin/master
     "metadata": {},
     "output_type": "execute_result"
    }
   ],
   "source": [
<<<<<<< HEAD
    "avr_dataD[0][1].__dict__"
   ]
  },
  {
   "cell_type": "code",
   "execution_count": 177,
   "metadata": {
    "collapsed": false,
    "scrolled": false
   },
   "outputs": [
    {
     "data": {
      "image/png": [
       "iVBORw0KGgoAAAANSUhEUgAAAZUAAAEZCAYAAABfKbiYAAAABHNCSVQICAgIfAhkiAAAAAlwSFlz\n",
       "AAALEgAACxIB0t1+/AAAIABJREFUeJzt3Xm8XWV97/HPF8IgEIYUGZMwBi8hCkhNRLGEq0JyUNCK\n",
       "EPVSvAZEYwnX2grYXhPRqlAFiQi2DDIUwbS2CG04gtRDvZYkogyBiCTUQBIkzLMMMb/7x/PsnJXD\n",
       "PmevfbKHc/b5vl+v9WLtZw37WYuc9dvPeiZFBGZmZo2wSbszYGZmncNBxczMGsZBxczMGsZBxczM\n",
       "GsZBxczMGsZBxczMGsZBxawKSSskvbvd+WiE4Xgtkt4g6UZJz0iaL+mjkn7c7nxZbQ4qNiiSxkj6\n",
       "V0kv5IfWRwrb9pS0TtLzheWvW5CnPSX9VNKLkn7d34NU0uU5f3sPcLrIy2DycYWkLw/m2I3Vz3cP\n",
       "+lra6DhgJ2BMRBwfEd+PiKPanSmrbVS7M2DD1neAl0l/+AcD/y7p7ohYWthn22ht79prgZ8D04Cj\n",
       "gX+WNCEinqjsIOkwYG+G30O27SSNioi1Lfq6PYAHImJdi77PGiUivHipawG2Bl4B9i2kXQl8La/v\n",
       "CawDNi15vv8NLAWeAx4EPlnYtiPwb8DTwJPAfwKqco79SEFu60LabcCphc+jgF8Bb87523uAPP0W\n",
       "OBO4D3gKuBzYIm/7OPCzPvuvA/YBPgm8mu/P88CP+jn/BcDDwLPAHcBhhW1zgfn5nj4H3AscUti+\n",
       "P9CT78m9wPtzetXvztfyOeBu4Bngusq15O3vA+7K5/s58ObCthXA54F7gN8Dm1S5lgOAW/L/n0eB\n",
       "s3L6FsC3gNV5OR/YPG+bCqwC/gJYAzwCfDxv+1K+hlfzdXyi7z0HjgR+k6/nO/n/9cx2/214Cb/+\n",
       "skHZD1gbEcsLaXeTHi5FD0lamV83/dEA51sDHB0R25ICzPmSDsrbPgesJAWXnUgPrGqljAOA/46I\n",
       "FwfI02eB2yJiSY3rAxDwUdLDax/SNf9NjWMiIv4BuAY4JyJGR8Sx/ey7GDgQ2AH4PvBPkjYvbH8/\n",
       "qeS1HXADcCGApM2AG4Fu4I3AacA1kvYb4LsFfBg4CtgLeAvpIY2kg4HLgFOAMcDfAzfk76mYAUwH\n",
       "to8+JQdJo4GfAAuAXYF9gVvz5r8GJufrPDCvF+/hzsC2wG7ATOA7kraLiDnAV4Hr8nVc3uc7dwT+\n",
       "CTgj5/k3wKG49DkkOKjYYGxD+gVd9DwwOq8/DvwxMB44JKdf09/JImJBRPw2r/8ncDPwJ3nzq6SH\n",
       "1Z4R8YeI+PkAeXq2T9pzlTxJGkf6Jf/FWhdXyRZwYUSsjoingb8FPlLjmCINePKIayLi6YhYFxHn\n",
       "kX7Vv6mwy88iojsH0H8kPZQB3k4qjX09ItZGxE9JJblK3lTluwOYFxGP5mu5EagE7U8Cfx8Rv4jk\n",
       "KlIp4e19jl0dEa9UuZT3AY9ExPkR8WpEvBARi/O2jwJnR8QTkV5Bfgk4sXDsa3n7HyLiJuCFwj2o\n",
       "dh0VXcC9EXF9vn/zSCUkGwIcVGwwXiD9wizajhRYiIgXI+JX+Q/+MeDPgSMlbV3tZJKmS1oo6UlJ\n",
       "T5MeGpWSzd8By4GbJT0o6Yw68rQ9vcHvW6QH2POSKg+rAR/8pBJSxcOkX9QNIekvJS3NrZueJt2/\n",
       "HQu7rCmsvwRsKWmTnIdivgAeKuStv1/rxYfu70lBGFLdxeckPV1ZgLFseK19v69oHPDf/WzbLeet\n",
       "ou89fLJPyeelQr4Gshvp1VlR38/WJg4qNhgPAKMk7VtIO5D0fn8gr/v3JmkL4IfAucBOEbED6VWK\n",
       "APIv37+MiH2AY4C/kPQ/q5z7PmBvScWH0oE5HeB/An8n6Xek9/cAt0uaMUB+x/dZrxz3IrBV4Rp2\n",
       "6XPcgK9hJL0L+CvgwxGxfb7mZ6kd5Mh5GFcIjJACw+oy310ljw8DfxsROxSWbSLiB1X2reZhUsOH\n",
       "/vK6Z+Fz8R5ujEdIgQ+AfC/G9r+7tZKDitUt11v8C3C2pK1yi6r3A1cDSJos6U2SNsl1KfOAn0bE\n",
       "81VOt3lengDWSZpOqscgn+t9kvbND47ngD/kpW+eHiBVNs+RtKWkPwUmkQIWwARSXcKB9L76eR9w\n",
       "fT+XKeAzknaXNIZUP3Bd3nY3cICkAyVtSapYL1pD/w9aSK/k1gJPSNpc0hd5fSmrP4tIv+g/L2kz\n",
       "SVPzdVTyVuu7KypB6RLgU/n/mSRtLenoPsF5IP8G7CrpdElbSBotaXLedi3wN5J2zPUgXyT/G9lI\n",
       "C4A3SzpW0ijgM0DfwG5t4qBigzULeAPwGOmd/6ci4td5297ATaQgsIT0uqVqfUQONLNJrZ2eyvv9\n",
       "qLDLvqSWRc8D/wV8JyJu6ydPM0h1OU+R6kA+FBFP5u95IiIey8sa0q/vJyLi5X7OFaR6oJtJLdKW\n",
       "AV/J53oAOJtUQf0b4Gds+Gv+MmBifp30L1XO3Z2XB0itq35P+sVf/O6+pYPI3/0qKYBPJ9VdXQic\n",
       "mPNU5rs3OH9E/JJUSX8h6b4tA/6syvdXP1HEC8B7c55+l69pat78FVLLtnvyckdO2+CaauWxSp6f\n",
       "IDU8OJf0Y2T/fO5qdT7WYqrekKaBXyBtSvofvioi3i9pLnAy6Q8C4Au5kg5JZ5GaD/4BmB0RN+f0\n",
       "Q4ArgC2BBRFxek7fArgKeCupOeMJEVF8h2tmHS7XNa0EPjrADw5rkVaUVE4n9UGoRK8AzouIg/NS\n",
       "CSgTgROAiaTOaxcV3htfTGqDPgGYIGlaTp9JquybQGoDf04LrsfM2kzSkZK2zz8sv5CTF7YzT5Y0\n",
       "NahIGktqyXMpve9w+2sqeCxwbUS8FhErSC1+pkjaFRhdaKZ4FfCBvH4MqYMYpHfnw2p8IzMbtENJ\n",
       "z4jHSaMnfKCfJs/WYs0uqZxPauVSbDYYwGmS7pZ0maTtc3rfZoKrgN2rpK/O6eT/rgSINHzEs7lS\n",
       "1cw6WER8KSJ2jIhtI+LQiPhFu/NkSdOCiqT3AY9FxJ1sWDK5mNSr9yBSxd43m5UHMzNrrWYOKPkO\n",
       "4BhJXaQK9m0lXRURf1bZQdKlpN69kEog4wrHjyWVUFazYRv0SnrlmPHAI7lp4XYR8VTfjEjy8A1m\n",
       "ZoMQEWX6T21wQNMX4HDgxry+ayH9s8D38/pEUj+DzUklmQfpbZ22CJhCKvEsAKbl9FnAxXl9Bmms\n",
       "oGrfH624zuGwAHPbnYehsvhe+F74XtS8F1HvMa0a+l70tv46V9KB+fNvgVNzzpdKmk9qKbYWmBX5\n",
       "qkjB4wpSv4gFEdGd0y8Drpa0jNSkeKDe0WZm1mQtCSoR0UMaqpuIOHGA/b5KGp20b/ovScOV901/\n",
       "BTi+Ufk0M7ON4x71I09PuzMwhPS0OwNDSE+7MzCE9LQ7A8NZ03vUDwWSIuqtbDIzG+EG8+x0ScXM\n",
       "zBrGQcXMzBrGQcXMzBrGQcXMzBrGQcXMzBrGQcXMzBrGQcXMzBrGQcXMzBrGQcXMzBrGQcXMzBrG\n",
       "QcXMzBrGQcXMzBrGQcXMzBrGQcXMzBqm6UFF0qaS7pR0Y/48RtItkh6QdLOk7Qv7niVpmaT7JR1Z\n",
       "SD9E0pK87YJC+haSfpDTF0rao46MTUWam5eewvrUxly5mdnI0/T5VCT9BXAIMDoijpF0LvBERJwr\n",
       "6Qxgh4g4U9JE4PvA24DdgZ8AEyIiJC0G/jwiFktaAMyLiG5Js4BJETFL0gnAByPidVMK15wTQAo8\n",
       "34qZ2QaG3HwqksYCXcClpHnqAY4BrszrVwIfyOvHAtdGxGsRsQJYDkyRtCspIC3O+11VOKZ4rh8C\n",
       "727SpZiZWQnNfv11PvBXwLpC2s4RsSavrwF2zuu7AasK+60ilVj6pq/O6eT/rgSIiLXAs5LGVMvI\n",
       "qdLyK6Rr/HrLzKx5RjXrxJLeBzwWEXeqnwd5frXVkvmMd4V9zocdZgG/l4iInklS1ziYPQVYJHWv\n",
       "hHn3RixoRX7MzIaa/KyeujHnaFpQAd4BHCOpC9gS2FbS1cAaSbtExKP51dZjef/VwLjC8WNJJZTV\n",
       "eb1veuWY8cAjkkYB20XEU9UyMzctY7pgzIIcUA6FCy6BffMuR50C+0yScGAxs5EoInqAnspnSXPq\n",
       "PUfTXn9FxBciYlxE7AXMAP4jIk4EbgBOyrudBFyf128AZkjaXNJewARgcUQ8CjwnaYokAScCPyoc\n",
       "UznXccCttfK1DbwBYBzMLgQUAC6BfcfDaYO8ZDOzEa+ZJZW+Kq+5vg7MlzQTWAEcDxARSyXNB5YC\n",
       "a4FZ0ds0bRZwBSkgLIiI7px+GXC1pGXAk6TgNaAX4PcAo1Pp6XUqQcfMzOrXkqASEbcBt+X1p4D3\n",
       "9LPfV4GvVkn/JfDmKumvkINSGSfDgw/DtwGeh5er7VMJOmZmVr8R06O+C7oXwuxKfclKmHdKara8\n",
       "XjHomJlZ/Zre+XEokBQBX8ofe0iVUUySusbDaZNh2mLofhi+7Up6M7NkMJ0fR05QcY96M7O6DLke\n",
       "9WZmNrI4qJiZWcOM3NdfG/YcnUpvh5/1dS5mZiOZ61T6MZgbY2Y20rlOxczM2qqVPeqHH78iMzOr\n",
       "i19/lT+Jmx2b2Yji119mZtZWDio1TJK6pkvdc4HpUvekNJS/mZlV4TqVAXjOFTOz+rikMgDPuWJm\n",
       "Vh+XVAZQc84Vtw4zM9uAg8oAas65Upx6M7UOm9qanJmZDU1Ne/0laUtJiyTdJWmppK/l9LmSVkm6\n",
       "My/TC8ecJWmZpPslHVlIP0TSkrztgkL6FpJ+kNMXStqjkdfgOVfMzOrTtJJKRLws6YiIeEnSKOD/\n",
       "STqMNK3weRFxXnF/SROBE4CJwO7ATyRNyFMKXwzMjIjFkhZImpanFJ4JPBkREySdAJxDiSmFy7o3\n",
       "YsEkia4B5lyZJHWNg9lTgEVS90qY50p8Mxupmvr6KyJeyqubA5sCT+fP1TrTHAtcGxGvASskLQem\n",
       "SHoIGB0Ri/N+VwEfALqBY4A5Of2HwIWNvoYcIBbk11vTi9vcOszMbENNbf0laRNJdwFrgJ9GxH15\n",
       "02mS7pZ0maTtc9puwKrC4atIJZa+6atzOvm/KwEiYi3wrKQxzbma13PrMDOzDTW7pLIOOEjSdsCP\n",
       "lVpLXQycnXf5MvBN0musppI0t/CxJ8q0ztqwdddt9J6jh4iemq3DzMyGEW34zBuUlrT+iohnJf07\n",
       "8MfFh7mkS4Eb88fVwLjCYWNJJZTVeb1veuWY8cAjud5mu4h4qp88zB1ExnvobSb8OjVbh5mZDSPR\n",
       "55knaU6/O/ejma2/dqy82pL0BuC9wJ2Sdins9kFgSV6/AZghaXNJewETgMUR8SjwnKQpkgScCPyo\n",
       "cMxJef044NZmXU81bh1mZrahZpZUdgWulLQJKXhdHRG3SrpK0kGkVmC/BU4FiIilkuYDS4G1wKzo\n",
       "HUJ5FnAF6bXSgtzyC+Ay4GpJy4AnaWDLrzLKtA4zMxtJPPR9477EQ+ObWUfx0PdmZtZWLqls3Imn\n",
       "4rG/zKxDDebZ6aBiZmZV+fWXmZm1lYOKmZk1jIe+bybXuZjZCOM6ldZlwk2OzWxYcZ2KmZm1lYNK\n",
       "k02SuqZL3XOB6VL3JKmr3XkyM2sW16k0kedbMbORxiWVJvJ8K2Y20jioNJHnWzGzkcZBpYk834qZ\n",
       "jTQOKk3k+VbMbKRxP5UmmyR1jfd8K2Y2DDV9QElJY4CxEXFPvZlrJ3d+NDOrX1M6P0q6TdK2OaD8\n",
       "ErhU0vkljttS0iJJd0laKulrOX2MpFskPSDp5sqUw3nbWZKWSbpf0pGF9EMkLcnbLiikbyHpBzl9\n",
       "oaQ96rl4MzNrrDJ1KttFxHPAnwJXRcRk4D21DoqIl4EjIuIg4C3AEZIOA84EbomI/Uhzyp8JIGki\n",
       "cAIwEZgGXJTnpAe4GJgZEROACZKm5fSZwJM5/XzgnDIX3TLSVKS5SHOB29avpzHBzMw6TpnOj5tK\n",
       "2hU4HvibnFbqnVlEvJRXNwc2BZ4GjgEOz+lXkgZZPBM4Frg2Il4DVkhaDkyR9BAwOiIW52OuAj4A\n",
       "dOdzzcnpPwQuLJOvlkmDRva0ORdmZi1TpqRyNvBj4MGIWCxpH2BZmZNL2kTSXcAa4KcRcR+wc0Ss\n",
       "ybusAXbO67sBqwqHrwJ2r5K+OqeT/7sSICLWAs/m13RmZtYGNUsqEfFPwD8VPj8IfKjMySNiHXCQ\n",
       "pO2AH0s6os/2kNSS5mdKr6AqesJDz5uZbUAbTtcxKDWDiqS9ScOK7FnYPyLimLJfEhHPSvp34BBg\n",
       "jaRdIuLR/FrtsbzbamBc4bCxpBLK6rzeN71yzHjgEUmjSPU/T/WTh7ll82tmNhJFn1f2kub0u3M/\n",
       "yrz+uh74LanD3jcLy4Ak7Vhp2SXpDcB7gTuBG4CT8m4n5fOT02dI2lzSXsAEYHFEPAo8J2lKrrg/\n",
       "EfhR4ZjKuY4jVfybmVmblKmofzki5g3i3LsCV0rahBS8ro6IWyXdCcyXNBNYQWoAQEQslTQfWAqs\n",
       "BWZFbyeaWcAVpDGzFkREd06/DLha0jLgSWDGIPJpZmYNUrPzo6QTgX1IlfWvVNIj4lfNzVrjDInO\n",
       "j2Zmw8xgnp1lSioHkF45HQGsK6QfUX13MzMbqcqUVB4E9o+IV1uTpcZzScXMrH7NmqN+CbDD4LJk\n",
       "ZmYjSZnXXzsA90v6Bb11KnU1KTYzs5GhTFCptFOuvCcTJYdpMTOzkaXU0PeSdgHeRgomiyPisRqH\n",
       "DClDuk5lwx6sU+nteNSDe/2bWRs1ZT4VSccDfwfclpP+BPirPHzLsDCkg0qR51wxsyGkWUHlHuA9\n",
       "ldKJpDcCt0bEWwad0xZzUDEbwfw2YNCaFVSWAG+p9G7PPeTvjog3DzqnLeagYmaA/8bq1KzOj92k\n",
       "EYa/T6qkPwG4aRD5MzOzDle2ov5DwDvzx59FxL82NVcNNtRLKpOkrnEwewoctQh+vBLm3RuxoN35\n",
       "MhsW6nm95ZJKXZr1+uuciDijVtpQNpSDyiSp61C44BLYt5J2Ciy/HU53YDGrUz9BY1j8cBuCdT/N\n",
       "Cip3RsTBfdKWuE6lMaZL3TfBUX3Tu6B7QcT0duTJbLgZKGg05Idbix74Qy34NbRORdKnSUPO75Mr\n",
       "6ytGAz8fXBatr9GwZbX0bdIw/2ZW44FeJWgcdQrsM0ni3ogF42B2MaAAXAL7dqXJB8s9sIuTV6XS\n",
       "0NQNtpcJOht5HaW/ZyCtCI4RUXUBtiPN9ngdsEde3xP4o/6OGapLusz256PaMg26A6LvMh1uanfe\n",
       "vHgZckuVv+Vaf0Mfhp5q2z+cphWvnHfq9+CaT8LyM+CZT8Ly78E1AVMr+xwAXdOgew7ENOg+ALrK\n",
       "5rER1zGo76kzD32XwTw7+y2pRMSzwLPkia8k7UT6Vb21pK0j4uFaAUvSOOAqYCdSb/x/iIh5eb74\n",
       "k4HH865fiIib8jFnAZ8A/gDMjoibc/ohpIm6tiRN1HV6Tt8if8dbSRN1nRARD9XK21CxEuadAvsU\n",
       "f0mdDA8+nGbaNLMaapX2n4eXq21/AX5fWZ8EWx0Kky9Jc0cBbHcKxDfgmnup+grtdaWIwqsrFknd\n",
       "9b66ashbi6FQL1MiUh0DLANeJE0rvA64r0zEAnYBDsrr2wC/AfYnjSf2F1X2nwjcBWxGKhUtp7fe\n",
       "ZzEwOa8vAKbl9VnARXn9BOC6RkTbVi4HQNd0uGlO/lXS7y8gL15G6DJQKaHWL/wDoOtkWFbcNhOW\n",
       "13OOwXzHybCsntJMw0sqG7s9BvfsrL0D3APsCNyZPx8BXD6Yfxik+ejfk4PK56psPws4o/C5G3g7\n",
       "aWriXxfSZwDfLewzJa+PAh5vxI1pyzJc8unFSwuXWg/sMkGj1g+3Wq/Iam0vGxAGCo5lrqPWOTZY\n",
       "+nmelD4+mhdUfpn/ezewaV6/p+4vSiWPh3KJZQ5pfvq7SfPMb5/3+TbwscIxlwIfAg4Bbimkvwu4\n",
       "Ma8vAXYrbFsOjNnYG9OWZbjk04uXFi5lHtilS/v9/I1tbEmlTL1NmdJMresoe456AtdAJarBPDvL\n",
       "9Kh/WtJo4GfANZIeA14ocdx6krYB/hk4PSJekHQxcHbe/GXgm8DMes5pZiNDzboGaeq9MBlYREpb\n",
       "BExGeomS9Qi16jZrbS9Tb1OmFVqug1mQW5i9rktBrXO0pCVcDWWCyrGkG/ZZ4GPAtsCXyn6BpM2A\n",
       "HwL/GBHXA0Rh6HxJlwI35o+rgXGFw8cCq3L62CrplWPGA49IGgVsFxFPVcnH3MLHnvBAcmbDQs0H\n",
       "drG57yDdG7FgkkQXnDYZpi2G7ofh25WK9lrbyzS4KRMc6a1kv43eZ9b6SvZa56gVNGodrw3zMCg1\n",
       "g0pEvJhX/0BqfVWaJJFeby2NiG8V0neNiN/ljx8kvcICuAH4vqTzgN2BCaT5W0LSc5KmkCrsTwTm\n",
       "FY45CVgIHAfc2s91zK0n7y1T4h+SWccq0Vppo1tIlvkbq1XaqbG9VtCBxgTHWufY2JZw0ScPkuYM\n",
       "lJ+qmvkuFDiM1FrsLuDOvEwnNQG+h1Sncj2wc+GYL5DqRe4HjiqkH0IKPsuBeYX0LYD5pBZqC4E9\n",
       "G/Fe0IsXL61ZylQcD6sWkgNUkJepiK91rwY6RyNawhWXwTw7Sw0oOdwN5WFazIa1WiWN+nuRDzyE\n",
       "ylAdELJk/5BJUtf4AUozZQx0jmr382R4cCHMLu5TNg8NHftL0q0R8W5J50bE5+s56VAzrIPKUOjM\n",
       "ZFZGrQd+le11j303VINKvRpxHQMMnlkqaJTIQ6PnU9lV0juAYyRdR5pLZX0Eiohf1fNFNki1xhwy\n",
       "a5Y6fn0P1JN8oO2lepG73rEutVqQNdtAQWUO8EVShfk3q2w/oik5MrOhocQPmlpNWGttL9MUlwa0\n",
       "7uoYGxtgWxCgywx9/8WIOHvAnYa4Yf36q6hTiv42bNQair3W66ta28vUAXSMVrzKbvB3NGU64Yg4\n",
       "W9KxwJ+QXn/dFhE31jjMGmhjB6ozG4wygyjWen1Va3uZprgdoxUlriFQqqsZVCR9HXgbcA2pXmW2\n",
       "pHdExFnNzpyV+8M2a4Yyva9rvb4q83qr3XUA1liblNjnaODIiLg8Ii4DpgHva262rKK/P+zx6Q/b\n",
       "rGnKVKLnjonLi9urDG/S73akqUhz87v929avp9c4NgyVGaYlgO1Jc5WQ1zu/c8sQ4ZkhrV3KljI2\n",
       "ZniTofC6xhqrTFD5GvArST8lvf46HDizqbmy9Uq1jjFrgrLDo9R6feXXWyNLqR71knYj1asE8Ivo\n",
       "HbdrWBjOrb9GVOsYG3Lq6gFerXWiO+8Oaw3tUd9JhnNQgcYM7WD2Ohs5xEqpc9iw5qDSj+EeVNZz\n",
       "PxVrFv/bsioG8+ws0/rLzDrUJKlrutQ9l9SRcZLU1e482fA2YEV9nvTqvoh4U4vyY2Yt4j5Q1gwD\n",
       "llQiYi1wv6Q9WpQfM2sR94GyZijTpHgMcJ+kxUBlFsiIiGOaly1bzyO0WpO4D5Q1Q5mg8n+rpJWq\n",
       "3Zc0jjTL4075mH+IiHmSxgA/APYAVgDHR8Qz+ZizgE+Qpi+eHRE35/RDSNMZbwksiIjTc/oW+Tve\n",
       "SuqgeUJEPFQmf8OCO4dZk7gPlDVDzYr6SA+1FcCovL6YNC1wGa8Bn42IA4C3A5+RtD+p8+QtEbEf\n",
       "aU75MwEkTQROACaShoO5KM9zD3AxMDMiJgATJE3L6TOBJ3P6+cA5JfNm1rmKw59IPdWGP6k5hIrZ\n",
       "IJQZ+v6TwCnAmIjYR9J+wMUR8e66v0y6HrgwL4dHxBpJuwA9EfE/cillXUSck/fvBuYCDwH/ERH7\n",
       "5/QZwNSI+FTeZ05ELMoNC34XEW/s872d0aTYbDAGaC7sPlA2kKYMfQ98BpgMLASIiAck7TSIzO0J\n",
       "HAwsAnaOiDV50xpg57y+W+V7slWkScJey+sVq3M6+b8rc97WSnpW0piIeKrePJp1kjJTJngIFWu0\n",
       "MkHllYh4pfIWKpcG6uoxKWkb4IfA6RHxfO8brVTjL6nze2CatVCp5sJuBGJNUCao3Cbpr4GtJL0X\n",
       "mAWUnqRL0makgHJ1RFyfk9dI2iUiHpW0K/BYTl8NjCscPpZUQlmd1/umV44ZDzySA9521Uop6v2D\n",
       "gfS6rafsNZgNN2XmQnEjEOtLG/7QGJQyQeVMUmX4EuBU0j/IS8ucPFeyXwYsjYhvFTbdAJxEqlQ/\n",
       "Cbi+kP59SeeRXmtNABbn0sxzkqaQGgqcCMzrc66FwHGkiv/XiYi5ZfJs1gncXNgGI/r80JA0p95z\n",
       "lJlO+A+SriTVhQRwf5QfMOydwP8C7pFUaTF2FvB1YL6kmeQmxfm7lkqaDywF1gKzCt81i9Sk+A2k\n",
       "JsXdOf0y4GpJy0hNimeUzJtZx3JzYWuXMq2/jga+C/x3TtobODWGUQsRt/6ykcZTJlgjNGWUYkm/\n",
       "AY6OiOX58z6kksKwGQ/MQcVGIjcXto3VrKDyi4h4W+GzSPUcbxvgsCHFQcU6Tj3zmHhYexukhgYV\n",
       "SR/Kq+8hDacyP3/+MPBwRHx6sBlttY4OKp4kyTzjojVJozs/vp/e/iiPkeamB3icflqWWBtE9EyS\n",
       "tsqd3A5fBC/nTm497c6aNdeAnRvdXNjapN+gEhEfb2E+bJA8J0aHqlHS8P93G6rK1KnsTeowtSe9\n",
       "QWhYDX3fya+/pkvdN8FRfdO7oHuBh93oDFVeb/n/u7VCs8b+up7U2fFGYF1O87AqQ4Q7uQ1DJes7\n",
       "Bnq95f/vNlSVCSovR8S82rtZO7iT2zBUrO9IpZCpfXep9XrL/99tqKo5nwrwbUlzJR0q6a2Vpek5\n",
       "s1I8J0ZnqjXVr/+/21BVpqRyAGmsrSPoff1F/mxtdi+8dAUs/hSwPbzxGXj8MFh8KbzU7rzZ4NV6\n",
       "vXVvxIJJEl3u3GhDTJmK+geB/SPi1dZkqfE6uaLehrl+OibWVRHvzo3WJM2qqF8C7ECaTMuGI3eE\n",
       "a60G3O/8emufvmN3rX+95blQbIgqU1K5DXgL8AvglZzsJsXDlX/VtlY/97vQsuuoRfDjarMyeuwu\n",
       "a7dmlVTqHk/fhp4yU8taa5SdlfHeNI33IlI9yiJgMtJLLonYUFazpNIJRnpJpdow6KfA8tvhdAeW\n",
       "5hioJOL37pyUAAARD0lEQVSOizZcNKWkIukFejs7bg5sBrwQEdvWn0Vrh1JTy1rD1CqJuOOidbKa\n",
       "/VQiYpuIGB0Ro0n/6P8UuKjMySVdLmmNpCWFtLmSVkm6My/TC9vOkrRM0v2SjiykHyJpSd52QSF9\n",
       "C0k/yOkLJe1R8rpHFD/EWqtWHxN3XLROVqbz43oRsS4irgemlTzke1X2DeC8iDg4LzcBSJoInABM\n",
       "zMdclOduAbgYmBkRE4AJkirnnAk8mdPPJ815b334IdZatYK4Oy5aJyvz+utDhY+bAIdQ8mEUET+T\n",
       "tGe101ZJOxa4NiJeA1ZIWg5MkfQQMDoiFuf9rgI+AHQDx9DbkOCHwIVl8jXS1Gyeag1VK4i746J1\n",
       "sjKtv4rzqqwFVpACwMY4TdKfAXcAn4uIZ4DdgIWFfVYBuwOv5fWK1Tmd/N+VABGxVtKzksZExFMb\n",
       "mb+O4odYa5UJ4vneL8hNjl05bx2jZlBpwrwqFwNn5/UvA98kvcZqKvV2DgPoiRHWLNMPsdZxELfh\n",
       "Sht2qh2UfoOKpP76pwRARJzdz/YBRcRjhe+oDKkPqQQyrrDrWFIJZXVe75teOWY88IikUcB2/ZVS\n",
       "ImLuYPLbEdz7uuUcxG04ij4zhg4QB/o1UEnlRV4/b8rWpFLFjvSWNuoiadeI+F3++EHSMDAANwDf\n",
       "l3Qe6bXWBGBxRISk5yRNARaTBrecVzjmJNJrs+OAWweTp45Xa2pZD+NiZg1SqvOjpG2B2aSAMh/4\n",
       "ZrHEMcBx15Lmtt+RNHbYHNJD6yBSwPotcGpErMn7fwH4BKnu5vSI+HFOPwS4gtR6ZkFEzM7pWwBX\n",
       "AwcDTwIzImJFlXyM6M6PdfEwLrXVE4Rr3U/fbxvCBvPsHDCoSPoj4LPAx0itrr4VEU9vVC7bwEGl\n",
       "tjJjUVmvAe9XraDjkqENEw0NKpK+QXo99Q/ARRHx/MZnsT0cVAbmYVzq4/tlI0Wjg8o64FVSk96+\n",
       "YjgN0+KgMjCPRVUf3y8bKRo69ldE1NXb3oYvD+NSH98vs/45cJiHcamT75dZ/xxUzGNR1cn3y6x/\n",
       "nk/FAM8yWC/fLxsJGt6kuFM4qNShv34TbgZbnfuZWAdr1nTCZhDRM0naKvfNOHwRvJz7ZvQAIyvo\n",
       "eNgbs365pGKlAkJdfTP8692sI/j1Vz8cVDZeXX0zHFTMOsJgnp1u/WWllOmbMUnqmi51zyUFoUlS\n",
       "V6vyZ2ZDg+tUrJRafTOqvB476hTYZ5KEW0WZjRwuqVgptfpmjIPZxfoWgEtg3/FwGgDS1Cuka06V\n",
       "lp8pPXOqtPwK6Zpcn2NmHcIlFSul1myGtV6PTYKtDoXJl8A+edN2p0B8A665t7LzSGpBZtahHFSs\n",
       "tIFmM6z1eqy/kkxXKsmk12PFycTSd0xt7BWU4MBmtlEcVKycGn0z8uuxfYqBo/h6bNgMwjgUApvZ\n",
       "MNbUoCLpcuBo4LGIeHNOGwP8ANgDWAEcHxHP5G1nkWZ+/AMwOyJuzumVmR+3JM38eHpO34I0edhb\n",
       "STM/nhARDzXzmkasGlMS13o9VnYQxsLkVyySutsxWdhQyIPZsBURTVuAd5Gm+l1SSDsX+HxePwP4\n",
       "el6fCNwFbAbsSaoUrvSjWQxMzusLgGl5fRZpAjGAE4Dr+slHNPM6vfRZqtzvA6DrZFgWEJVlJiw/\n",
       "ALoG2udkWLZ+H5gaMDcvPYX1qY3Ke808ePEygpbBPDtbkak9+wSV+4Gd8/ouwP15/SzgjMJ+3cDb\n",
       "gV2BXxfSZwDfLewzJa+PAh5v1I3xshFLtfsNU78H15wKy86AZ06FZd+Da4oBYRp0Fx/mlWU63FTq\n",
       "Oxqw1JUHL146fBnMs7MddSo7R8SavL4G2Dmv7wYsLOy3CtidNPPkqkL66pxO/u9KgIhYK+lZSWMi\n",
       "4qlmZd76UWs8rIiej0PPxwc4xVCodxkKeTAbztpaUR8RIakl48So9yEH0BNuydNYNepcyihT79Ls\n",
       "+g5PwGUjmTb8cTgo7QgqayTtEhGPStoVeCynrwbGFfYbSyqhrM7rfdMrx4wHHpE0Ctiuv1JKRMxt\n",
       "3CVYM9RqQdaQXvs1mgzXyoNZJ4s+Pw4lzan3HO3oUX8DcFJePwm4vpA+Q9LmkvYCJgCLI+JR4DlJ\n",
       "UyQJOBH4UZVzHQfc2ooLsOa4N2LB7XB6F3TPJQ1WuRBmVwJGzV77ZUT0TILF0+Htc+Hw6fD2SbA4\n",
       "l7Rq5sHMBtbsJsXXAocDO0paCXwR+DowX9JMcpNigIhYKmk+sBRYC8yKXFNEauV1Bem99oKI6M7p\n",
       "lwFXS1pGalI8o5nXY803UAfLRtR31CztSFPvhcnAItJ5FwGTkV7Cr0zNavLQ9zY0VRk+v67h9/vR\n",
       "iHOYjRSe+dGGt43stV9miBW37jJrLgcVGzo2stc+taY8xq27zJrNr79seKryeqzMlMfV9jkZHnRl\n",
       "vNnreTrhfjiodKCNqHOZJHWN76+0Y2bruU7FRrRS9SVu3WXWVA4qNnzUqMgvVV/SgJ7/ZtY/BxUb\n",
       "PmoEBPeGN2s/16lYR3F9iVnjuKK+Hw4qI4SnAjZrKAeVfjiomJnVbzDPznYMKGlmZh3KQcXMzBrG\n",
       "QcXMzBrGQcXMzBrGQcXMzBrGQcXMzBqmbUFF0gpJ90i6U9LinDZG0i2SHpB0s6TtC/ufJWmZpPsl\n",
       "HVlIP0TSkrztgnZci5mZJe0sqQQwNSIOjojJOe1M4JaI2I803/yZAJImAicAE4FpwEV5vnqAi4GZ\n",
       "ETEBmCBpWisvwszMerX79VffTjXHAFfm9SuBD+T1Y4FrI+K1iFgBLAemSNoVGB0Ri/N+VxWOMTOz\n",
       "Fmt3SeUnku6QdEpO2zki1uT1NcDOeX03YFXh2FXA7lXSV+d0MzNrg3aOUvzOiPidpDcCt0i6v7gx\n",
       "IkJSw8aQUe8w6QA94bGgzMw2oA3HzxuUtgWViPhd/u/jkv6VNHHSGkm7RMSj+dXWY3n31cC4wuFj\n",
       "SSWU1Xm9mL66n++b29grMDPrLNFneglJc+o9R1tef0naStLovL41cCSwBLgBOCnvdhJwfV6/AZgh\n",
       "aXNJewETgMUR8SjwnKQpueL+xMIxZmbWYu0qqewM/GtuwDUKuCYibpZ0BzBf0kxgBXA8QEQslTQf\n",
       "WAqsBWZF7/DKs4ArSFPDLoiI7lZeiJmZ9fLQ92ZmVpWHvjczs7ZyUDEzs4ZxUDEzs4ZxUDEzs4Zx\n",
       "UDEzs4ZxUDEzs4ZxUDEzs4ZxUDEzs4ZxUDEzs4ZxUDEzs4ZxUDEzs4ZxUDEzs4ZxUDEzs4ZxUDEz\n",
       "s4ZxUDEzs4bpiKAiaZqk+yUtk3RGu/NjZjZSDfugImlT4EJgGjAR+Iik/dubq6FL0tR252Go8L3o\n",
       "5XvRy/di4wz7oAJMBpZHxIqIeA24Dji2zXkayqa2OwNDyNR2Z2AImdruDAwhU9udgeGsE4LK7sDK\n",
       "wudVOc3MzFqsE4JKtDsDZmaWKGJ4P5MlvR2YGxHT8uezgHURcU5hn+F9kWZmbRIRqmf/Tggqo4Df\n",
       "AO8GHgEWAx+JiF+3NWNmZiPQqHZnYGNFxFpJfw78GNgUuMwBxcysPYZ9ScXMzIaOTqioX69MJ0hJ\n",
       "8/L2uyUd3Oo8tkqteyHpY/ke3CPp55Le0o58NlvZjrGS3iZpraQ/bWX+Wqnk38dUSXdKuldST4uz\n",
       "2DIl/j52lNQt6a58Lz7ehmy2hKTLJa2RtGSAfco/NyOiIxbSq6/lwJ7AZsBdwP599ukCFuT1KcDC\n",
       "due7jffiUGC7vD6tE+9FmftQ2O8/gH8DPtTufLfx38T2wH3A2Px5x3bnu433Yi7wtcp9AJ4ERrU7\n",
       "7026H+8CDgaW9LO9rudmJ5VUynSCPAa4EiAiFgHbS9q5tdlsiZr3IiJuj4hn88dFwNgW57EVynaM\n",
       "PQ34Z+DxVmauxcrci48CP4yIVQAR8USL89gqZe7F74Bt8/q2wJMRsbaFeWyZiPgZ8PQAu9T13Oyk\n",
       "oFKmE2S1fTrxYVpvh9CZwIKm5qg9at4HSbuTHigX56ROrWQs829iAjBG0k8l3SHpxJblrrXK3ItL\n",
       "gAMkPQLcDZzeorwNRXU9N4d966+Csg+Dvm2uO/EhUvqaJB0BfAJ4Z/Oy0zZl7sO3gDMjIiSJ1//7\n",
       "6BRl7sVmwFtJzfO3Am6XtDAiljU1Z61X5l58AbgrIqZK2ge4RdKBEfF8k/M2VJV+bnZSUFkNjCt8\n",
       "HkeKqAPtMzandZoy94JcOX8JMC0iBir+Dldl7sMhwHUpnrAjMF3SaxFxQ2uy2DJl7sVK4ImI+D3w\n",
       "e0n/CRwIdFpQKXMv3gH8LUBEPCjpt8CbgDtaksOhpa7nZie9/roDmCBpT0mbAycAfR8MNwB/But7\n",
       "4j8TEWtam82WqHkvJI0H/gX4XxGxvA15bIWa9yEi9o6IvSJiL1K9yqc7MKBAub+PHwGHSdpU0lak\n",
       "StmlLc5nK5S5F/cD7wHI9QdvAv67pbkcOup6bnZMSSX66QQp6dS8/e8jYoGkLknLgReB/93GLDdN\n",
       "mXsBfBHYAbg4/0p/LSImtyvPzVDyPowIJf8+7pfUDdwDrAMuiYiOCyol/118FfiepLtJP74/HxFP\n",
       "tS3TTSTpWuBwYEdJK4E5pFehg3puuvOjmZk1TCe9/jIzszZzUDEzs4ZxUDEzs4ZxUDEzs4ZxUDEz\n",
       "s4ZxUDEzs4ZxULGOJWmdpKsLn0dJelzSjS3Mw+GSDi18PrWeMbUkzZa0VNLVkt4/0PD9ef+PS/p2\n",
       "P9teKPF920i6WNJySb/MY4CdXDa/Zh3T+dGsihdJgwJuGREvA+8lDcfRys5ZRwDPA7fDoDpcfhp4\n",
       "d0Q8kj/XCogDXVuZ676UNILvvpDmFSGNDWdWiksq1ukWAEfn9Y8A15IHx5M0WdJ/SfpVnqhsv5y+\n",
       "laT5ku6T9C+SFkp6a972gqSv5Mmbbpe0U05/o6R/lrQ4L++QtAdwKvDZPPHVYZLmSvpcPmZfST/J\n",
       "5/qlpL2LGZf0XWBvoFvS/ymWQqp9X98Ll7RXzuM9kr5S60blgRPfFhF/U0mLiCci4ty67riNaA4q\n",
       "1ul+AMyQtAXwZtLcMRW/Bt4VEW8lDU3x1Zw+izR/xgHA/yUNOlmxFXB7RBwE/CdwSk6/ADg/D3Vz\n",
       "HHBpRDwEfBc4LyIOjoj/RyotVEoM1wDfzuc6lDSHx3oR8SngEWBqRHyLDUsar/u+nK4++3wnIt6S\n",
       "z1PLAaRh3s0Gza+/rKNFxBJJe5JKKf/eZ/P2wFWS9iU9sCt/D+8kDYlPRNwn6Z7CMa9GROU8vyS9\n",
       "UoM0+OD+eRw1gNGSts7rrxtOX9I2wG4R8aP8Pa/WeWkDfV/FO4AP5vV/BM6pcc4NXo9J+gLwYWCn\n",
       "iBhoPh6z9RxUbCS4AfgGadC8NxbSvwzcGhEfzIHnp4Vt/c2r8lphfR29f0MCpvQNDoWHfqP1930b\n",
       "U1/0a+BASYrkq8BXJY3UOURsEPz6y0aCy4G5EXFfn/Rt6X0t9PFC+s+B4wEkTSS9NqvlZmB25YOk\n",
       "g/Lq88DoPvsqIl4AVkk6Nu+/haQ31PiOYoTq7/uK+/wcmJHXP7bBiaT7+548T4FwB/AVSZvk/bak\n",
       "/wBr9joOKtbJAiAiVkfEhYW0yq/5c4GvSfoVaQj0SvpFwBsl3UcqzdwHPFs8Z5VzzQb+WNLd+bhP\n",
       "5vQbgQ/mxgCH9TnHicDsPLz6z4Fq837X+33FfU4HPpNf3+1WSc8tuvpzMvBHwHJJvyAFr78aYH+z\n",
       "DXjoe7M+8q/0zSLildwi6hZgv4hY2+asNYSko4G9CoHWrGFcp2L2elsD/yFpM9Krn093SkABKDQ0\n",
       "MGs4l1TMzKxhXKdiZmYN46BiZmYN46BiZmYN46BiZmYN46BiZmYN46BiZmYN8/8BM8ogDx1B0swA\n",
       "AAAASUVORK5CYII=\n"
      ],
      "text/plain": [
       "<matplotlib.figure.Figure at 0x1b208780>"
      ]
     },
     "metadata": {},
     "output_type": "display_data"
    }
   ],
   "source": [
    "fig1, ax1 = subplots()\n",
    "#ax1.errorbar(**d2)\n",
    "ax1.errorbar(**d1)\n",
    "\n",
    "if(fit_func != None):\n",
    "    ax1.plot(linspace(min(d1['x']),max(d1['x']),100), fit_func(linspace(min(d1['x']),max(d1['x']),100),*popt_T),'k', label='fit X')\n",
    "\n",
    "ax1.set_xlabel('Magnetic field, G')\n",
    "#ax1.set_xlabel('Frequency, MHz')\n",
    "#ax1.set_xlabel('Current, A')\n",
    "ax1.set_ylabel('Number of atoms')\n",
    "ax1.set_title(folder)\n",
    "ax1.set_ylim(bottom=0)\n",
    "#ax1.legend(loc=4)\n",
    "if fit_func != None:\n",
    "    fit_label = fit_func.__name__ + ' fit:\\n' + construct_fit_description(fit_func, popt_T)\n",
    "    ax1.text(0.05,0.1,fit_label,transform=ax1.transAxes)"
=======
    "navrD[5][1]"
>>>>>>> origin/master
   ]
  },
  {
   "cell_type": "markdown",
   "metadata": {},
   "source": [
    "###Plot of each image - to check if everything is ok "
   ]
  },
  {
   "cell_type": "code",
<<<<<<< HEAD
   "execution_count": 178,
=======
   "execution_count": 256,
>>>>>>> origin/master
   "metadata": {
    "collapsed": false,
    "scrolled": false
   },
   "outputs": [
    {
     "data": {
      "text/plain": [
       "<Container object of 3 artists>"
      ]
     },
<<<<<<< HEAD
     "execution_count": 178,
=======
     "execution_count": 256,
>>>>>>> origin/master
     "metadata": {},
     "output_type": "execute_result"
    },
    {
     "data": {
      "image/png": [
<<<<<<< HEAD
       "iVBORw0KGgoAAAANSUhEUgAAAXcAAAEACAYAAABI5zaHAAAABHNCSVQICAgIfAhkiAAAAAlwSFlz\n",
       "AAALEgAACxIB0t1+/AAAIABJREFUeJztnXt8XVWZ979PTq5t0juWpqRWKVcLM4wUAV9LxxfaJgiO\n",
       "jgoqYFuaARVxYObjzLRyEzrO+JlRrODQN1DAMg5eX1RsAefVUnXKHURoKS2CDU1a2obm0jTJSbLe\n",
       "P/aJOXvvtZqT5Fz3eb6fTz7JXlnZZ+3sfX7nWc961vOIMQZFURQlWpTkegCKoihK+lFxVxRFiSAq\n",
       "7oqiKBFExV1RFCWCqLgriqJEEBV3RVGUCHJUcReROhH5lYi8LCIvici1lj6LRKRdRJ5PfH05c8NV\n",
       "FEVRUqF0hN/HgeuMMS+ISDXwrIj8whizPdDvcWPMxZkZoqIoijJajmq5G2P2GmNeSPzcBWwHai1d\n",
       "JQNjUxRFUcZIyj53EZkLnAE8GfiVAc4Vkd+JyEYROTV9w1MURVHGwkhuGQASLpkfAl9MWPDJPAfU\n",
       "GWO6RaQeeAg4Mb3DVBRFUUaDjJRbRkTKgIeBTcaY20c8ocjrwHuNMW2Bdk1ioyiKMgaMMaN2fR/V\n",
       "chcRAe4BtrmEXURmAm8ZY4yInIX3gdFm6zuWARYKInKzMebmXI8jE0T52kCvr9Apgusbk2E8klvm\n",
       "/cBlwIsi8nyibRUwB8AYsw74GPBZEekHuoFLxzIQRVEUJX0cVdyNMb9h5IiaO4E70zkoRVEUZXzo\n",
       "DtX0sTnXA8ggm3M9gAyzOdcDyDCbcz2ADLM51wPIR0ZcUE3bC4mYKPvcFUVRMsFYtVMtd0VRlAii\n",
       "4q4oihJBVNwVRVEiiIq7oihKBFFxVxRFiSAq7oqiKBFExV1RFCWCqLgriqJEEBV3RVGUCKLiriiK\n",
       "EkFU3BVFUSKIiruiKEoEUXFXFEWJICruiqIoEUTFXVEUJYKouCuKokQQFXdFUZQIouKuKIoSQVTc\n",
       "FUVRIoiKu6IoSgRRcVcURYkgKu6KoigRRMVdURQlgqi4K4qiRBAVd0VRlAii4q4oihJBVNwVRVEi\n",
       "iIq7oihKBFFxVxRFiSAq7oqiKBFExV1RFCWCqLgriqJEEBV3RVGUCKLiriiKEkGOKu4iUicivxKR\n",
       "l0XkJRG51tFvrYjsFJHficgZmRmqoiiKkiqlI/w+DlxnjHlBRKqBZ0XkF8aY7UMdRKQBmGeMOUFE\n",
       "3gf8B3B25oas5BqR+Q1Qdy3UVEJnDzSvNealjbkel6IowxxV3I0xe4G9iZ+7RGQ7UAtsT+p2MXB/\n",
       "os+TIjJFRGYaY/ZlaMxKDvGE/ZxvQtO84dbG40XmowKvKPlDyj53EZkLnAE8GfjVbKA56fhN4Ljx\n",
       "DkzJLiLzG0TqHxH5xGbv+/wGe8+6a/3CDt7xnC9kfpSKoqTKSG4ZABIumR8CXzTGdNm6BI6N4zw3\n",
       "Jx1uNsZsTuX1lcwyOmu8ptJ+luqqzI1QUYoHEVkELBrveUYUdxEpA34EPGCMecjSZQ9Ql3R8XKIt\n",
       "hDHm5jGMUck4Lmu84QtAQNw7e+zn6DqSkaEpSpGRMHo3Dx2LyE1jOc9I0TIC3ANsM8bc7uj2U+CK\n",
       "RP+zgUPqby80RmONN6+Fxl3+tpWvwe5vpX9ciqKMlZEs9/cDlwEvisjzibZVwBwAY8w6Y8xGEWkQ\n",
       "kV3AYWB5xkarZIhDNY726mCLMS9tFJmPZ9VXV3kW++5v6WKqouQXYozVPZ7+FxIxxpigb17JMrYw\n",
       "Rpj2FfjAe2FNUs9VwG+eMWbLglyNVVGUsWtnSguqSjRwLZzCH494QU+XAFXAEeA84NjDORmooijj\n",
       "Ri33IkKk/hHYtCT8m8XtsGCy33JfDWzZCdV/0M1KipI71HJXUsC5cBrzCzt4xx+aAw+fMNymm5UU\n",
       "pVBQcS8qXGGMfX329nkV8GW8x6QfuHwe7LGERyqKkm+ouBcVzWthxemwftZw2/JW6GgBpoX7twLf\n",
       "SzpeDfTPzuwYFUVJByruRcchAzcAMWAAaDdw8BVoPB2ayob7XQnMxW+5LwGem6WJwxQl/9EF1SLC\n",
       "vaBafwD+aQb8gmHRvwD4OjCfYXFvBXbsg6pSmDZ9OLKm7SC0XqECryjpRxdUlRRwLqiWwUK8r2T+\n",
       "D3Bb0vH1QP8MOD4GdyW1Xz0dOm5HffGKkjeouBcVrgXVTodVMDlw/HWgPgafwu+u+RSwe256xqgo\n",
       "SjrQMntFRfNWaIz721bGYX+nt1iazCqg13IOAzyKZ9HfnPj+KDCgz5Ki5BFquRcVdefA5WX+BdUr\n",
       "ymBvlWeBXwRMxEsRdCrutPy2mPilKu6KkkeouBcVNZV23/q/VUE78LOktquBpwL9VgEVjnNXikbR\n",
       "KEr+oOJeVLh87vEy/wIpeMcfxm/lLwVedJy7Hy2/pyj5g06liwqXz707bu9fAdyK51u/FbgP6MTu\n",
       "n+8a1PJ7ipI/qOVeVLh87l91bHboBS4FKoEePHfO872wo8J/jh1ARzswNXwOLb+nKLlAxb2oqKmE\n",
       "l4BXGd6ANAsob4HG2YEdqgaWCHwucI6f98HxFfAC/sXXwzH7a4YLfiiKknlU3IuKP9Z6PvPkfDFX\n",
       "A3vjsOv7UP9xL0Nk1wC8tR/useSRqYzDhUAZw3Hui4EdJZ67Jljw48gkb2esLrIqSjZRcS8qps60\n",
       "L5wunQ2nvw+ayhONMVhRAh9tgR/XDvdd+Rq8ZeDRaeHc7+3Gyz0TXID9w3HwoKYNVpQso+JeVNQY\n",
       "2AI8ht/qri4PL4aunwWLn4WGF5NrpULtrfY498WD3s9D7vuh7ycEfO5N87z6q5qqQFEyiYp7UbGv\n",
       "FO7H87MPcT/wliP9wJQuY75fn9wi8okv2ftWvQ331sC9SRFYywycZTm3LrIqSqZRcS8qTAyOxZ8M\n",
       "bDWwE7tF33UkfA5XrHzvO/zCDnCfwCeAlhTOqyhKOlFxLyomlzrK6QlsiPujZRrjsPuJ8Dma13pF\n",
       "tZPdOCtfg8F32l+zP3D8zX77eRVFSScq7kVFuSOevVz8wg7eccPZwZ7GvLRRZD6e3zzZFz/3J/Zz\n",
       "xwmkDS6F/R8CbhnLFSiKkhoq7hFGZP5NUHeNl6+9Kw69nVjL6XX14AW+B7D7xhORLr4FUZFFh2H1\n",
       "5HAo5GDgr78OLD1pFJehKMoYUHGPKJ6wn/RlOKV02N/99ABccQS+kyTay9qg53XgveGzjMY3vv9h\n",
       "eOXT/lDIV/AqOQWZ4CgaoihKulBxjwC2bIww4zo4uTSweBqDXw5CwyN+lwpA4zfDfvSh36VC9VnQ\n",
       "jbc4O5Su4Aiwy9K317EoqyhKulBxL3A8YQ9nY4SWGvvi6QcrYageo/c94UdfAPVJLpzmDaPbaDRt\n",
       "LvwT4Yibfw30WwV07kj9vIqijAUV94Kn7lp7NsaPWvpuAebGYH1SkezG4z1hP+cyaJqR1H6ZyPyn\n",
       "Uxf4wRKvIlNw5+oAcAnDuWwOdkLbTamdU1GUsaLiXvDUVNpj1DstfR8D1gfamuZ5FnuysA+1j2Yn\n",
       "aYmxzxTq8eeyWTEB9i5I/byKoowFzede8Oytttc0jRPOu77bcY7qMkf7KHaSlrXZ2wOfGayPeRE8\n",
       "iqJkErXcC55KsVvMHyacyMuVfbfLUaxjNNEycYeh0A18mUAuG8eHiaIo6UIt94Jnis3/gldoYyH+\n",
       "SkqXAssD/Va+Bs13QOOucPtoomUGWu0VmoKBMffj5bhRFCWT6Jus4HHleukf8EIfk636R4CdPdCw\n",
       "OTkUMhEt83Rw1+noomViLbDktHDK39cI57J5NabFtBUls4gxjh3p6X4hEWOMcWQfVMaKyHsegHM/\n",
       "DU1JrSuBlj74x3L4BcNiewHwtTZjHp6e/nHYQjKXASvwZhDJXDgIM/d5aYWHWNEKT61UgVcUP2PV\n",
       "ThX3Akekfj/804ywiN8Yh/eXhdMB/OYZY7YsyMxY5jd4BbGHrP/+JfCY5Z5/FPix5QyLnzXmsTMz\n",
       "MTZFKVTGqp0jumVEZD1eXbW3jDGnWX6/CPgJ8IdE04+MMbcF+ymZorrMs4yD1nFlH7zcCTdMGxb9\n",
       "bW2ZjDEP5pwRWdqNNWdNt4EtEg7frHlXpsamKMVGKj73e4FvAd85Sp/HjTEXp2dIyuhwRbr09MOE\n",
       "gD++JMvb/ru3wfXv9ZKFDXEd0D0Ij8bCG57aNIpGUdLEiOJujPm1iMwdoZu6W3LG7keh0eJzj3X7\n",
       "658CUJvdEndtN8IbTXBD7fDs4Y1WGJwKa2L+vmuAC2KWkyiKMgbSES1jgHNF5HfAHuDvjTHb0nBe\n",
       "JSXmzIAz8MIchxJ2LQTerrD3z16Ju0QUTiP0BHK/n/BDx9jUSFCUNJEOcX8OqDPGdItIPfAQcGIa\n",
       "zqukRFWtl1Y3uZTdfODnDhdHdkvc2XO/X+h47uIamqsoaWLcbyZjTGfSz5tE5NsiMs0YE9qOLiI3\n",
       "Jx1uNsZsHu/rK21z7Am72kq8jUnjSeObKbrjsNoSyXPYsX6gKMVDIkhl0bjPk0ooZMLn/jNHtMxM\n",
       "vEgaIyJnAd83xsy19NNQyAwgsrQDHqkJ/2ZpJ7x5qT80cbQbkzKDyMIuOGEi1DLsi98D7DpszBZX\n",
       "jgRFKUoyGQr5X8B5wAwRaQZuAsoAjDHrgI8BnxWRfrxEIpeOdhDKeJgYrEA91B63uUTygyqHRVEZ\n",
       "rMmnKMoYSSVa5pMj/P5O4M60jUgZJe0Hganh9g5HlsZ8oCzuVfV7nOE87+cBb6lbRlHShC5gFRjh\n",
       "nCw9Ezwfe9B/3ZOdrcdjYv8BeHGqP8/71UDrEZH6RzTfjKKMHxX3AsKev+Vjg+HUvkuBHWnPH5M+\n",
       "JnfCXYG2TwG9M+DeYJUoVOAVZfSouBcUtpJ6pSX29ANfy9agxoAtn/tjwL2B2PzRVoNSFGUIzede\n",
       "UNRUhtuqsedR7/hDuG++cGRWuM1lZ2Rv05WiRAm13AsKW+72K4Bv9MANlcNume2t+V2EeqAVrpwB\n",
       "sxjeePWSo292N10pSlRQcS8omtfCBWfCtOnDUSYH22DvWug9O9/i2d309MFk/EU8LgeW9/pdM/my\n",
       "6UpRCg8V98JiAdRNhfVJTSumQOsJMLTJoRA2ilWKP1MkwAbgA7uh4bXC+ZBSlPxFxb2gqP0SrA+s\n",
       "kywrAfMpuDdJ1PM9ysRV93VWizHfr8/uWBQlmuiCakFRPSHc9hh+YQcvymTOF7IypDHhqvuq/nVF\n",
       "SRcq7gVFr6WtEKNMmtd6Sc2SUf+6Mn5E5jeI1D8i8onN3vf5DbkeU65Qt0xBccjA1eLfAPQ7R9/8\n",
       "tYITed7xYtjVv66kB/smv3x3UWYOLZBdQIgs6YfVMX8x7FnA03jVEIdY+Ro8cW0xPtBK8eKlrti0\n",
       "JPybhkeM2ViwazkZywqp5BNVR2BhdXg36gXd0LCl0K3gcN4czS2jjOa5qKmELYQLr+ezizJzqLgX\n",
       "FN2vAn8RbpfthWyZgE6pFTtHey48kkW/a7a9cM3eiZkdX34aJOqWKSC8B+msu2F90vb95a3w9Mp8\n",
       "eaDGSlSn1Mr4cD8XC5+Bk6b4Rf/CXvi5pXbw4meNeexM+/nD4uz9ZmTBtr8fV7TCUytt50j1vOHX\n",
       "UbdM5EksRK6M5kKkLW8OFOuUWhnC9VxMOh6aAnUMFlTY3TJTumxnsM8KVpzuBS78uHa4zTWDrL3V\n",
       "L+zgHX/gdjhZwudtq4CHpiW3iczPmGGm4l5g5G91pfHS2WN/Y+Zv1I+SDVzPRalFu7YDccJumdba\n",
       "cF+wZ1ldP8tLn52Ml53UcwUlW95yon1sk+ZCU9nI510/CxZ/hQy9n1XcC4x89vGNj+atcN/5sD42\n",
       "3LZiAHY/kbsxKbmneSts+KBfLBvjcLg83LcXv7CTOF78Dvu5XbOCmKWtfzac2ASn1iYluzNwP3BP\n",
       "Ur/VQJlj/5DtvDXvytR7WsW9gHD4+DI6tcsetRf7hR2848UXAbfkZEhKHlB3TtgKbiqD8wbCFcgq\n",
       "sFvSkxGZfxPUXePVEuiKQ/MdUNcD/wBsAyYCh4FTgS7gy4Fz9LwbFkz0J7tbLbAvMN41if429lva\n",
       "esrCHxpVp4nMbxzve1rFvaBw+fgyN7XLHhNOHF27Uhy4rOvpsXAFsrexR8u8VQHn3ABNScZD4w3w\n",
       "P/vhOOBnSf0bgRfw9o4McTXe2o9tVmArMR3vhdUTwqUvXw/0WwV0lsC0gNtoYi1Mu4VxvqdV3PMU\n",
       "u6Vx0rvsvWsc7YVEryXKAaDP8eZWioNDNfb2XsIVyK7ALsAXlENTwFXSFIP6Y6Ep0L8JCGYsuAv4\n",
       "iCNaxdY8RTwL/CL8M4IJfXBDub/uQnwqzCEwIwB2n2p/vdRRcc9DPGE/Z3XAz7gaXu63/4Ut50yh\n",
       "0Y+90Hc8wusMSpDwvW6vsT8XRwxcKf6CL92Os1Y7fODV2N04Ewm7ZVznfjtwvAporYCZ+GcEVwPN\n",
       "+6H798mRbvDOh+0fSB8ad5SYinteUncNXF7mf8AuL4N/FvuDns8l9VJFSu2Fvn9bqpubooc7vjzo\n",
       "f97WC7MJPxe/GoSSmN/idW2HcCQhZT92N85+4AeBtkED1wjckdT+eWCaZWzPl4QLwN8FLK0O7tkQ\n",
       "+ahjbJb14lGi4p6XmCr7Q2fisP0tuKG2cErqpUrJIHw/Fn7zTCAcrqaFswsZT9jDi4iw5zCcUhtw\n",
       "UVTAc8DdgbNMlLBLJQ58AjiR4fPuwHOL2IwiwW41X2hpW2jgAH4hP5j4/a2B/v/uuPIKi+vRGoKf\n",
       "GPP4UHHPTyrtD93Scni1EXoiuImpZxCOxPxvnh68CAgburmpUAhb6VOPt4h4Lbzdb3/uL8I/i20B\n",
       "pli21g/iLZAmn/d6PFG2zQpfwe6WmWG5irISeNDSfr5lbH2O/0RfhUj9fv862tQ+aKzwf1BdCXS7\n",
       "TpIyKu55iStOtqwkupuYYgfgnlnh9iV9WBVeNzcVAvbw3YsGHX5mWyA4YRdFHOgyYWGeQLh849fx\n",
       "LPGHAr+7Ds/yts2Q3yTsc5/sWFCdhP/DZCWeC2e1hGcKRuCRpE+OxtXwssAZwKVAJZ5BsxBoGXeq\n",
       "FhX3vKTfcWMHIpybZ/qrsGVW2Ioyr0Jjld81o4U98hG7H732Vlg2yy+WNQ7jpdxgDT/pJRxN8uKg\n",
       "V3c32eL9a8fIKoC/wm+5fwR4GfuHTDCVzbdwW+PxwPHdeLMC20xhR6BvUxnUD8Ie/LOCVUC8xfGC\n",
       "KaPinpf0400ng5ZG8EGKEnur7VZUTy9s/cdo5tOJDq4NdvDmlPB9/SvHWTp74PoJ4ee+Gv+HwxLg\n",
       "ufKwz32m47xdvbCwIpwqu8bxYTKZ8IfJL/EiXpIXSq8COiyvd3AQNsT841uJ3b9eif2D4JmDls6j\n",
       "QsU9L+kz0C7+G96RaI8qlWK3ohYLsADMmWDKvEVlFhBJ11Qh49pgV0/4vl6PJ/DzSdrK3wZHOuCN\n",
       "uXAJUAUcwTNo+gmLrS2L76XAcuOvKby8FVrWwV/9HcyvGX6933dCr8HzqwQITizWAP/bwKcC78lP\n",
       "4w8AGOIdJXZXi22RtFPCH36rgJ5xv9dV3POSKgP3WCyKpYPZH0u2mNJpb++ebttdmAiF1LQEeYNr\n",
       "J7FrQdzGwDFwCuHZ2wuBfmuwhz0uBG7sgIat/lhygGldcFvShqgVXfDkK9D4l2EL+52Wc0+R8KYp\n",
       "8Fw2yawCKgbhczH4XOB3vwwcXwUcFrvlvmvc4TIq7nnJhG68uWiwPcKLiJ2OYOTq4/zCDt7x0uvQ\n",
       "nDN5RO8Ee7vttn4HeA8Ba3waHHIstF5sOUcXXgKx5I1+K+Ow/2GYk1i0HMqBXnetY1ZRZrewW1O8\n",
       "DgCDxaXShefbCTCRsOW/B/uHxr+M+72u4p5jHItQjopLXcEVmQjRvBYajw8vnFY5UitUWT78lNwx\n",
       "4Nhg10d4/Wgf4bj1NcCFrigxS9uEfti6BuqTUnTsfhTOfV9wwxv80SGU1WWedR20sIP5Yq4EOnq9\n",
       "mPvg9bX3wK1JKTJWvgYtG2D5tXBvUu72zyTOExTx24HGXZkIGFBxzyGuEmKw9QFYMStccanlxuyP\n",
       "MjskCpEQXDiFuoftf9HjEAIlN5Tg2GEMvIHfj+6SHdeuzODW/xXAm98z5uVbSJq9eVWbbBve6g/Y\n",
       "z9vliFAoJ2zN7/w9bK8NbyBsXQcNZ4fdQG8a/zW3Oa6tcwB2PAn1c6A6Bl0DsPsJY17WlL+Fja1Y\n",
       "QNM872F5KqIVl9zYYvhFLuiB1VVhi6k/wi6qQqRnAL5fGt5h3D0Ax+NP52ypmgd4Iv5RvCRbf0o/\n",
       "ALwdh3qTJH4/MObly8J/78ogWdUKjYfC1nHzBmi8zN++vBU6A5WYVr7m7QJvI5UNhCILn4GzpofX\n",
       "Dm4FfpHUtgLo7oBzP5HkXopB4ydE5u8c75qSintOcZeWi+5mpdEi22HJX1j8mttzO67ixe5KrNgH\n",
       "e2f779M+YFIc1gee82681Lq2UMFghsRG4M0OYzbZto0GcK3b9OyBrd+yGUsi858OzxbhKIZVCu/J\n",
       "Se+2rx18BIt/f6I9X339NYxzTUnFPae4HkbdfTlMyw1wn6UoeHRdVPmMJ+zzHvSHFVacC1374Fq8\n",
       "TWjgLTReC/ybxX1WDVyO/4PgCuCrOFLwWsIVbbjWbf4kziFhPooRNQ7DyhUhFBuEB5P+HytfA3Ms\n",
       "Vn9UtW2hYVSMKO4ish5v/+5bxpjTHH3W4sUmdQPLjDHPj3dgxYH7YczdmPILz7p6zy+h/uNJ0/Jf\n",
       "psMnqYyFKU3wnppApEsNPFlp34TWZxGpKuwRIrc7XnNCSjuzXes22Xdndr4OTA23t/8BGnYF1pTu\n",
       "xxq071oPGAXGmKN+AR/Aixf6veP3DcDGxM/vA55w9DMjvVYxfsGpD8DSXvhYv/f91AdyPaZ8+oL3\n",
       "3AQr+8CY4a+VffCem3I9tmL8goZB/70Y+lpi4HEDqw3clPj+uIHzDawK9F1q+fujtS85lOvrTjyL\n",
       "DbD0Efj4Zu/7exrc/Za3+K9hWYutv/35vtL3fI9VO0e03I0xvxaRuUfpcjFelViMMU+KyBQRmWmM\n",
       "CRYXVAJ4RTlOvgROKU1McWMw4ZJ0LKZEh7prMuWTVMZChSvvEXbLvZRwFE0ldp/77tehcY5/X8OV\n",
       "A/DmN9I2/DHiimyz1RVIzCBSCogw5qVbvNlGva/qWjre/+nwuc8GmpOO38TLu6niPiIzroOTSwNT\n",
       "3FI4qBt0/oTL9zh+n6QyMuHF025HPpZSHCXusG+v39gP9SVelaSuQdj9uDEvf9AzeNIvdOPHGdlm\n",
       "rSswmoCIxPWl/RrTtaAavNkRzoGSTqonOlKf2hJnFCmdDhF3tSvpwm6tfmYALo35sxh+HndGx9gA\n",
       "LIlZop1+Z8ymM4O9MyV048cd2ZbdcaROOsR9D1CXdHxcoi2EiNycdLjZGLM5Da9fwJQ7PgRd7cVI\n",
       "u7Fn42vX/1HGqbsWLp/nz8h4ZQy+hl+s9xro2otX0DTA4T/AfdWFH+2Uvcg2EVkELBrvedIh7j8F\n",
       "rgEeFJGzgUMuf7sx5uY0vF6EaD9gz2Hevj+348onjuuH0wnHB7c5ioUr6WOg1u5Hn02gtJzAB7pg\n",
       "RWtYxN/+W3iK3EewjJfsRbYljN7NQ8ciMqYymqmEQv4XcB4wQ0SagZtIJHswxqwzxmwUkQYR2YWX\n",
       "03L5WAZSDIT9l10G/hNYl9TrKqBr/AUUI0NX3J7/42dRTm6fJ8Rm2d2Gl1r6Tj8Wnrp0fJt/8pf8\n",
       "CbNMnVSiZYJZdGx9rknPcKKL3X+51PiFHbzjpcdlc2z5ze5HofHTlsiKR3M1ouKhvAu2zAjPLGss\n",
       "fY9Efld1oV2f7lDNGrbV9omOsLIJjsWbYmTODHta1t0ne4mihrfA57MVlU/Y0gfY/3dvH2N3y+wM\n",
       "9FtFtKuEFSYq7lnDttre6+jbq4uFf6Km0u6W2XIqPJgUqWCPOVb8HCVeewHUnePPFzO70u6WWUo4\n",
       "+uUVV8JzJUeouGcN22p7N16O51kMT3tbgMMD2RxZfuOKUjghEILmjjkuVuwJvmwzyMvnwcCXYH1S\n",
       "wY3G4+FAoEjKEBMYjnYe+h7lWgOFiYp71rCttvf3Q0lgE9NKoN+V/LkIsf3fVhyBZZb44vyNOc42\n",
       "7loBtsIVj+EXdvD+bqnj7EcIPLMD0PKz8Y1YSTcq7lnCvto+4VxoCmS8uxuod1hMxYf9/9Z1DCx8\n",
       "b7i3ZtMcxrWj0la4ostxjgHs1ZWCE8u7Y14NAiWfUHHPOkN1HY1ARRvW6utVtiKORUswSsGzSldY\n",
       "0gBrNs1hRlO4YucAngM9QBn26kq2VPo6a8o3VNyzhCdIZwUE6cOOFdUe6w5fJZnmyYEyZpaCxMVM\n",
       "Zw9sIRzGaCtc0XcyXDzX+18O/T+78dZ+Ho3Z66IG0VlTvqHinjVqbw1XYP+7CljeC/cmZffXfO4j\n",
       "M6UJzpoQCNGbAI834W2fVGjeChs+6M+o2RiH3U94PyfPIN+ugXfh30vQCHQPwt5AXpi9gOnFV5FC\n",
       "n9l8RBL5gjP/QiLGGJNS0v0oIvLXbfAjSwL/xZ1Q+ttC2fWWD4hcOAg/tzxLHzLGPFx0hbPdUTGb\n",
       "LMVKFz8L1bPg1Nphi/4Z4BHLmesN/JN4dT+HxP0C4LZnoXS/PrPZYazaqZZ71ujFPk0ujxvzcH0u\n",
       "R1Z4uHKKl0vqG3SigTsq5nXHe7vyVDilyh/t8nHH2Q2wYVc4n0rLjVH+n0YFFfes0doNa6fCyUlt\n",
       "a4FW9VWOmi7sH5QHCa9rrDhdZP7K6IqRMyrG5hgH4lXhjUkdjnMbYOsDgfzqG6L7v4wWRTeFzR0T\n",
       "p8BJeBbTzYnvJyXaldHR3u99MCazFig14XWN9bOg9ivZGln2cUbFxOH6QNt12EstxPFCHpNZBRyK\n",
       "wzmXwaYZ8IPJ3vdzLvNmC0q+o5Z7BrD7QOdWOApzuEqlK06qSoY/KIdYDWxzuGtq3pWFQeUIV1RM\n",
       "Vz+0418M7cCLhAkyG3vI4wuMpvqQkl9kVdy9RE/F4AM9scm/YFV1GnQ5ZknlOnsaNdXYPygvxC50\n",
       "rhw+UaB5K9x3PqxPilNfMQDth+HLk73/BXgW+2fw8rAHU14cwEvGtjBw7ttdJQ41pr0AyLLlvmlJ\n",
       "9BM8Tftfu6EBAAAUwUlEQVQKnFIbsCpr4TeOsKROTRI2asoHsLoUDxn4rvirNl0N7D+YpYHlgNqL\n",
       "YVnMXy1pWQxum2rP6AgwGf/z2YB9J+qRQaybmzSmvRDIgVsm6tO6Se/2prjJb7YlwAvi5Y25O6nv\n",
       "lUCfY+FLcdPxR2BeuL2qH+4KWJt3ARdEOARXTnSIuCOjYz3w9UB7DXa3zP90QeP+bFQfUtJPjnzu\n",
       "UZ7Wxcvsb7Y4cAX+N9BngK9qHplRs/eLsHwD3DttuG1ZG0wqhy1lYbfMpGn280SBEsdajmvNs9JS\n",
       "yHousIFwQZT9D8OB7xZS9SFlmByJe5SndTLosJgGYWFJ2K/57y1ZGlhkSCQTuzwoOnDM9+wfrG0O\n",
       "33HhEV6s7+8nUfbST7lFxAEO9+HbXUrizy/Hb3hcAbRMN2ZjQVUfUobJgbivTNoCHUVcycDKevES\n",
       "dwSIv5LpEUURW8kzkcWOD9bFg1HY3GTfsLS8F76NVwcgebZyuMdLyRD0o/f0w+qAtb8b+4LqHRGe\n",
       "YUefLIv7DcAVZdAS4fSgfdWO9j5o3KP+y0xS5fhgHeixRTCJzG8sLIG3bVi6twI+AvzfpLZGoL0T\n",
       "lkwI+9F39of9645HNtIz7OiTZXF/FS8Eq+MMkfr9Sbve7jDmpVuyO5ZM0TdgjzyI9+huv0zT+w57\n",
       "+8AMOCUWjmA6cAsF5XJwbVj6s8BxE1A/1W6NfzUebt8CrOj2F+xQw6PQybK4nwB8Dzh5pj9qpHF1\n",
       "IjwyAgJfPtUeefD8dG+3X9OM4b6Nl4nMf1oFPl0MVtg/WCfGHBvI3p21oaUFV8lBW1XGSoEVreGc\n",
       "983roPEy/wzgO6/BUxu8ghu6cBoVsizutwEfwlusSQ4VvLwM3rwGyFtxT91na+LwaHlYYAZFd/tl\n",
       "mvIS+wera1mj0DYHN6+FFaf7BfszeCG1QXpKvbj/5P9FuwGehq1PawRM9MnBgmop9ogGk7eLN0ep\n",
       "GA+wAOqSXC2It507uZDEecALjg0hUQ4LzTYHB+G7Mf8mpquAtx2RI4cclnA+ExTsDgP3i9/Nsgro\n",
       "H4S/rfXvUP3bWviXLxizsR41KCJPDsR9AEeoYB6Hq7ky713wTZg0F04pHZ6F/PcAPI/nfhqiEdj3\n",
       "FtZCErpolT4m9sKnAouInwZuxFELdGL2xzge6q6FH9cGGgU+j8UNKHYjqveMrAxVyTk5EPdjHe3l\n",
       "LfkbruZayJr4Ljg5sFC3M+bfDALe8eK90HhEo2UyyaTXYOFp4UXEYwzMlvBs6pisj3B81FTCPwDb\n",
       "gInAYeBUoA24M6nflQNwSBxGVKFdtDJGciDu+7End2qLu1wfuRd4V+a9vpLwG+gUxzmmdMHWG9XX\n",
       "mUmOtACnhdv3D8CeEv9sajXesxgmf42M1+Z5eWF+ltTWiFfg+qLYsOAfOgw1jvhG9QIWCzmIc98P\n",
       "fJdwcqeK2dA0wd8/XxYcXfUou0oI+dHfcpzjULVt442STprXelWIgrOj2ARYMiuc7+eJw16m0uTU\n",
       "zJC/RsYxs7ydpL5gBODNmF/wV0+C3w7az3GkP9OjVPKDLIv7Mwdg8kS4K2A+3AX8dbn9b/JhwbHu\n",
       "HL+wg3e8JE5I3A/iyLBn2VyjpJNEWgLCaQmOvdPufy49xl9ntPF42NEOl88LCOg82JMHRgYljmCE\n",
       "QLc1QEM/NJaH88Xs/kGGx6jkCVkVd2M2HSNycbf9t0ccec3zYcHRWe0mFhbyQezheDumZ3aMCrjS\n",
       "EtTX2v3PFwU/sOfB0k67gPZbFsMzh6PoNQ4/uuUMVV3wP5ug/uNQHYOuAdj9A2Nevizzo1fygRz4\n",
       "3OOOqJhuA42WYryZW3BM3bfq2jzSL2EhN9h3Bn4tjSNXRkelw0VhmxSWT7QL6NI5aR6UE3fR672O\n",
       "kE7bpLfz9YSQq5gXKTkQ98FBr7Zjck7p64CKAdj6xWwtOB4tdj38ms1bofF8aEpywawc8FwwxIan\n",
       "xcY7tLplOv6Q/qtQUqPH8ZzbJpFxxwyysjzon0+4gTKw+OoKvf1gH1YlPzyIr3jJ8lZouXF8Y1AK\n",
       "nRyIe2+pvbZjb2l2Fxxdb6DFXxGpD0yHay+Gy2OBlKgxuKUPNgRCHz8GPDEAl8SGw+4OtkHbTdm5\n",
       "LiXM4ThcXRre3NQZ6LcKewFpgN6KoH9eZP4COPFv0p+QzOUGHCyxGw59R6Dh1xqFpSSTA3EvB+6x\n",
       "tC/OcghaTaU9vHHan8GDSf+X5QugJWEtJVvoAJNLwzHt1+Jd3/1JbSt6YW+ax6+kzqQemFwFF+GP\n",
       "D59GOPb9WewCWhKw6JvmweLr4JTJ6U9I5nIDzsC+nrOz35gf2BzvShGTA3GvdtS/ZDC7IWh7q+0L\n",
       "Z9WB/8m90+D8QXvfQxb/52PA/YEImvWz8iOks1jZfwDap/rDBa/Gc6ttCbS1G1giYQG1uXAqazKT\n",
       "kMwV0tl1DCycZM/0qCh+ciDurvqXJX3ZTaxVKfZap9+z9J1k2ay0BlhsEXfXvzQfQjqLlcmdfpcM\n",
       "eMeft7R9CPuC+C8s53X558eXkMwd0skCaFztD8tdGYfmO8b1gkokGVHcRWQpcDueGXO3MeZfA79f\n",
       "BPwEGFow/JEx5jacuOpfTtiDdXdhxkSxDB7Cv7B7PZ7IB+nD7sKpNLA6sM17u+Pl8iGks1iZEnSu\n",
       "J7DtxC8dgKWl3k7QIXfNocT3ZEOgBTCBhcwhOl8XmX+TP6Hc6GoWONafEqJfP+bzKsXDUcVdRGLA\n",
       "HcD5wB7gaRH5qTEmqGCPG2MuTuUF3fUv667FKu4ZE8V3hqvAf51wzPAqoMvAoxJ2y9im8OcBVxq4\n",
       "J8mq1xwyuWU0edA7Sry6A+uS2q4CXsLvW78G6DHQOBCOotrTAecGLOzR1SxwfTgk/l7FXBmRkSz3\n",
       "s4Bdxpg3AETkQeDDhM1Ti3vCjX2jyfwF0PjB8JQzU/VWq10hb/gX2dqBgUFYE/Cjr8ETdtsUflEH\n",
       "NGzV6IV8webD/kyvV9wjmevwIlLW+ZtZB1wYaLsDOF/g8pJwFNWe99t3NNdbaxaEAwl2H4BzPgl3\n",
       "Jz2jK2+MTkEbJRuMJO6zgeak4zeB9wX6GOBcEfkdnnX/98aYbaMfSt05XtEO3xtl1PVW7Tv7gjnX\n",
       "m++Adzpi3vrx16O8CtiBPRtfTS80xsIfSAe+oW/C/MHuw+44A06aGQ7JdWWetvnRaxLiG4yimuh4\n",
       "X00MuRgdRa8NXBEwmO4ugaVfQq12JUVGEndX0G8yzwF1xphuEanHc2SfaOsoIjcnHW42xmwePqyp\n",
       "HE0FdoeIE36jXHAmzJ3inzo3roYdxhEzHHildcD5MS+tajAb3xsGXlmjPtD8JzhbFKnvtYfkuiIK\n",
       "ey1tfdijqLpcqTQsnxDWotcJV1/wvVCji/JFQGIdc9F4zzOSuO/BS2gxRB2e9f4njDGdST9vEpFv\n",
       "i8g0Y0xb8GTGmJvdL+VKqxv2ubu3Z+9oD79Rpk23ZNIrg9uMF3uebLntxXPLBJmMPUd7fbkxm9QH\n",
       "WpBUxbHu9rQtkq+y/P0qPLedLYrq/XhhlcFNUx2D4SyUJ9ban3vbGvChlK5MKWwSRu/moWMRGdMG\n",
       "yJHE/RngBBGZixcecAnwyeQOIjITeMsYY0TkLEBswj4yzVvhvvNhfZKFvWLA7nN37S79UFvYfTKA\n",
       "t6Eoqewk9wNl4tWfTA5xWwb8h2VsjlxnOFJmKwXAkSN4D0mAnjgsKQ/HuW8jbAi4JrYzgdOBS/GM\n",
       "hR48K/xAOfwomIVylt36fzFwTtuOWkVxc1RxN8b0i8g1eE9fDLjHGLNdRK5K/H4d3n77z4pIP54K\n",
       "Xjq2odRe7Bd28I4XX0TIMnZtz5bqsPtkkeP1OiwRMKuAfYF+V+G2mLps4RZKQdB8hz1mfPcP4L4P\n",
       "BopQGygZxZ6GLmA+nj00ZI3PBzYF+jXNg6X9duv/YsLlAvekeG2KkkKcuzFmE4GnMiHqQz/fib/G\n",
       "1xipeVfq7Ydq4NvA4/i3jveWhd0nMbzSfr4t4sBO7G6ZdxB+UzUPJBZOk86hubELGWNeusUWMw7y\n",
       "NBz6S/8z0B6HxeXQmnSGZcAtcWgMPHNXAh2D8J8l4XDKDvzuwcV4m+lsbpmJwK2BUd+epqtXioEc\n",
       "7FB14crc11MWXjx9a46XAyR5N+mVeOkAgqJfiRf0E6qf6XDL/BK4OTCGb7ZrbuzoYYsZ93zioSLU\n",
       "5fDhXvhJ0oLo8lYorYFpZeGcNdPFHU65k+HncBtw0FHIOjiDBOhyxOsrSpg8EvdOR8a7rjI46+7A\n",
       "NDnxlcw9eOkDXsQv+gstbVfjxa/bonNs6Qc0N3bx4HL5xV6Fhj3+jXfHfA8OAH/GsNXdij2/Onii\n",
       "HnwOuxypLZYE2lYA7W+iKCmSR+JeZWA3/unwbqCizC/s4C2IfobwVLaacA6RiZa2u/B88ba88jsC\n",
       "ObM1N3Zx4drN2rPHmI2+OEmRhWJ3+f3RUVRjZuD4LrwlKxuT8L8XlgG3dYwweEX5E3kk7rY6BBVA\n",
       "vyNm+DDhN9Xbln6uiJZK4A387po4QAs0vKK7S4sVV0ZGW/qImkG71f2XPbCi3W+ULMOzvoN0Yfe5\n",
       "Hybsc5/SNapLUYqaPBL3skH7ppIljtQGwU0la/DeFEFcbsoe4L2EfZ2/nWrMf2tu7CLFlZHR/gFf\n",
       "acsyB0zrgafW+RdrD02FhbFw37eBDfgXZRvx3IZBNPmckjp5JO7Vf8SaOKwCL0lTclbTz+NZNra+\n",
       "wc0jHXiRLXcnta0EJvTDmsD1rwEudMwUlGIh9Ypgna8DU8Ptbx2Es66C9TOG267o9+Llz2TYQt+O\n",
       "VzDEtkGuIdCmyeeU0ZFH4t7lKDhw2MDeQObFfXhulCBxA6eLf/PI2cBzBi6V4bYDnTBJsPpsKrXw\n",
       "gZIiLTfAisBi//JWqJDwOtF3Sr3Y9WRX4vUMZ8oOUj4IDY+pe1AZK3kk7j2OXC8DAj+09A96Tq4D\n",
       "BvvgmVJ4MGn6+2EDvwi6dmpgsW3eS8IaU5QRSbhwVobTV5/0gP0vgkb+17G7EgG6O415TN2DypjJ\n",
       "I3E/tsteH/JVR/8JhDP6xfvgqa/6fZ3lXcBcywl2w4oZYatLI2OU1LGnr17qeF/Zgl2OGFgxGE67\n",
       "0fKN9I1SKUbySNw7e+xx5//s6N9NOJpgcSy4McXblGIT99I98NQ/prZwpiijoWcwtYyjABMNPHWr\n",
       "ZhZV0k0eibsrBO3gXLg6Fs6wZ0uiNMGS68Ud2pb6wpmijIZpu2HJaeFZaNC/vgoYPKzVlZRMkDfi\n",
       "nvBfLghYMBvgxL+H06vDGfZs4t4fWgwdXWiboqSDIy2w8DT77ueg4D/j8jsqyrjIG3FP5Gi/DJqS\n",
       "wscaL4NX9sLn5sHnAn/xWOB4FdBhDT1QC13JLrbZ4vJWeLsC7pzmb9M1HiUziDGpFFtKwwuJGGOM\n",
       "s9aq5xvfFEyoASx+Fo6rDez2a4M9Bs6ePmwFvdQKO1eqRa7kA56xMicQRQPBNn1elZEYSTtd5I3l\n",
       "7k7YNKULnrKEmwE8q28UJS85ymxRn1ElK+SRuLsSNnUd0TeKoijK6MijrfbNa6Fxl79Nt1wriqKM\n",
       "hbzxuXt9wn5KdbUoilLMjNXnnlfiriiKovgZq3bmkVtGURRFSRcq7oqiKBFExV1RFCWCqLgriqJE\n",
       "EBV3RVGUCKLiriiKEkFU3BVFUSKIiruiKEoEUXFXFEWJICruiqIoEUTFXVEUJYKouCuKokQQFXdF\n",
       "UZQIouKuKIoSQVTcFUVRIoiKu6IoSgQZUdxFZKmIvCIiO0XkHxx91iZ+/zsROSP9w1QURVFGw1HF\n",
       "XURiwB3AUuBU4JMickqgTwMwzxhzAvA3wH9kaKx5jYgsyvUYMkWUrw30+gqdqF/fWBnJcj8L2GWM\n",
       "ecMYEwceBD4c6HMxcD+AMeZJYIqIzEz7SPOfRbkeQAZZlOsBZJhFuR5AhlmU6wFkmEW5HkA+MpK4\n",
       "zwaak47fTLSN1Oe48Q9NURRFGSsjiXuq1bODxVuzU3VbURRFsVI6wu/3AHVJx3V4lvnR+hyXaAsh\n",
       "IpEWfRG5KddjyBRRvjbQ6yt0on59Y2EkcX8GOEFE5gItwCXAJwN9fgpcAzwoImcDh4wx+4InMsYE\n",
       "rXtFURQlQxxV3I0x/SJyDfAoEAPuMcZsF5GrEr9fZ4zZKCINIrILOAwsz/ioFUVRlKMixkTaU6Io\n",
       "ilKUpH2HapQ3PY10bSKySETaReT5xNeXczHOsSAi60Vkn4j8/ih9CvK+wcjXV8j3DkBE6kTkVyLy\n",
       "soi8JCLXOvoV5D1M5foK9R6KSKWIPCkiL4jINhH5qqPf6O6dMSZtX3ium13AXKAMeAE4JdCnAdiY\n",
       "+Pl9wBPpHEOmvlK8tkXAT3M91jFe3weAM4DfO35fkPdtFNdXsPcuMf5jgT9P/FwN7IjKe28U11ew\n",
       "9xCYkPheCjwB/K/x3rt0W+5R3vSUyrVBOCy0IDDG/Bp4+yhdCvW+ASldHxTovQMwxuw1xryQ+LkL\n",
       "2A7UBroV7D1M8fqgQO+hMaY78WM5niHZFugy6nuXbnGP8qanVK7NAOcmpk0bReTUrI0u8xTqfUuV\n",
       "yNy7RHTbGcCTgV9F4h4e5foK9h6KSImIvADsA35ljNkW6DLqezdSKORoifKmp1TG+BxQZ4zpFpF6\n",
       "4CHgxMwOK6sU4n1LlUjcOxGpBn4IfDFh4Ya6BI4L6h6OcH0Few+NMYPAn4vIZOBREVlkjNkc6Daq\n",
       "e5duyz2tm57yjBGvzRjTOTS9MsZsAspEZFr2hphRCvW+pUQU7p2IlAE/Ah4wxjxk6VLQ93Ck64vC\n",
       "PTTGtAM/B84M/GrU9y7d4v6nTU8iUo636emngT4/Ba4AONqmpzxkxGsTkZkiIomfz8ILNQ36zgqV\n",
       "Qr1vKVHo9y4x9nuAbcaY2x3dCvYepnJ9hXoPRWSGiExJ/FwFXAA8H+g26nuXVreMifCmp1SuDfgY\n",
       "8FkR6Qe6gUtzNuBRIiL/BZwHzBCRZuAmvKiggr5vQ4x0fRTwvUvwfuAy4EURGRKGVcAciMQ9HPH6\n",
       "KNx7OAu4X0RK8AzuDcaY/zde3dRNTIqiKBFEy+wpiqJEEBV3RVGUCKLiriiKEkFU3BVFUSKIirui\n",
       "KEoEUXFXFEWJICruiqIoEUTFXVEUJYL8f28S2CFORoP2AAAAAElFTkSuQmCC\n"
      ],
      "text/plain": [
       "<matplotlib.figure.Figure at 0x1b210208>"
=======
       "iVBORw0KGgoAAAANSUhEUgAAAXUAAAEACAYAAABMEua6AAAABHNCSVQICAgIfAhkiAAAAAlwSFlz\n",
       "AAALEgAACxIB0t1+/AAAFxhJREFUeJzt3XuQnXd93/H317pYslbGlc3YFpYqx8FT8DrcHNcOxN42\n",
       "YF1KgXSGAgOG2qOdZhpfGrck+CIsGmjSdlKMrEna+sKYQJxCmFJ76istojQ1Box8ka+xx44EtmVc\n",
       "37RIwivp2z+eI3R2dY60e27Ps8++XzOePc/vnD3nyw/NZ3/n9/ye3xOZiSSpHo4ouwBJUu8Y6pJU\n",
       "I4a6JNWIoS5JNWKoS1KNGOqSVCOHDPWIuDEitkfEQy2e+1cRsS8ilvSvPEnSdBxupP5lYNXkxohY\n",
       "BrwP+Nt+FCVJ6swhQz0zvwe83OKp/wj8fl8qkiR1bNpz6hHxQeAnmflgH+qRJHVh7nReHBFHAVdQ\n",
       "TL38srmnFUmSOjatUAdOAVYAD0QEwEnAfRFxZma+0PzCiHBTGUnqQGZ2PFieVqhn5kPA8fuPI+Jp\n",
       "4F2Z+VKvCxuUiFifmevLruNwrLO3ZkKdM6FGsM5e63ZAfLgljTcD/xc4NSK2RcQFk17iaFySKuSQ\n",
       "I/XM/Nhhnv+V3pYjSeqGV5TCprILmKJNZRcwRZvKLmCKNpVdwBRsKruAKdpUdgFTtKnsAgYh+nWT\n",
       "jIjImTCnLklV0m12OlKXpBox1CWpRgx1SaoRQ12SasRQl6QaMdQlqUYMdUmqEUNdkmrEUJekGjHU\n",
       "JalGDHVJqhFDXZJqxFCXpBox1CWpRgx1SaoRQ12SasRQl6QaMdQlqUYMdUmqEUNdkmpkbr8/IGJ4\n",
       "DSy7BBYvgB27YduGzC239ftzJWk2OmyoR8SNwD8CXsjM0xtt/wF4P/A68BRwQWa+evDvDq+Bs78E\n",
       "1/3qgdbRUyKGMdglqfemMv3yZWDVpLa7gNMy823AE8DlrX912SUTAx2K4+UXT7dQSdLhHTbUM/N7\n",
       "wMuT2u7OzH2Nw3uBk1r/9uIFrduHFk6jRknSFPXiROmFQJuplB27W7eP7erB50qSJunqRGlEXAm8\n",
       "npl/0foV3/1/8LaX4LeXwAjFf2ufgq3XdvO5klQXETFCEY69eb/MnMqHrgBu3X+itNH2z4BR4Lcy\n",
       "86AReURkZkZxsnT5xcWUy9gu2HqtJ0klqbX92dnp73c0Uo+IVcCngXNbBfokvw55BuQ8yPHiuN10\n",
       "jSSpG4cdqUfEzcC5wHHAduBqitUu84GXGi+7JzP/xaTfSzhtPZx9JVw378Azo+Nwzxcyt3yuV/8j\n",
       "JKkuuh2pT2n6paM3jkhY9SLcftzBz65+MfP2N/blgyVpBus21Pu8TcDQvOm1S5K60edQHxufXrsk\n",
       "qRt9DvVtG4s59GZrx4t2SVKv9XVOvbGk8WpYdlEx5TI2Dts2epJUklqr9InSbgqTpNmo4idKJUmD\n",
       "ZKhLUo0Y6pJUI975SJJqpK+h7p2PJGmw+jz94p2PJGmQ+hzq3vlIkgapz6HunY8kaZD6fKJ02wb4\n",
       "J6fDW5cWH7UHePg573wkSf3R99UvcEzA55uOL+z/R0rSLDWAE6U3njix7cYTPVEqSf3hiVJJqhFP\n",
       "lEpSjfR7P/UNMPrkxLa1T3miVJL6YxD7qa8p5tCHFhYj9K3XejWpJLXmfuqSVCPupy5J+iVDXZJq\n",
       "5JChHhE3RsT2iHioqW1JRNwdEU9ExF0RcUz/y5QkTcXhRupfBlZNavsMcHdmngr8z8axJKkCDhnq\n",
       "mfk94OVJzR8Abmo8vgn4UB/qkiR1oJM59eMzc3vj8Xbg+B7WI0nqQlcbejUWorddExkR65sON2Xm\n",
       "pm4+T5LqJiJGgJGevd/h1qlHxArg1sw8vXH8GDCSmc9HxInAdzLz77X4PdepS9I0lbFO/RbgU43H\n",
       "nwK+1emHS5J665Aj9Yi4GTgXOI5i/vyzwH8Hvg4sB54B/mlmvtLid9v+tSm2Dlh2SbGL447dsG2D\n",
       "WwdI0gzcJqAI9LO/NPGG1KNPwj2XGuySZrsZuE3AsksmBjoUx944Q5K6VUKoe+MMSeqXEkL9lcVt\n",
       "2ocGW4ck1U8Job474bJJbb/XaJckdaOri486M/9YeBVYB8wB9gKvAfOPG3wtklQvJYT6vKVwQ4v2\n",
       "1UsHXook1UwJ0y8L9k2vXZI0VWXMqbf5zHbtkqSpKiFIdzwLvzOp7Z832iVJ3ShhTn3x4/BrK+Cj\n",
       "wAJgN3AOsO2xwdciSfVSQqhv2wCbT4G/bLqqdO1TsPXawdciSfUy8L1fiueG1xTbAgwthLFdsPVa\n",
       "932RpBm4oZckqb0ZuKGXJKlfDHVJqhFDXZJqxFCXpBox1CWpRgx1SaoRQ12SasRQl6QaMdQlqUYM\n",
       "dUmqkY5DPSIuj4iHI+KhiPiLiDiyl4VJkqavo1CPiBXAKPDOzDyd4majH+1dWZKkTnS69e5rwDhw\n",
       "VETsBY4CftqzqiRJHelopJ6ZLwF/AmwFngVeycxv97IwSdL0dTRSj4hTgH8JrABeBb4RER/PzK9N\n",
       "et36psNNmbmpszIlqZ4iYgQY6dn7dbKfekR8BHhfZq5tHJ8PnJWZv9v0minvCVzcNGPZJbB4AezY\n",
       "Dds2eNMMSbNRt/updzqn/hiwLiIWUtxk9L3ADzp5oyLQz/4SXNd0e7vRUyKGMdglaXo6CvXMfCAi\n",
       "vgL8CNgH/Bj4L52VsOwSOP9X4apGOXsojn96MWCoS9I0lH47u4j3Pg1/fwV8oan1SuDeZzK/fXJf\n",
       "ipOkiipr+qWH5i2FlUwcqa8Efry01LIkaQaqQKiPA3dy8Eh9vJxyJGkGq8DeL/PmTgx0KI7nVeAP\n",
       "jiTNLBUI9QWvT69dktROBUJ999j02iVJ7VQg1LdthNFJE+hrx4t2SdJ0lL6ksXjt8NWw7CIYmgdj\n",
       "47BtY+aWz/WlMEmqsG6XNFYi1CVJhW6zswLTL5KkXqnkskE3+JKkzlQu1N3gS5I6V7lQd4MvSepc\n",
       "BUN979LW2wbseVNJBUnSjFHBUD/i77be4Ou+5aWWJUkzQAVDfe+81iP1vfNKKkiSZowKLmmc226D\n",
       "L0Ndkg6jgqF+5C9at8/fvf9RxPDVEat/FvHhV4qfw1cPqjpJqrIKTr/sfAJ4Z5v2xpYCZ6+D6+Yc\n",
       "eG50XWPJo1sLSJrVKjhSf/YWGN07sW3tXnj21uLxSZdNDHQojk/6vcHUJ0nVVcGR+rKz4fw5sA6Y\n",
       "A+wFPjkHnj2reH5oUevfGxoaUIGSVFkVDPXFC+Aciv+abVxY/NzR5ttFu3ZJmj0qGIQ7drduH9tV\n",
       "/Ny1r1ji2OyKRrskzW4VHKlv2wCjp0zc+2XtU7D12uLxkl2wcmji9Mwq4JGdg69Vkqql41CPiGOA\n",
       "64HTgAQuzMzvd1tQ5pbbIoaBNRfD0MJihL712gObee18As5558HTM59/otvPlqSZruObZETETcB3\n",
       "M/PGiJgLLMrMV5ue78tNMopdHM+8Hm488UDrBc/BD9e6i6Okma6UOx9FxBuAzZn5K/0q7NCfP7wG\n",
       "lrcZyUvSzFVWqL8d+M/AI8DbgPuASzNzZ9NrSr2dnTfakDQTdZudnc6pz6W46vOizPxhRFwDfAb4\n",
       "7KTi1jcdbsrMTR1+3rR4ow1JM0VEjAAjPXu/DkfqJwD3ZObJjeP3AJ/JzPc3vaa0kXrE6jvg9pUH\n",
       "P7PmjszbVg++IkmamlJG6pn5fERsi4hTM/MJ4L3Aw50W0XuLF8CfAt8FFgK7gHMp5uAlqb66Wad+\n",
       "MfC1iJgPPAVc0JuSeuFvl8Jm4L82tY022iWpvjpe0njYNy51+uV9u+HuIw9+5rxfZN61YPAVSdLU\n",
       "dJudFdwmoBeOnt+6fXGbdkmqhwpuE9ALbe6z0dTukkdJdVTTUH9tJ1y5aOJt8a5otLe7KvXCX4sY\n",
       "9qpUSTNaTefUh6+GN6+D4TkHNv3ashf+5g8zt3wu4rz74K4Wd1c6777Mu84YdL2StF9ZFx9VWhHc\n",
       "w8Dui2BoHoyNw7aNB253d9SprX+zXbskzQy1HKkfTsSqvXBHi5PEq/Zl3jHn4HZJGgxXv3RkX7S+\n",
       "0ca+Sv4RkqSpquX0y+HN3wcr5xx8o40HvXuSpBltlob62Bjc+YaDV8eMjZVVkST1wiwN9Re/CI9d\n",
       "BevmHhipP76naJekmWtWniiF/csel7VZHSNJ5SjlJhlTeuOKh3ov+IdBUq+5Tr0kRaCfvQ6ua1oC\n",
       "ObqucSMOg11SKRypdyhi1atwx9EHP7Pq1cw7jhl8RZLqwHXqpRk6qk37osHWIUkHGOod+3mbrzg7\n",
       "+/PVR5KmwFDv2AuvFXdTarYW2P5qGdVIEniitAvHzoPzmXhV6ieBrfNKLUvSrGaod+wNCedQ/Deh\n",
       "vYxiJAlw+qULY+PTa5ek/jPUO7ZtI4xOCvC140W7JJXDdepd8IpSSb3mNgE15x8OaXYp9eKjiJgT\n",
       "EZsj4tZu3ketFYG+ZB3MPQ7mvKH4uWRd0S5JB+tqpB4RlwHvAhZn5gcmPedIvUsRZ+yEdyyE65pa\n",
       "R4HNuzJ/1OaKVkkzWWkj9Yg4CVgDXA8Y3n3xxkmBDsXxGxeWUY2k6utm+uWLwKcBbwHXN0PTbJc0\n",
       "23V08VFEvB94ITM3R8TIIV63vulwU2Zu6uTzZq+xvRSXq7Zql1QDjQwd6dn7dTKnHhH/luIa+T3A\n",
       "AuBo4JuZ+cmm1zin3qWI074Kv/HxiVMwa4F7vpb58CfKqktS/5S+pDEizgX+dWb+414WpkIR7Ms/\n",
       "DENzihH61m8Y6FJ9VeXOR2432yeNADfEJU2JFx9JUoV45yNJ0i+59a56ImJ4DSy7BBYvgB27YduG\n",
       "zC23lV2XNNsY6upaEeinXgdvXVr8k9oDLDw9YnjUYJcGy+kX9cCSfwOLlk5sW7QUlrjxmDRgjtTV\n",
       "A/EWWA58vqntSmDrW0sqSJq1DHX1wNBCWAlcxYHpl5XAA+5RIw2Yoa4e2LMP7pwDX2hquxIYd18g\n",
       "acCcU1cPRE4MdCiOw4vSpAEz1NUDR/5keu2S+sVQVw+8/njr9vHHBluHJENdPbBtA4w+ObFt7VOw\n",
       "9dpy6mkvYvjqiNU/i/jwK8VPbw2oenHvF/VEcQHS8ouLlTBju2DrtVW78KgI8LOvhOvmHWgdHYd7\n",
       "vuDNvFUVpW+92/aNDXVVTMTqn8Hlx8FdHFh6eR7wRy9m3v7GcquTClXZeleaAcaPhjtpsfTy6JIK\n",
       "knrOkbpmjYjVCbe3eGY1mbdX5t+qm6PNbo7UpSlbuI+WiwMWVuYiqSLQT/wKHH0sLAQCOPGMiOFP\n",
       "GuyaCkNds8iuPcD8Nu0VsegaOOVY+E9Nbb9zLLx2DWCo67Bc0qhZZOs3YHRS29pGe1UsWTEx0KE4\n",
       "PnbF4GvRTORIXbNG5sOfiDgNWF3hG3kvOAL+Nwev0DnSAZimxBOlUoVEjOyBd7fYHO2v92ZuqtQg\n",
       "LOK0r8LyCv+BnJm8R6lUKwteb7052oLXy6imnSLQz/o43D4fvjGn+HnWx4t2lclQlypl0e427bsG\n",
       "W8fhvOkjcMOkthuAkz5SRjU6oFJf5yTteBr4O23aK2Rxm+wYqlymzLZ1/x2P1CNiWUR8JyIejogt\n",
       "EXFJLwuTZqdn18GFz01su+A5ePaz5dTTTpsvFG3by1EE+pnXw+0r4evnFj/PvL5or6eOT5RGxAnA\n",
       "CZl5f0QMAfcBH8rMRxvPe6JU6sDM2Bzt3N3wniMnzv9fAfz1LzK/u6CsuiaLOO8+uOqdB68m+vx9\n",
       "mXedUW51rZV2RWlmPg8833g8FhGPAkuBRzt9T0nQCPBKhfjBcgtsfResA+YAe4GtQD5Ubl2Txanw\n",
       "dWBjU9tFAKeWU097B6aJutOTE6URsQJ4B3BvL95PUtW99Fn4+bMT237+HLxUsf3p9x01MdChOM6j\n",
       "yqimnSLQz/5SMT3Una5PajSmXv4KuDQzxyY9t77pcFNmbur28ySVL3PLbRHDo7C70tNEsLjNNMbi\n",
       "yqz8i4gRWL4B9pwC53T9fl2FekTMA74JfDUzvzX5+cxc3837S6qumTFN9Po+ivmhVu2VkJmbIs7b\n",
       "CYsoribu7lRkN6tfgmJh6iOZeU1XVUhSX4yNFVfkNrui0V4l+045eJqoM92M1N8NfAJ4MCI2N9ou\n",
       "z8w7ui9LknrhxS/CY1fBurkHTug+vqdor5Khnq0Y6mb1y//BK1IlVVjmls9FDAM7L4KheTA2Dts2\n",
       "Vu+etK/3bPm3G3pJUskizhuHX59brPsP3NBLkma0fc/ASop1/90x1CWpdM9fCl9+Cf6w63cy1CWp\n",
       "ZMXy0B+eD2u6XmjinLokVYg3yZAk/ZKhLkk1YqhLUo0Y6pJUI4a6JNWIoS5JNWKoS1KNGOqSVCOG\n",
       "uiTViKEuSTViqEtSjRjqklQjhrok1YihLkk1YqhLUo0Y6pJUI4a6JNVIx6EeEasi4rGI+JuI+INe\n",
       "FiVJ6kxHoR4Rc4CNwCrgrcDHIuItvSxsUCJipOwapsI6e2sm1DkTagTrrJpOR+pnAk9m5jOZOQ78\n",
       "JfDB3pU1UCNlFzBFI2UXMEUjZRcwRSNlFzAFI2UXMEUjZRcwRSNlFzAInYb6m4BtTcc/abRJkkrU\n",
       "aahnT6uQJPVEZE4/nyPiLGB9Zq5qHF8O7MvMf9f0GoNfkjqQmdHp73Ya6nOBx4HfAp4FfgB8LDMf\n",
       "7bQQSVL35nbyS5m5JyIuAu4E5gA3GOiSVL6ORuqSpGrqyxWlVb0wKSKeiYgHI2JzRPyg0bYkIu6O\n",
       "iCci4q6IOKaEum6MiO0R8VBTW9u6IuLyRt8+FhHnlVzn+oj4SaNPN0fE6grUuSwivhMRD0fEloi4\n",
       "pNFeqT49RJ2V6dOIWBAR90bE/RHxSET8UaO9an3Zrs7K9OWkeuc06rm1cdy7/szMnv5HMR3zJLAC\n",
       "mAfcD7yl15/TYW1PA0smtf174Pcbj/8A+OMS6vpN4B3AQ4eri+Jir/sbfbui0ddHlFjn1cBlLV5b\n",
       "Zp0nAG9vPB6iOP/zlqr16SHqrFSfAkc1fs4Fvg+8p2p9eYg6K9WXTZ9/GfA14JbGcc/6sx8j9apf\n",
       "mDT5rPIHgJsaj28CPjTYciAzvwe8PKm5XV0fBG7OzPHMfIbi/+QzS6wTDu5TKLfO5zPz/sbjMeBR\n",
       "iusoKtWnh6gTKtSnmbmz8XA+xaDtZSrWl4eoEyrUlwARcRKwBri+qbae9Wc/Qr3KFyYl8O2I+FFE\n",
       "jDbajs/M7Y3H24HjyyntIO3qWkrRp/tVoX8vjogHIuKGpq+NlagzIlZQfLu4lwr3aVOd3280VaZP\n",
       "I+KIiLifos++k5kPU8G+bFMnVKgvG74IfBrY19TWs/7sR6hX+czruzPzHcBq4Hcj4jebn8zi+07l\n",
       "6p9CXWXW/GfAycDbgeeAPznEawdaZ0QMAd8ELs3MHRMKqVCfNur8K4o6x6hYn2bmvsx8O3AScE5E\n",
       "/INJz1eiL1vUOULF+jIi3g+8kJmbaf0Nouv+7Eeo/xRY1nS8jIl/aUqTmc81fv4M+G8UX2O2R8QJ\n",
       "ABFxIvBCeRVO0K6uyf17UqOtFJn5QjZQfJ3c/9Ww1DojYh5FoP95Zn6r0Vy5Pm2q86v766xqn2bm\n",
       "q8D/AN5FBfuyRZ1nVLAvfwP4QEQ8DdwM/MOI+HN62J/9CPUfAW+OiBURMR/4CHBLHz5nWiLiqIhY\n",
       "3Hi8CDgPeIiitk81XvYp4Fut32Hg2tV1C/DRiJgfEScDb6a4+KsUjX+A+/02RZ9CiXVGRAA3AI9k\n",
       "5jVNT1WqT9vVWaU+jYjj9k9ZRMRC4H3AZqrXly3r3B+UDaX/+8zMKzJzWWaeDHwU+F+ZeT697M8+\n",
       "ndldTXEm/0ng8n58Rgc1nUxxFvl+YMv+uoAlwLeBJ4C7gGNKqO1miitzX6c4H3HBoeoCrmj07WPA\n",
       "yhLrvBD4CvAg8EDjH+LxFajzPRTzlfdTBNBmim2iK9WnbepcXaU+BU4Hftyo8UHg0432qvVluzor\n",
       "05ctaj6XA6tfetafXnwkSTXi7ewkqUYMdUmqEUNdkmrEUJekGjHUJalGDHVJqhFDXZJqxFCXpBr5\n",
       "/ye9YscxLJYgAAAAAElFTkSuQmCC\n"
      ],
      "text/plain": [
       "<matplotlib.figure.Figure at 0x107d52710>"
>>>>>>> origin/master
      ]
     },
     "metadata": {},
     "output_type": "display_data"
    }
   ],
   "source": [
    "# for each picture\n",
    "d3 = dict()\n",
    "d3['x'],d3['y'] = impr.constract_data(dataD, shot_typeN, 'fit1D_x',0)\n",
    "\n",
    "fig2, ax2 = subplots()\n",
    "ax2.errorbar(fmt='o',**d3)"
   ]
  },
  {
   "cell_type": "markdown",
   "metadata": {},
   "source": [
    "###Save plots to folder 'Figures' (if in outter directory) and data to binary file 'all_data.txt' and readable json file 'all_data.json'"
   ]
  },
  {
   "cell_type": "code",
<<<<<<< HEAD
   "execution_count": 179,
=======
   "execution_count": 272,
>>>>>>> origin/master
   "metadata": {
    "collapsed": false
   },
   "outputs": [
    {
     "name": "stdout",
     "output_type": "stream",
     "text": [
      "Figure and data saved!!!\n"
     ]
    }
   ],
   "source": [
    "if folder != '':\n",
<<<<<<< HEAD
    "    fig1.savefig(os.path.join('Figures',folder.rstrip(r'\\/ ')+'--N_atoms.eps'))\n",
=======
    "    fig1.savefig(os.path.join('Figures',folder.rstrip(r'\\/ ')+'.png'))\n",
>>>>>>> origin/master
    "    try:\n",
    "        with open('all_data.txt', 'rb') as handle:\n",
    "            res_dict = pickle.loads(handle.read())\n",
    "    except FileNotFoundError:\n",
    "        res_dict = {}\n",
    "    except EOFError:\n",
    "        res_dict = {}\n",
<<<<<<< HEAD
    "    descript = 'Description: [0],[1] - x,y data, [2] - ' + getattr(fit_func,'__name__','None') + ' fit to this data'\n",
    "    res_dict[folder.rstrip(r'\\/ ')]=(d1['x'], d1['y'],popt_T,descript)\n",
    "    with open('all_N_atoms_data.txt', 'wb') as handle:\n",
=======
    "    res_dict[folder.rstrip(r'\\/ ')]={'description':description,'data':navrD}\n",
    "    with open('all_data.txt', 'wb') as handle:\n",
>>>>>>> origin/master
    "        pickle.dump(res_dict, handle)\n",
    "    with open('all_data.json', 'w') as outfile:\n",
    "        json.dump(res_dict, outfile, cls=impr.JsonCustomEncoder, indent=4)    \n",
    "    print('Figure and data saved!!!')\n",
    "    \n",
    "# to later read json file run following two lines\n",
    "#with open('all_data.json', 'r') as infile:\n",
    "#        ddata = json.load(infile)"
   ]
  },
  {
   "cell_type": "code",
   "execution_count": 180,
   "metadata": {
    "collapsed": false
   },
   "outputs": [
    {
     "data": {
      "text/plain": [
       "'None'"
      ]
     },
     "execution_count": 180,
     "metadata": {},
     "output_type": "execute_result"
    }
   ],
   "source": [
    "getattr(fit_func,'__name__','None')"
   ]
  },
  {
   "cell_type": "code",
   "execution_count": 181,
   "metadata": {
    "collapsed": false
   },
   "outputs": [
    {
     "ename": "AttributeError",
     "evalue": "'NoneType' object has no attribute '__name__'",
     "output_type": "error",
     "traceback": [
      "\u001b[1;31m---------------------------------------------------------------------------\u001b[0m",
      "\u001b[1;31mAttributeError\u001b[0m                            Traceback (most recent call last)",
      "\u001b[1;32m<ipython-input-181-2d7f5df109b1>\u001b[0m in \u001b[0;36m<module>\u001b[1;34m()\u001b[0m\n\u001b[1;32m----> 1\u001b[1;33m \u001b[0mfit_func\u001b[0m\u001b[1;33m.\u001b[0m\u001b[0m__name__\u001b[0m\u001b[1;33m\u001b[0m\u001b[0m\n\u001b[0m",
      "\u001b[1;31mAttributeError\u001b[0m: 'NoneType' object has no attribute '__name__'"
     ]
    }
   ],
   "source": [
    "fit_func.__name__"
   ]
  },
  {
   "cell_type": "raw",
   "metadata": {
    "collapsed": false
   },
   "source": [
    "# plot a sum over one axis\n",
    "plot(sum(avr_dataD[1600][1].image,0)) "
   ]
  },
  {
   "cell_type": "markdown",
   "metadata": {},
   "source": [
    "####Normalize average data"
   ]
  },
  {
   "cell_type": "code",
   "execution_count": null,
   "metadata": {
    "collapsed": false
   },
   "outputs": [],
   "source": [
    "#norm_avr_dataD = normalise_avr_image(avr_dataD, 1, 2, 'x_data_fit',0)"
   ]
  },
  {
   "cell_type": "markdown",
   "metadata": {},
   "source": [
    "####Normalize each image"
   ]
  },
  {
   "cell_type": "code",
   "execution_count": null,
   "metadata": {
    "collapsed": false
   },
   "outputs": [],
   "source": [
    "#norm_dataD = normalise_individual_image(dataD, 1, 2, 'x_data_fit',0)"
   ]
  },
  {
   "cell_type": "markdown",
   "metadata": {},
   "source": [
    "\n",
    "####And do smth with this data"
   ]
  },
  {
   "cell_type": "raw",
   "metadata": {
    "collapsed": false
   },
   "source": [
    "# to transform to executable code choose Cell->Cell Type->Code\n",
    "x_data_x,n_atoms_x = constract_data(norm_avr_dataD, 1, 'x_data_fit',0)\n",
    "x_data_y,n_atoms_y = constract_data(norm_avr_dataD, 1, 'y_data_fit',0)\n",
    "popt_T, pcov_T = curve_fit(exp_decay, x_data_x, n_atoms_x, p0=(n_atoms_x[0], 100, 0))\n",
    "print('Fit parameters',list(zip(inspect.getargspec(exp_decay)[0][1:], popt_T)))\n",
    "fig_T, ax_T = subplots(1,1)\n",
    "ax_T.plot(x_data_x, n_atoms_x, 'ro', label='n_atoms_x')\n",
    "ax_T.plot(x_data_y, n_atoms_y, 'bo', label='n_atoms_y')\n",
    "x_dat = linspace(0,max(x_data_x),100)\n",
    "ax_T.plot(x_dat, exp_decay(x_dat,*popt_T),'k', label='exp fit X')\n",
    "ax_T.set_xlabel('time, ms')\n",
    "ax_T.set_ylabel('N atoms, a.u.')\n",
    "ax_T.set_title('N atoms after norm')\n",
    "ax_T.set_ylim(bottom=0)\n",
    "ax_T.legend(loc=1)"
   ]
  },
  {
   "cell_type": "markdown",
   "metadata": {},
   "source": [
    "####Looking at second shot_typeN"
   ]
  },
  {
   "cell_type": "code",
   "execution_count": 182,
   "metadata": {
    "collapsed": false
   },
   "outputs": [
    {
     "data": {
      "text/plain": [
       "[(1.0, 39583.817367897951),\n",
       " (1.0249999999999999, 39435.876346837635),\n",
       " (1.05, 36293.309441722529),\n",
       " (1.075, 35039.047152372979),\n",
       " (1.1000000000000001, 31859.00486902169),\n",
       " (1.125, 26441.352990129893),\n",
       " (1.1499999999999999, 22662.468701337853),\n",
       " (1.175, 17965.759116117028),\n",
       " (1.2, 15857.264790896257),\n",
       " (1.2250000000000001, 13591.9177193164),\n",
       " (1.25, 11985.609205412382),\n",
       " (1.2749999999999999, 11515.76412878315),\n",
       " (1.3, 11006.037625916591),\n",
       " (1.325, 10270.945713899593),\n",
       " (1.3500000000000001, 9353.856224781357),\n",
       " (1.375, 8266.1050327281519),\n",
       " (1.3999999999999999, 9055.6883950518968),\n",
       " (1.425, 10324.17097760137),\n",
       " (1.45, 13592.654695067908),\n",
       " (1.4750000000000001, 15609.930200725288),\n",
       " (1.5, 16062.106047165295),\n",
       " (1.5249999999999999, 17395.500493316704),\n",
       " (1.55, 17873.636042532584),\n",
       " (1.575, 19641.294901519206),\n",
       " (1.6000000000000001, 21199.385456228527),\n",
       " (1.625, 22999.053313348406),\n",
       " (1.6499999999999999, 23279.254060930776),\n",
       " (1.675, 23392.576736337702),\n",
       " (1.7, 23858.981116156574),\n",
       " (1.7250000000000001, 25185.384947857696),\n",
       " (1.75, 26054.881471325276),\n",
       " (1.7749999999999999, 26095.481595951343),\n",
       " (1.8, 25496.78803558465),\n",
       " (1.825, 25601.168838302889),\n",
       " (1.8500000000000001, 25335.044605650954),\n",
       " (1.875, 24981.234262718077),\n",
       " (1.8999999999999999, 25908.302281695855),\n",
       " (1.925, 25034.839272264784),\n",
       " (1.95, 24720.852924174957),\n",
       " (1.9750000000000001, 25058.865023671951)]"
      ]
     },
     "execution_count": 182,
     "metadata": {},
     "output_type": "execute_result"
    }
   ],
   "source": [
    "#x_data,y_data = constract_data(avr_dataD, 2, 'total')\n",
    "#plot(append(x_data, 0), append(y_data,0), 'o')\n",
    "\n",
    "\n",
    "list(zip(d1['x']+1,d1['y']))"
   ]
  },
  {
   "cell_type": "code",
   "execution_count": null,
   "metadata": {
    "collapsed": false
   },
   "outputs": [],
   "source": []
  },
  {
   "cell_type": "code",
   "execution_count": null,
   "metadata": {
    "collapsed": false
   },
   "outputs": [],
   "source": [
    "d1['x']"
   ]
  },
  {
   "cell_type": "code",
<<<<<<< HEAD
=======
   "execution_count": 274,
   "metadata": {
    "collapsed": false
   },
   "outputs": [],
   "source": [
    "imp?"
   ]
  },
  {
   "cell_type": "code",
>>>>>>> origin/master
   "execution_count": null,
   "metadata": {
    "collapsed": true
   },
   "outputs": [],
   "source": []
  }
 ],
 "metadata": {
  "kernelspec": {
   "display_name": "Python 3",
   "language": "python",
   "name": "python3"
  },
  "language_info": {
   "codemirror_mode": {
    "name": "ipython",
    "version": 3
   },
   "file_extension": ".py",
   "mimetype": "text/x-python",
   "name": "python",
   "nbconvert_exporter": "python",
   "pygments_lexer": "ipython3",
   "version": "3.4.3"
  }
 },
 "nbformat": 4,
 "nbformat_minor": 0
}
