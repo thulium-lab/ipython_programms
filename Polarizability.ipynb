{
 "cells": [
  {
   "cell_type": "code",
   "execution_count": 2,
   "metadata": {
    "collapsed": false
   },
   "outputs": [
    {
     "name": "stdout",
     "output_type": "stream",
     "text": [
      "Populating the interactive namespace from numpy and matplotlib\n"
     ]
    }
   ],
   "source": [
    "%pylab inline"
   ]
  },
  {
   "cell_type": "markdown",
   "metadata": {},
   "source": [
    "###Scalar polarizability is given by\n",
    "###$\\alpha_s = \\frac{\\omega_z^2 w_x w_y λ^2 c \\epsilon_0 m}{32 \\pi P}$"
   ]
  },
  {
   "cell_type": "code",
   "execution_count": 13,
   "metadata": {
    "collapsed": false
   },
   "outputs": [
    {
     "name": "stdout",
     "output_type": "stream",
     "text": [
      "140.15329849974478\n"
     ]
    }
   ],
   "source": [
    "c = 3e8 #speed of light\n",
    "e0 =  8.85e-12 #vacuum permitivity\n",
    "m_at = 1.66053892e-27  #atomic mass\n",
    "m_Th = 169 \n",
    "ω_z = 2*pi * 180e3 #oscillation frequency, Hz\n",
    "W_x = 30e-6 # diamiter, m\n",
    "W_y = 55e-6 # diamiter, m\n",
    "λ = 0.53e-6\n",
    "α0 = 1.65e-41\n",
    "h = 6.626070040e-34  # plank constant\n",
    "k_b = 1.3806488e-23  # boltzman constant\n",
    "\n",
    "\n",
    "p = 1.9 #optical power, W\n",
    "#$\\alpha_s = \\frac{\\omega_z^2 w_x w_y λ^2 c \\epsilon_0 m}{32 \\pi P}$\n",
    "alf_s = (ω_z**2 * W_x *W_y * λ**2) * c * e0 * m_Th * m_at / (32*pi*p)  / α0\n",
    "print(alf_s)\n",
    "\n",
    "#polarizability\n",
    "#(2*pi*250 * w0**2)**2 * c * e0 * m_Th * m_at *pi/ (5)  / alf0"
   ]
  },
  {
   "cell_type": "code",
   "execution_count": 4,
   "metadata": {
    "collapsed": true
   },
   "outputs": [],
   "source": [
    "def alf_func(f_z, p):\n",
    "    return ((2 * pi * f_z *1000)**2 * W_x *W_y * λ**2) * c * e0 * m_Th * m_at / (32*pi*p)  / α0"
   ]
  },
  {
   "cell_type": "code",
   "execution_count": 6,
   "metadata": {
    "collapsed": false
   },
   "outputs": [
    {
     "name": "stdout",
     "output_type": "stream",
     "text": [
      "α_s =  [104.68240196585872, 140.15329849974478]\n"
     ]
    }
   ],
   "source": [
    "# Первое число - частота в кГц, второе - мощность верди перед входом в ловушку\n",
    "mess = ((220, 3.8), (180,1.9))\n",
    "\n",
    "alphas = list(map(alf_func,*zip(*mess)))\n",
    "print('α_s = ',alphas)"
   ]
  },
  {
   "cell_type": "markdown",
   "metadata": {
    "collapsed": true
   },
   "source": [
    "#### Вычисление поляризуемости по сдвигу резонанса в зависимости от мощности верди\n",
    "###$\\alpha = \\frac{h \\delta\\nu \\ \\epsilon_0 \\pi w_x w_y}{4 P}$\n",
    "###$f(r) = A*\\exp(-\\frac{U_0}{k_b T}\\frac{2 r^2}{w^2})$\n",
    "###$\\delta\\nu = \\delta\\nu_0 \\sqrt{\\frac{U_0}{U_0 + k_b T}}$\n",
    "###$\\sqrt{}\\delta\\nu^2 = \\delta\\nu_0\\sqrt{\\sqrt{\\frac{U_0}{U_0 + 2 k_b T}}-\\frac{U_0}{U_0 + k_b T}}$  "
   ]
  },
  {
   "cell_type": "code",
   "execution_count": 9,
   "metadata": {
    "collapsed": false
   },
   "outputs": [
    {
     "data": {
      "text/plain": [
       "34.54223525522691"
      ]
     },
     "execution_count": 9,
     "metadata": {},
     "output_type": "execute_result"
    }
   ],
   "source": [
    "f_shift = 0.5e6 #  Hz\n",
    "p = 2 # Watts\n",
    "h * f_shift * c * e0 * pi * W_x * W_y / 4 / p / α0"
   ]
  },
  {
   "cell_type": "markdown",
   "metadata": {},
   "source": [
    "###Оценка сдвига и ширины контура в зависимости от мощности "
   ]
  },
  {
   "cell_type": "code",
   "execution_count": 10,
   "metadata": {
    "collapsed": true
   },
   "outputs": [],
   "source": [
    "from scipy.integrate import quad, dblquad, tplquad"
   ]
  },
  {
   "cell_type": "code",
   "execution_count": 56,
   "metadata": {
    "collapsed": false
   },
   "outputs": [],
   "source": [
    "def m_b_distrib(r):\n",
    "    return exp(-U0 / (k_b * T) * 2 * r**2 / w**2)"
   ]
  },
  {
   "cell_type": "code",
   "execution_count": 68,
   "metadata": {
    "collapsed": false
   },
   "outputs": [],
   "source": [
    "T = 10e-6\n",
    "U0 = k_b * 5 * T\n",
    "w = sqrt(W_x * W_y)"
   ]
  },
  {
   "cell_type": "code",
   "execution_count": 69,
   "metadata": {
    "collapsed": false
   },
   "outputs": [
    {
     "data": {
      "text/plain": [
       "(2.2767581949832e-05, 1.9301551217624134e-13)"
      ]
     },
     "execution_count": 69,
     "metadata": {},
     "output_type": "execute_result"
    },
    {
     "data": {
      "image/png": "[encoded data removed]",
      "text/plain": [
       "<matplotlib.figure.Figure at 0x107a9bed0>"
      ]
     },
     "metadata": {},
     "output_type": "display_data"
    }
   ],
   "source": [
    "l_x = 5\n",
    "x = linspace(-l_x*w, +l_x*w, 100)\n",
    "plot(x,m_b_distrib(x))\n",
    "quad(m_b_distrib, -5*w,5*w)"
   ]
  },
  {
   "cell_type": "code",
   "execution_count": 46,
   "metadata": {
    "collapsed": false
   },
   "outputs": [
    {
     "data": {
      "text/plain": [
       "1.0"
      ]
     },
     "execution_count": 46,
     "metadata": {},
     "output_type": "execute_result"
    }
   ],
   "source": [
    "m_b_distrib(-3)"
   ]
  },
  {
   "cell_type": "code",
   "execution_count": 70,
   "metadata": {
    "collapsed": true
   },
   "outputs": [],
   "source": [
    "def shift(p):\n",
    "    return sqrt(p / ( p + 1)) * p"
   ]
  },
  {
   "cell_type": "code",
   "execution_count": 72,
   "metadata": {
    "collapsed": false
   },
   "outputs": [
    {
     "data": {
      "text/plain": [
       "[<matplotlib.lines.Line2D at 0x107875790>]"
      ]
     },
     "execution_count": 72,
     "metadata": {},
     "output_type": "execute_result"
    },
    {
     "data": {
      "image/png": "[encoded data removed]",
      "text/plain": [
       "<matplotlib.figure.Figure at 0x1077d8290>"
      ]
     },
     "metadata": {},
     "output_type": "display_data"
    }
   ],
   "source": [
    "p = linspace(0,1,100)\n",
    "plot(p, shift(p))"
   ]
  },
  {
   "cell_type": "code",
   "execution_count": 73,
   "metadata": {
    "collapsed": true
   },
   "outputs": [],
   "source": [
    "def shift(p):\n",
    "    return sqrt(sqrt(p / ( p + 2))) * p"
   ]
  },
  {
   "cell_type": "code",
   "execution_count": 74,
   "metadata": {
    "collapsed": false
   },
   "outputs": [
    {
     "data": {
      "text/plain": [
       "[<matplotlib.lines.Line2D at 0x10759b9d0>]"
      ]
     },
     "execution_count": 74,
     "metadata": {},
     "output_type": "execute_result"
    },
    {
     "data": {
      "image/png": "[encoded data removed]",
      "text/plain": [
       "<matplotlib.figure.Figure at 0x107318bd0>"
      ]
     },
     "metadata": {},
     "output_type": "display_data"
    }
   ],
   "source": [
    "p = linspace(0,1,100)\n",
    "plot(p, shift(p))"
   ]
  },
  {
   "cell_type": "code",
   "execution_count": null,
   "metadata": {
    "collapsed": true
   },
   "outputs": [],
   "source": []
  }
 ],
 "metadata": {
  "kernelspec": {
   "display_name": "Python 3",
   "language": "python",
   "name": "python3"
  },
  "language_info": {
   "codemirror_mode": {
    "name": "ipython",
    "version": 3
   },
   "file_extension": ".py",
   "mimetype": "text/x-python",
   "name": "python",
   "nbconvert_exporter": "python",
   "pygments_lexer": "ipython3",
   "version": "3.3.5"
  }
 },
 "nbformat": 4,
 "nbformat_minor": 0
}
