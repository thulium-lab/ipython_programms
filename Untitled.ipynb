{
 "cells": [
  {
   "cell_type": "code",
   "execution_count": 1,
   "metadata": {
    "collapsed": false
   },
   "outputs": [
    {
     "name": "stdout",
     "output_type": "stream",
     "text": [
      "Populating the interactive namespace from numpy and matplotlib\n"
     ]
    }
   ],
   "source": [
    "%pylab qt\n"
   ]
  },
  {
   "cell_type": "code",
   "execution_count": 2,
   "metadata": {
    "collapsed": false
   },
   "outputs": [
    {
     "data": {
      "text/plain": [
       "[<matplotlib.lines.Line2D at 0x6dffa90>]"
      ]
     },
     "execution_count": 2,
     "metadata": {},
     "output_type": "execute_result"
    }
   ],
   "source": [
    "plot(range(10))"
   ]
  },
  {
   "cell_type": "code",
   "execution_count": 21,
   "metadata": {
    "collapsed": false
   },
   "outputs": [],
   "source": [
    "from IPython.html import widgets\n",
    "from IPython.display import display\n",
    "from IPython.html.widgets import interact, interactive, fixed, interact_manual"
   ]
  },
  {
   "cell_type": "code",
   "execution_count": 22,
   "metadata": {
    "collapsed": true
   },
   "outputs": [],
   "source": [
    "lst = ['a','b','c']"
   ]
  },
  {
   "cell_type": "code",
   "execution_count": 23,
   "metadata": {
    "collapsed": false
   },
   "outputs": [
    {
     "name": "stdout",
     "output_type": "stream",
     "text": [
      "c\n"
     ]
    }
   ],
   "source": [
    "\n",
    "def square(num='q'):\n",
    "    lst.append('d')\n",
    "    print(num)\n",
    "interact_manual(square, num = lst)"
   ]
  },
  {
   "cell_type": "code",
   "execution_count": 25,
   "metadata": {
    "collapsed": false
   },
   "outputs": [
    {
     "data": {
      "text/plain": [
       "['a', 'b', 'c', 'd', 'd', 'd']"
      ]
     },
     "execution_count": 25,
     "metadata": {},
     "output_type": "execute_result"
    }
   ],
   "source": [
    "lst"
   ]
  },
  {
   "cell_type": "code",
   "execution_count": 31,
   "metadata": {
    "collapsed": false
   },
   "outputs": [],
   "source": [
    "import random\n",
    "\n",
    "genName = lambda : ''.join([chr(random.randint(65, 90)) for i in range(10) ])\n",
    "\n",
    "testValues = [ genName() for i in range(20) ]\n",
    "testValues = sorted(testValues)\n",
    "xx = widgets.DropdownWidget(options=testValues)\n",
    "\n",
    "display(xx)"
   ]
  },
  {
   "cell_type": "code",
   "execution_count": 28,
   "metadata": {
    "collapsed": false
   },
   "outputs": [
    {
     "data": {
      "text/plain": [
       "{'AMAUIKHWOO': 'AMAUIKHWOO',\n",
       " 'EFZNIISDRE': 'EFZNIISDRE',\n",
       " 'FBZYZKZUMV': 'FBZYZKZUMV',\n",
       " 'GNINQGYAKB': 'GNINQGYAKB',\n",
       " 'GVRRUAWIKI': 'GVRRUAWIKI',\n",
       " 'HCEDXIZXER': 'HCEDXIZXER',\n",
       " 'IMVPNSSVDH': 'IMVPNSSVDH',\n",
       " 'ITRUHOHELY': 'ITRUHOHELY',\n",
       " 'KZTSOWBGKJ': 'KZTSOWBGKJ',\n",
       " 'LBAHVNMEBD': 'LBAHVNMEBD',\n",
       " 'LNRCGSTRMG': 'LNRCGSTRMG',\n",
       " 'LZYGLDZAJS': 'LZYGLDZAJS',\n",
       " 'MTZDNZJLJC': 'MTZDNZJLJC',\n",
       " 'NVRPNUEIVP': 'NVRPNUEIVP',\n",
       " 'NXHVMLKSUT': 'NXHVMLKSUT',\n",
       " 'OJDNUWFAPQ': 'OJDNUWFAPQ',\n",
       " 'OXYRSGBOCX': 'OXYRSGBOCX',\n",
       " 'SAGIMNESEK': 'SAGIMNESEK',\n",
       " 'SFIKFHCGMS': 'SFIKFHCGMS',\n",
       " 'XVGZENRRMT': 'XVGZENRRMT'}"
      ]
     },
     "execution_count": 28,
     "metadata": {},
     "output_type": "execute_result"
    }
   ],
   "source": [
    "testValues"
   ]
  },
  {
   "cell_type": "code",
   "execution_count": 10,
   "metadata": {
    "collapsed": false
   },
   "outputs": [
    {
     "name": "stdout",
     "output_type": "stream",
     "text": [
      "D:\\!Data\\2015_09_22\n"
     ]
    }
   ],
   "source": [
    "import os\n",
    "os.chdir(r'D:\\!Data\\2015_09_22')\n",
    "print(os.getcwd())"
   ]
  },
  {
   "cell_type": "code",
   "execution_count": 5,
   "metadata": {
    "collapsed": true
   },
   "outputs": [],
   "source": [
    "a = imread('01.png')[:,:,0]\n",
    "b = imread('04.png')[:,:,0]"
   ]
  },
  {
   "cell_type": "code",
   "execution_count": 6,
   "metadata": {
    "collapsed": false
   },
   "outputs": [
    {
     "data": {
      "text/plain": [
       "<matplotlib.image.AxesImage at 0x71fe198>"
      ]
     },
     "execution_count": 6,
     "metadata": {},
     "output_type": "execute_result"
    }
   ],
   "source": [
    "fig, ax = subplots(1,2)\n",
    "ax[0].imshow(a)\n",
    "ax[1].imshow(b)"
   ]
  },
  {
   "cell_type": "code",
   "execution_count": 73,
   "metadata": {
    "collapsed": true
   },
   "outputs": [],
   "source": [
    "import matplotlib as plt"
   ]
  },
  {
   "cell_type": "code",
   "execution_count": 88,
   "metadata": {
    "collapsed": false
   },
   "outputs": [
    {
     "data": {
      "text/plain": [
       "1144"
      ]
     },
     "execution_count": 88,
     "metadata": {},
     "output_type": "execute_result"
    }
   ],
   "source": [
    "52*22"
   ]
  },
  {
   "cell_type": "code",
   "execution_count": 89,
   "metadata": {
    "collapsed": false
   },
   "outputs": [
    {
     "data": {
      "text/plain": [
       "<matplotlib.text.Text at 0xdb8f550>"
      ]
     },
     "execution_count": 89,
     "metadata": {},
     "output_type": "execute_result"
    },
    {
     "data": {
      "image/png": "[encoded data removed]",
      "text/plain": [
       "<matplotlib.figure.Figure at 0xd5356a0>"
      ]
     },
     "metadata": {},
     "output_type": "display_data"
    }
   ],
   "source": [
    "plot(sum(b,1))\n",
    "plot(sum(b,0))\n",
    "title('Beam profiles\\nwidth=1.3mm, hight = 1.1 mm')"
   ]
  },
  {
   "cell_type": "code",
   "execution_count": 77,
   "metadata": {
    "collapsed": false
   },
   "outputs": [
    {
     "name": "stdout",
     "output_type": "stream",
     "text": [
      "Done importing, module image_processing\n"
     ]
    }
   ],
   "source": [
    "import os,thulium_python_lib.image_processing_new as impr"
   ]
  },
  {
   "cell_type": "code",
   "execution_count": 26,
   "metadata": {
    "collapsed": false
   },
   "outputs": [],
   "source": [
    "import csv\n",
    "from scipy.optimize import curve_fit"
   ]
  },
  {
   "cell_type": "code",
   "execution_count": 142,
   "metadata": {
    "collapsed": false
   },
   "outputs": [
    {
     "data": {
      "text/plain": [
       "[<matplotlib.lines.Line2D at 0x19141198>]"
      ]
     },
     "execution_count": 142,
     "metadata": {},
     "output_type": "execute_result"
    }
   ],
   "source": [
    "x = []\n",
    "y = []\n",
    "with open('tek00021.csv', 'r') as csvfile:\n",
    "    a = csv.reader(csvfile)\n",
    "    for line in a:\n",
    "        x.append(1e6 * float(line[0]))\n",
    "        y.append(float(line[1]))\n",
    "#a = slice(450,500)\n",
    "#plot(x[a],y[a])\n",
    "plot(x,y)"
   ]
  },
  {
   "cell_type": "code",
   "execution_count": 143,
   "metadata": {
    "collapsed": false
   },
   "outputs": [
    {
     "name": "stdout",
     "output_type": "stream",
     "text": [
      "Fit parameters:\n",
      "0 ----> [  2.76685289e-01  -1.70570436e+03   3.02305626e+00  -3.70918408e-02]\n",
      "1 ----> [  2.82169270e-01  -5.48267536e+02   2.93474955e+00  -3.68295929e-02]\n",
      "2 ----> [  2.50772369e-01   5.70963706e+02   2.71380707e+00  -3.67906321e-02]\n",
      "3 ----> [  2.73769524e-01   1.65797954e+03   2.82617997e+00  -3.69710414e-02]\n"
     ]
    }
   ],
   "source": [
    "# x, y - data to prosess, should be initialize befor\n",
    "\n",
    "# I assume that  command below was executed, qt - to show plots in separate window, use 'inline' instead to plot here \n",
    "#%pylab qt\n",
    "from scipy.optimize import curve_fit\n",
    "\n",
    "# lorentz function\n",
    "def lorenz(x, a, x0, g, bg):\n",
    "    return a * g/2 / ((x-x0)**2 + g**2/4) + bg\n",
    "\n",
    "# threshold value to find piks and then to estimate width\n",
    "thr = max(y)/2\n",
    "\n",
    "# construct list of indexis y[index] > threshold\n",
    "n1 = [x for (x,val) in enumerate(y) if val > thr] \n",
    "#print(n1)\n",
    "\n",
    "# construct coordinates of beggining and ending of the pick based on threshold value\n",
    "coords = []\n",
    "for num,elem in enumerate(n1):\n",
    "    if num == 0:   # iteration start\n",
    "        st = 0\n",
    "    elif elem - n1[num-1] > 1:    # if jump to next pick\n",
    "        coords.append((n1[st],n1[num-1]))\n",
    "        st = num\n",
    "    elif  num == len(n1)-1:       # if came to list end\n",
    "        coords.append((n1[st],n1[num]))\n",
    "#print(coords)        \n",
    "\n",
    "# fitting of individual peak in the neghboring of n * width and plotting them\n",
    "n = 20     #what range to use to find fit\n",
    "plot(x,y)\n",
    "popts = []\n",
    "fit_func = lorenz\n",
    "print('Fit parameters:')\n",
    "for num,(lw,up) in enumerate(coords):\n",
    "    width = abs(up - lw)\n",
    "    sls = slice(lw - n*width, up + n*width)\n",
    "    popt, pcov = curve_fit(fit_func, x[sls], y[sls],p0=(1, (x[up]+x[lw])/2, (x[up]-x[lw]),-0.02))\n",
    "    plot(x[sls],fit_func(x[sls],*popt))\n",
    "    popts.append(popt)\n",
    "    print(num, '---->', popt)"
   ]
  },
  {
   "cell_type": "code",
   "execution_count": 146,
   "metadata": {
    "collapsed": false
   },
   "outputs": [
    {
     "name": "stdout",
     "output_type": "stream",
     "text": [
      "388.544660686\n",
      "396.289288604\n",
      "392.425405719\n"
     ]
    }
   ],
   "source": [
    "for i in range(len(popts)-1):\n",
    "    print((popts[i+1][1]-popts[i][1])/(popts[i+1][2]+popts[i][2])*2)"
   ]
  },
  {
   "cell_type": "code",
   "execution_count": 123,
   "metadata": {
    "collapsed": false
   },
   "outputs": [
    {
     "data": {
      "text/plain": [
       "0.0364"
      ]
     },
     "execution_count": 123,
     "metadata": {},
     "output_type": "execute_result"
    }
   ],
   "source": [
    "max(y)\n",
    "thr = max(y)/2\n",
    "thr"
   ]
  },
  {
   "cell_type": "code",
   "execution_count": 124,
   "metadata": {
    "collapsed": false
   },
   "outputs": [],
   "source": [
    "n1 = [x for (x,val) in enumerate(y) if val > thr] "
   ]
  },
  {
   "cell_type": "code",
   "execution_count": 125,
   "metadata": {
    "collapsed": false
   },
   "outputs": [
    {
     "data": {
      "text/plain": [
       "[1172,\n",
       " 1173,\n",
       " 1174,\n",
       " 1175,\n",
       " 1176,\n",
       " 2167,\n",
       " 2168,\n",
       " 2169,\n",
       " 3516,\n",
       " 3517,\n",
       " 3518,\n",
       " 4728,\n",
       " 4729,\n",
       " 4730,\n",
       " 5878,\n",
       " 5879,\n",
       " 5880,\n",
       " 6990,\n",
       " 6991,\n",
       " 6992,\n",
       " 8080,\n",
       " 8081,\n",
       " 8082,\n",
       " 9162,\n",
       " 9163,\n",
       " 9164]"
      ]
     },
     "execution_count": 125,
     "metadata": {},
     "output_type": "execute_result"
    }
   ],
   "source": [
    "n1"
   ]
  },
  {
   "cell_type": "code",
   "execution_count": 126,
   "metadata": {
    "collapsed": false
   },
   "outputs": [],
   "source": [
    "st = n1[0]\n",
    "coords = []\n",
    "widths = []\n",
    "for num,elem in enumerate(n1):\n",
    "    if num == 0:\n",
    "        st = 0\n",
    "    elif elem - n1[num-1] > 1:\n",
    "        coords.append((n1[st],n1[num-1]))\n",
    "        #coords.append(round( (n1[num-1] + n1[st]) / 2 + 1 ))\n",
    "        #widths.append( (n1[num-1] - n1[st]))\n",
    "        st = num\n",
    "    elif  num == len(n1)-1:\n",
    "        coords.append((n1[st],n1[num]))"
   ]
  },
  {
   "cell_type": "code",
   "execution_count": 127,
   "metadata": {
    "collapsed": false
   },
   "outputs": [
    {
     "name": "stdout",
     "output_type": "stream",
     "text": [
      "[(1172, 1176), (2167, 2169), (3516, 3518), (4728, 4730), (5878, 5880), (6990, 6992), (8080, 8082), (9162, 9164)]\n"
     ]
    }
   ],
   "source": [
    "print(coords)"
   ]
  },
  {
   "cell_type": "code",
   "execution_count": 128,
   "metadata": {
    "collapsed": false
   },
   "outputs": [
    {
     "name": "stdout",
     "output_type": "stream",
     "text": [
      "[  2.38268989e-01  -3.90572005e+03   5.44410736e+00  -1.36873757e-02]\n",
      "[  1.73172977e-01  -2.91220070e+03   3.97733328e+00  -1.37079768e-02]\n",
      "[  1.43454842e-01  -1.56254466e+03   3.16605420e+00  -1.38092383e-02]\n",
      "[  1.38518579e-01  -3.51421350e+02   3.04548749e+00  -1.37467240e-02]\n",
      "[  1.36984490e-01   7.98720159e+02   3.01778931e+00  -1.37787718e-02]\n",
      "[  1.25161259e-01   1.91104789e+03   2.84599943e+00  -1.35880290e-02]\n",
      "[  1.26462193e-01   3.00114309e+03   2.82422053e+00  -1.39396658e-02]\n",
      "[  1.30833679e-01   4.08254367e+03   2.76372482e+00  -1.37131285e-02]\n"
     ]
    }
   ],
   "source": [
    "n = 20\n",
    "plot(x,y)\n",
    "popts = []\n",
    "for lw,up in coords:\n",
    "    width = abs(up - lw)\n",
    "    sls = slice(lw - n*width, up + n*width)\n",
    "    popt, pcov = curve_fit(lorenz, x[sls], y[sls],p0=(1, (x[up]+x[lw])/2, (x[up]-x[lw]),-0.02))\n",
    "    plot(x[sls],lorenz(x[sls],*popt))\n",
    "    popts.append(popt)\n",
    "    print(popt)"
   ]
  },
  {
   "cell_type": "code",
   "execution_count": 121,
   "metadata": {
    "collapsed": false
   },
   "outputs": [
    {
     "data": {
      "text/plain": [
       "378.5928379158608"
      ]
     },
     "execution_count": 121,
     "metadata": {},
     "output_type": "execute_result"
    }
   ],
   "source": [
    "(popts[1][1] - popts[0][1]) / (popts[1][2] + popts[0][2]) * 2"
   ]
  },
  {
   "cell_type": "code",
   "execution_count": 32,
   "metadata": {
    "collapsed": true
   },
   "outputs": [],
   "source": [
    "def lorenz(x, a, x0, g, bg):\n",
    "    return a * g/2 / ((x-x0)**2 + g**2/4) + bg"
   ]
  },
  {
   "cell_type": "code",
   "execution_count": 48,
   "metadata": {
    "collapsed": false
   },
   "outputs": [
    {
     "data": {
      "text/plain": [
       "array([  1.39350452e-01,  -3.90432399e+02,   3.04421991e+00,\n",
       "        -1.30806420e-02])"
      ]
     },
     "execution_count": 48,
     "metadata": {},
     "output_type": "execute_result"
    }
   ],
   "source": [
    "popt, pcov = curve_fit(lorenz, x, y, p0=(1, -400, 4,-0.02))\n",
    "popt"
   ]
  },
  {
   "cell_type": "code",
   "execution_count": 49,
   "metadata": {
    "collapsed": false
   },
   "outputs": [
    {
     "data": {
      "text/plain": [
       "[<matplotlib.lines.Line2D at 0x145ec898>]"
      ]
     },
     "execution_count": 49,
     "metadata": {},
     "output_type": "execute_result"
    }
   ],
   "source": [
    "plot(x,y)\n",
    "plot(x,lorenz(x,*popt))"
   ]
  },
  {
   "cell_type": "code",
   "execution_count": 81,
   "metadata": {
    "collapsed": false
   },
   "outputs": [],
   "source": [
    "im1 = impr.Image_Basics(imread('01.png')[:,:,0])"
   ]
  },
  {
   "cell_type": "code",
   "execution_count": 34,
   "metadata": {
    "collapsed": false
   },
   "outputs": [
    {
     "data": {
      "text/plain": [
       "1893"
      ]
     },
     "execution_count": 34,
     "metadata": {},
     "output_type": "execute_result"
    }
   ],
   "source": [
    "argmax(y)"
   ]
  },
  {
   "cell_type": "code",
   "execution_count": 86,
   "metadata": {
    "collapsed": false
   },
   "outputs": [
    {
     "data": {
      "text/plain": [
       "array([ 1543.77012064,   350.16429712,    52.71396803,    22.10573044])"
      ]
     },
     "execution_count": 86,
     "metadata": {},
     "output_type": "execute_result"
    }
   ],
   "source": [
    "im1.fit_gaussian1D(1)"
   ]
  },
  {
   "cell_type": "code",
   "execution_count": null,
   "metadata": {
    "collapsed": true
   },
   "outputs": [],
   "source": []
  }
 ],
 "metadata": {
  "kernelspec": {
   "display_name": "Python 3",
   "language": "python",
   "name": "python3"
  },
  "language_info": {
   "codemirror_mode": {
    "name": "ipython",
    "version": 3
   },
   "file_extension": ".py",
   "mimetype": "text/x-python",
   "name": "python",
   "nbconvert_exporter": "python",
   "pygments_lexer": "ipython3",
   "version": "3.4.3"
  }
 },
 "nbformat": 4,
 "nbformat_minor": 0
}
