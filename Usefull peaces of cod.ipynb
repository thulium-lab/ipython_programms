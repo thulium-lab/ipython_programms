{
 "cells": [
  {
   "cell_type": "markdown",
   "metadata": {},
   "source": [
    "## To read .csv file:"
   ]
  },
  {
   "cell_type": "code",
   "execution_count": null,
   "metadata": {
    "collapsed": true
   },
   "outputs": [],
   "source": [
    "import csv\n",
    "\n",
    "#to change working directory\n",
    "#import os\n",
    "#os.chdir(r'D:\\!Data\\2015_09_22')\n",
    "\n",
    "filenabe = 'tek00017.csv'\n",
    "\n",
    "#only for 2 coloms\n",
    "x = []\n",
    "y = []\n",
    "with open(filename, 'r') as csvfile:\n",
    "    a = csv.reader(csvfile)\n",
    "    for line in a:\n",
    "        x.append(float(line[0]))\n",
    "        y.append(float(line[1]))        \n",
    "#plot(x,y)"
   ]
  },
  {
   "cell_type": "markdown",
   "metadata": {},
   "source": [
    "## To find and fit peaks:"
   ]
  },
  {
   "cell_type": "code",
   "execution_count": null,
   "metadata": {
    "collapsed": true
   },
   "outputs": [],
   "source": [
    "# additional description is available in lasercooling.ru\n",
    "# x, y - data to prosess, should be initialize befor\n",
    "\n",
    "# I assume that  command below was executed, qt - to show plots in separate window, use 'inline' instead to plot here \n",
    "#%pylab qt\n",
    "from scipy.optimize import curve_fit\n",
    "\n",
    "# lorentz function\n",
    "def lorenz(x, a, x0, g, bg):\n",
    "    return a * g/2 / ((x-x0)**2 + g**2/4) + bg\n",
    "\n",
    "# threshold value to find piks and then to estimate width\n",
    "thr = max(y)/2\n",
    "\n",
    "# construct list of indexis y[index] > threshold\n",
    "n1 = [x for (x,val) in enumerate(y) if val > thr] \n",
    "#print(n1)\n",
    "\n",
    "# construct coordinates of beggining and ending of the pick based on threshold value\n",
    "coords = []\n",
    "for num,elem in enumerate(n1):\n",
    "    if num == 0:   # iteration start\n",
    "        st = 0\n",
    "    elif elem - n1[num-1] > 1:    # if jump to next pick\n",
    "        coords.append((n1[st],n1[num-1]))\n",
    "        st = num\n",
    "    elif  num == len(n1)-1:       # if came to list end\n",
    "        coords.append((n1[st],n1[num]))\n",
    "#print(coords)        \n",
    "\n",
    "# fitting of individual peak in the neghboring of n * width and plotting them\n",
    "n = 20     #what range to use to find fit\n",
    "plot(x,y)\n",
    "popts = []\n",
    "fit_func = lorenz\n",
    "print('Fit parameters:')\n",
    "for num,(lw,up) in enumerate(coords):\n",
    "    width = abs(up - lw)\n",
    "    sls = slice(lw - n*width, up + n*width)\n",
    "    popt, pcov = curve_fit(fit_func, x[sls], y[sls],p0=(1, (x[up]+x[lw])/2, (x[up]-x[lw]),-0.02))\n",
    "    plot(x[sls],fit_func(x[sls],*popt))\n",
    "    popts.append(popt)\n",
    "    print(num, '---->', popt)"
   ]
  }
 ],
 "metadata": {
  "kernelspec": {
   "display_name": "Python 3",
   "language": "python",
   "name": "python3"
  },
  "language_info": {
   "codemirror_mode": {
    "name": "ipython",
    "version": 3
   },
   "file_extension": ".py",
   "mimetype": "text/x-python",
   "name": "python",
   "nbconvert_exporter": "python",
   "pygments_lexer": "ipython3",
   "version": "3.4.3"
  }
 },
 "nbformat": 4,
 "nbformat_minor": 0
}
