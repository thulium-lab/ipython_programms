{
 "cells": [
  {
   "cell_type": "markdown",
   "metadata": {},
   "source": [
    "## To plot in Qt window to add interactivity"
   ]
  },
  {
   "cell_type": "code",
   "execution_count": null,
   "metadata": {
    "collapsed": false
   },
   "outputs": [],
   "source": [
    "%pylab qt"
   ]
  },
  {
   "cell_type": "markdown",
   "metadata": {},
   "source": [
    "## To read .csv file:"
   ]
  },
  {
   "cell_type": "code",
   "execution_count": null,
   "metadata": {
    "collapsed": true
   },
   "outputs": [],
   "source": [
    "import csv\n",
    "\n",
    "#to change working directory\n",
    "#import os\n",
    "#os.chdir(r'D:\\!Data\\2015_09_22')\n",
    "\n",
    "filenabe = 'tek00017.csv'\n",
    "\n",
    "#only for 2 coloms\n",
    "x = []\n",
    "y = []\n",
    "with open(filename, 'r') as csvfile:\n",
    "    a = csv.reader(csvfile)\n",
    "    for line in a:\n",
    "        x.append(float(line[0]))\n",
    "        y.append(float(line[1]))        \n",
    "#plot(x,y)"
   ]
  },
  {
   "cell_type": "markdown",
   "metadata": {},
   "source": [
    "## To find and fit peaks:"
   ]
  },
  {
   "cell_type": "code",
   "execution_count": null,
   "metadata": {
    "collapsed": true
   },
   "outputs": [],
   "source": [
    "# additional description is available in lasercooling.ru\n",
    "# updated on 28.11.2015 \n",
    "# handling border limitation, filtering, pick number plot\n",
    "\n",
    "# x, y - data to prosess, should be initialize befor\n",
    "\n",
    "# I assume that  command below was executed, qt - to show plots in separate window, use 'inline' instead to plot here \n",
    "#%pylab qt\n",
    "from scipy.optimize import curve_fit\n",
    "from scipy.ndimage import gaussian_filter\n",
    "from inspect import getargspec\n",
    "\n",
    "# Gaussian function\n",
    "def gaussian(x,N,x0,sigma, background):\n",
    "    \"\"\"Returns value of a 1D-gaussian with the given parameters ,N,x0,sigma, background\"\"\"\n",
    "    #from numpy import sqrt,pi,exp\n",
    "    return N / (sigma * sqrt(pi)) * exp(-(x - x0)**2/(sigma**2)) + background\n",
    "\n",
    "# lorentz function\n",
    "def lorenz(x, a, x0, g, bg):\n",
    "    return a * g/2 / ((x-x0)**2 + g**2/4) + bg\n",
    "\n",
    "# If filtering is needed\n",
    "y = gaussian_filter(y,20)\n",
    "\n",
    "# threshold value to find piks and then to estimate width\n",
    "thr = 0.04 #max(y)/2\n",
    "\n",
    "# construct list of indexis y[index] > threshold\n",
    "n1 = [x for (x,val) in enumerate(y) if val > thr] \n",
    "#print(n1)\n",
    "\n",
    "# construct coordinates of beggining and ending of the pick based on threshold value\n",
    "coords = []\n",
    "for num,elem in enumerate(n1):\n",
    "    if num == 0:   # iteration start\n",
    "        st = 0\n",
    "    elif elem - n1[num-1] > 400:    # if jump to next pick, number specifies minimum distance between peaks\n",
    "        coords.append((n1[st],n1[num-1]))\n",
    "        st = num\n",
    "    elif  num == len(n1)-1:       # if came to list end\n",
    "        coords.append((n1[st],n1[num]))\n",
    "# print(coords)        \n",
    "\n",
    "# fitting of individual peak in the neghboring of n * width and plotting them\n",
    "n = 8     #what range to use to find fit\n",
    "plot(x,y)\n",
    "popts = []\n",
    "# fit_func = lorenz\n",
    "fit_func = gaussian\n",
    "print('Fit parameters:',getargspec(fit_func)[0][1:])\n",
    "for num,(lw,up) in enumerate(coords):\n",
    "    width = abs(up - lw)\n",
    "    sls = slice(max(0,lw - n*width), min(up + n*width,len(x)))\n",
    "    popt, pcov = curve_fit(fit_func, x[sls], y[sls],p0=(0.001, (x[up]+x[lw])/2, (x[up]-x[lw]),0.023))\n",
    "    plot(x[sls],fit_func(x[sls],*popt))\n",
    "    popts.append(popt)\n",
    "    annotate(str(num),xy=(popt[1],0))\n",
    "    print(num, '---->', popt)"
   ]
  }
 ],
 "metadata": {
  "hide_input": false,
  "kernelspec": {
   "display_name": "Python 3",
   "language": "python",
   "name": "python3"
  },
  "language_info": {
   "codemirror_mode": {
    "name": "ipython",
    "version": 3
   },
   "file_extension": ".py",
   "mimetype": "text/x-python",
   "name": "python",
   "nbconvert_exporter": "python",
   "pygments_lexer": "ipython3",
   "version": "3.4.3"
  },
  "latex_envs": {
   "bibliofile": "biblio.bib",
   "cite_by": "apalike",
   "current_citInitial": 1,
   "eqLabelWithNumbers": true,
   "eqNumInitial": 0
  }
 },
 "nbformat": 4,
 "nbformat_minor": 0
}
