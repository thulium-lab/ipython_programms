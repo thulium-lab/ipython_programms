{
 "cells": [
  {
   "cell_type": "code",
   "execution_count": 1,
   "metadata": {
    "collapsed": false
   },
   "outputs": [
    {
     "name": "stdout",
     "output_type": "stream",
     "text": [
      "Populating the interactive namespace from numpy and matplotlib\n"
     ]
    }
   ],
   "source": [
    "%pylab inline"
   ]
  },
  {
   "cell_type": "code",
   "execution_count": 2,
   "metadata": {
    "collapsed": false
   },
   "outputs": [
    {
     "name": "stdout",
     "output_type": "stream",
     "text": [
      "Done importing, module image_processing now\n"
     ]
    },
    {
     "name": "stderr",
     "output_type": "stream",
     "text": [
      "/Users/artemgolovizin/anaconda/lib/python3.5/site-packages/IPython/html.py:14: ShimWarning: The `IPython.html` package has been deprecated. You should import from `notebook` instead. `IPython.html.widgets` has moved to `ipywidgets`.\n",
      "  \"`IPython.html.widgets` has moved to `ipywidgets`.\", ShimWarning)\n"
     ]
    }
   ],
   "source": [
    "# imports\n",
    "\n",
    "import sys\n",
    "import os\n",
    "par_dir = os.path.split(os.getcwd())[0]\n",
    "if par_dir not in sys.path:\n",
    "    sys.path.append(par_dir)\n",
    "# sys.path.append(r'/Users/artemgolovizin/GitHub')\n",
    "from scipy.optimize import curve_fit\n",
    "import inspect\n",
    "import pickle\n",
    "import imp\n",
    "import re\n",
    "import json\n",
    "\n",
    "from IPython.html import widgets\n",
    "from IPython.display import display\n",
    "from IPython.html.widgets import interact, interactive, fixed\n",
    "\n",
    "import thulium_python_lib.usefull_functions as usfuncs\n",
    "import thulium_python_lib.image_processing_new as impr\n",
    "\n",
    "import ipyparallel as ipp\n",
    "ipp.CompositeError.tb_limit = 1\n",
    "\n",
    "rc1 = ipp.Client()\n",
    "lview = rc1.load_balanced_view()\n",
    "dview = rc1.direct_view()\n",
    "dview['par_dir'] = par_dir\n",
    "# with dview.sync_imports():\n",
    "#     import sys, os    \n",
    "%px import sys, os\n",
    "%px if par_dir not in sys.path: sys.path.append(par_dir)\n",
    "%px import thulium_python_lib.image_processing_new as impr\n",
    "%px import imp\n",
    "%px from ipyparallel import bind_kernel; bind_kernel()"
   ]
  },
  {
   "cell_type": "code",
   "execution_count": 3,
   "metadata": {
    "collapsed": false
   },
   "outputs": [],
   "source": [
    "# to reload library on remote and local engine\n",
    "# %px imp.reload(impr)\n",
    "# imp.reload(impr)\n",
    "# imp.reload(usfuncs)"
   ]
  },
  {
   "cell_type": "code",
   "execution_count": 4,
   "metadata": {
    "collapsed": true
   },
   "outputs": [],
   "source": [
    "os.chdir(r'/Users/artemgolovizin/Downloads/2015_12_01')"
   ]
  },
  {
   "cell_type": "code",
   "execution_count": 5,
   "metadata": {
    "collapsed": true
   },
   "outputs": [],
   "source": [
    "old_ks = dict()"
   ]
  },
  {
   "cell_type": "code",
   "execution_count": 6,
   "metadata": {
    "collapsed": true
   },
   "outputs": [],
   "source": [
    "with open('all_data.txt', 'rb') as handle:\n",
    "    data = pickle.loads(handle.read())"
   ]
  },
  {
   "cell_type": "code",
   "execution_count": 7,
   "metadata": {
    "collapsed": false
   },
   "outputs": [
    {
     "data": {
      "text/plain": [
       "dict_keys(['01 t', '02 t'])"
      ]
     },
     "execution_count": 7,
     "metadata": {},
     "output_type": "execute_result"
    }
   ],
   "source": [
    "data.keys()"
   ]
  },
  {
   "cell_type": "code",
   "execution_count": 11,
   "metadata": {
    "collapsed": false
   },
   "outputs": [
    {
     "data": {
      "text/plain": [
       "{'data': {0.0: {1.0: {'center_pos': array([ 1059.25,  2118.5 ]),\n",
       "    'fit1D_x': array([  1.27243992e+06,   2.13559714e+03,   1.61794122e+02,\n",
       "             7.34172523e+02]),\n",
       "    'fit1D_x_mean': array([  1.27249369e+06,   2.13565099e+03,   1.61812554e+02,\n",
       "             7.34025523e+02]),\n",
       "    'fit1D_x_std': array([  4.03074631e+04,   2.82288063e+00,   2.56318608e+00,\n",
       "             1.13138515e+02]),\n",
       "    'fit1D_y': array([  1.18999688e+06,   1.04771680e+03,   1.59842989e+02,\n",
       "             1.19754061e+03]),\n",
       "    'fit1D_y_mean': array([  1.19493180e+06,   1.04731859e+03,   1.60796040e+02,\n",
       "             1.18064093e+03]),\n",
       "    'fit1D_y_std': array([  6.14530304e+04,   6.13000830e+00,   1.81647152e+01,\n",
       "             1.22716103e+02]),\n",
       "    'fit2D': array([  1.13341427e+06,   1.04718409e+03,   2.13081957e+03,\n",
       "             1.52790763e+02,   1.54854328e+02,   3.82229852e+00]),\n",
       "    'image_url': array('folder=0.000000,shot_typeN=1', \n",
       "          dtype='<U28'),\n",
       "    'isgood': array(True, dtype=bool),\n",
       "    'total': 1539678.6456910912,\n",
       "    'total_mean': 1539678.9745538367,\n",
       "    'total_std': 79550.315488811277}},\n",
       "  1.0: {1.0: {'center_pos': array([ 1059.25,  2118.5 ]),\n",
       "    'fit1D_x': array([  1.17138333e+06,   2.13698034e+03,   1.75772339e+02,\n",
       "             7.85083912e+02]),\n",
       "    'fit1D_x_mean': array([  1.17142987e+06,   2.13706173e+03,   1.75522388e+02,\n",
       "             7.84956132e+02]),\n",
       "    'fit1D_x_std': array([  1.85971708e+05,   3.57479515e+00,   2.35971547e+00,\n",
       "             7.72538056e+01]),\n",
       "    'fit1D_y': array([  1.14840881e+06,   1.02376158e+03,   2.01994043e+02,\n",
       "             1.05734590e+03]),\n",
       "    'fit1D_y_mean': array([  1.15762164e+06,   1.02206898e+03,   2.03720709e+02,\n",
       "             1.02579561e+03]),\n",
       "    'fit1D_y_std': array([  1.84700494e+05,   1.32610774e+01,   2.51774817e+01,\n",
       "             9.35763797e+01]),\n",
       "    'fit2D': array([  1.07579781e+06,   1.02399898e+03,   2.13147396e+03,\n",
       "             1.94109299e+02,   1.69394217e+02,   3.58794964e+00]),\n",
       "    'image_url': array('folder=1.000000,shot_typeN=1', \n",
       "          dtype='<U28'),\n",
       "    'isgood': array(True, dtype=bool),\n",
       "    'total': 1457153.6638994627,\n",
       "    'total_mean': 1457153.9927622082,\n",
       "    'total_std': 197609.59521305878}},\n",
       "  2.0: {1.0: {'center_pos': array([ 1048.1 ,  2129.65]),\n",
       "    'fit1D_x': array([  1.24981091e+06,   2.13631157e+03,   2.08156278e+02,\n",
       "             6.97115067e+02]),\n",
       "    'fit1D_x_mean': array([  1.24995412e+06,   2.13624646e+03,   2.07923182e+02,\n",
       "             6.96722334e+02]),\n",
       "    'fit1D_x_std': array([  7.07410945e+04,   3.32318152e+00,   4.62636458e+00,\n",
       "             8.93150510e+01]),\n",
       "    'fit1D_y': array([  1.19932954e+06,   1.02488235e+03,   2.52707997e+02,\n",
       "             1.04188798e+03]),\n",
       "    'fit1D_y_mean': array([  1.20393159e+06,   1.02424114e+03,   2.53533543e+02,\n",
       "             1.02612857e+03]),\n",
       "    'fit1D_y_std': array([  6.90336119e+04,   1.07837943e+01,   2.19142352e+01,\n",
       "             1.35356974e+02]),\n",
       "    'fit2D': array([  1.15429314e+06,   1.02986664e+03,   2.13106283e+03,\n",
       "             2.46225897e+02,   2.01820867e+02,   3.28605004e+00]),\n",
       "    'image_url': array('folder=2.000000,shot_typeN=1', \n",
       "          dtype='<U28'),\n",
       "    'isgood': array(True, dtype=bool),\n",
       "    'total': 1503560.6369390995,\n",
       "    'total_mean': 1503560.9658018451,\n",
       "    'total_std': 79786.757525877823}},\n",
       "  3.0: {1.0: {'center_pos': array([ 1070.4,  2096.2]),\n",
       "    'fit1D_x': array([  1.19126718e+06,   2.13455056e+03,   2.46551936e+02,\n",
       "             5.03326349e+02]),\n",
       "    'fit1D_x_mean': array([  1.19126217e+06,   2.13460223e+03,   2.46400801e+02,\n",
       "             5.03340853e+02]),\n",
       "    'fit1D_x_std': array([  1.08147528e+05,   4.54570596e+00,   2.68751974e+00,\n",
       "             1.27907635e+02]),\n",
       "    'fit1D_y': array([  1.12692134e+06,   1.04828267e+03,   3.06485377e+02,\n",
       "             8.47798978e+02]),\n",
       "    'fit1D_y_mean': array([  1.13322723e+06,   1.04755732e+03,   3.07531768e+02,\n",
       "             8.26226775e+02]),\n",
       "    'fit1D_y_std': array([  1.18000904e+05,   1.86194054e+01,   2.59693360e+01,\n",
       "             1.48352818e+02]),\n",
       "    'fit2D': array([  1.12196878e+06,   1.05170931e+03,   2.13010130e+03,\n",
       "             3.03493856e+02,   2.42829637e+02,   2.37571206e+00]),\n",
       "    'image_url': array('folder=3.000000,shot_typeN=1', \n",
       "          dtype='<U28'),\n",
       "    'isgood': array(True, dtype=bool),\n",
       "    'total': 1374478.0629703871,\n",
       "    'total_mean': 1374478.1451860734,\n",
       "    'total_std': 130800.60433610171}},\n",
       "  4.0: {1.0: {'center_pos': array([ 1025.8,  2140.8]),\n",
       "    'fit1D_x': array([  1.11567137e+06,   2.13940866e+03,   2.83630277e+02,\n",
       "             5.06396937e+02]),\n",
       "    'fit1D_x_mean': array([  1.11588815e+06,   2.13928684e+03,   2.83416747e+02,\n",
       "             5.05801624e+02]),\n",
       "    'fit1D_x_std': array([  1.36778324e+05,   6.41410637e+00,   4.45258520e+00,\n",
       "             9.46933232e+01]),\n",
       "    'fit1D_y': array([  1.08011971e+06,   1.06032960e+03,   3.93458640e+02,\n",
       "             7.53249595e+02]),\n",
       "    'fit1D_y_mean': array([  1.08727331e+06,   1.05835242e+03,   3.92253108e+02,\n",
       "             7.29286412e+02]),\n",
       "    'fit1D_y_std': array([  1.43469536e+05,   2.43001048e+01,   4.48365842e+01,\n",
       "             8.39204313e+01]),\n",
       "    'fit2D': array([  1.06271964e+06,   1.05656329e+03,   2.13796190e+03,\n",
       "             3.90049779e+02,   2.79826665e+02,   2.23301413e+00]),\n",
       "    'image_url': array('folder=4.000000,shot_typeN=1', \n",
       "          dtype='<U28'),\n",
       "    'isgood': array(True, dtype=bool),\n",
       "    'total': 1299999.7770517764,\n",
       "    'total_mean': 1299999.9414831491,\n",
       "    'total_std': 159682.53305189483}},\n",
       "  5.0: {1.0: {'center_pos': array([ 1014.65,  2196.55]),\n",
       "    'fit1D_x': array([  1.02215672e+06,   2.14074828e+03,   3.23697435e+02,\n",
       "             3.24630509e+02]),\n",
       "    'fit1D_x_mean': array([  1.02220461e+06,   2.14076316e+03,   3.23474389e+02,\n",
       "             3.24499666e+02]),\n",
       "    'fit1D_x_std': array([  8.62206401e+04,   6.86145008e+00,   2.56750669e+00,\n",
       "             1.06393197e+02]),\n",
       "    'fit1D_y': array([  1.00176441e+06,   1.07377237e+03,   5.08593514e+02,\n",
       "             4.79123241e+02]),\n",
       "    'fit1D_y_mean': array([  1.00860746e+06,   1.07154579e+03,   5.10464371e+02,\n",
       "             4.57856038e+02]),\n",
       "    'fit1D_y_std': array([  8.86268100e+04,   2.69723538e+01,   3.75661298e+01,\n",
       "             1.75281195e+02]),\n",
       "    'fit2D': array([  9.92702355e+05,   1.07230605e+03,   2.14049187e+03,\n",
       "             5.02052222e+02,   3.21950324e+02,   1.40004903e+00]),\n",
       "    'image_url': array('folder=5.000000,shot_typeN=1', \n",
       "          dtype='<U28'),\n",
       "    'isgood': array(True, dtype=bool),\n",
       "    'total': 1140322.2797106723,\n",
       "    'total_mean': 1140322.5263577315,\n",
       "    'total_std': 106809.40932508165}},\n",
       "  6.0: {1.0: {'center_pos': array([ 1126.15,  2096.2 ]),\n",
       "    'fit1D_x': array([  8.92311521e+05,   2.14370608e+03,   3.44629290e+02,\n",
       "             3.35434084e+02]),\n",
       "    'fit1D_x_mean': array([  8.92483096e+05,   2.14370915e+03,   3.44106003e+02,\n",
       "             3.34962963e+02]),\n",
       "    'fit1D_x_std': array([  1.02911536e+05,   8.19071935e+00,   6.61223821e+00,\n",
       "             1.06565107e+02]),\n",
       "    'fit1D_y': array([  8.65118531e+05,   1.17247360e+03,   4.68021039e+02,\n",
       "             5.11819998e+02]),\n",
       "    'fit1D_y_mean': array([  8.64931282e+05,   1.17321164e+03,   4.65552977e+02,\n",
       "             5.12612330e+02]),\n",
       "    'fit1D_y_std': array([  1.21892575e+05,   1.51723049e+01,   2.29754017e+01,\n",
       "             2.06463590e+02]),\n",
       "    'fit2D': array([  8.73851389e+05,   1.17244379e+03,   2.14381918e+03,\n",
       "             4.84907276e+02,   3.45771080e+02,   1.32485531e+00]),\n",
       "    'image_url': array('folder=6.000000,shot_typeN=1', \n",
       "          dtype='<U28'),\n",
       "    'isgood': array(True, dtype=bool),\n",
       "    'total': 1014409.5315303204,\n",
       "    'total_mean': 1014409.6137460067,\n",
       "    'total_std': 126820.56351239322}},\n",
       "  8.0: {1.0: {'center_pos': array([ 1282.25,  2151.95]),\n",
       "    'fit1D_x': array([  7.11591768e+05,   2.13736718e+03,   3.84729311e+02,\n",
       "             2.43572221e+02]),\n",
       "    'fit1D_x_mean': array([  7.11720045e+05,   2.13745733e+03,   3.84405970e+02,\n",
       "             2.43220341e+02]),\n",
       "    'fit1D_x_std': array([  4.64083438e+04,   1.01476620e+01,   5.33774402e+00,\n",
       "             6.19883986e+01]),\n",
       "    'fit1D_y': array([  7.17572423e+05,   1.23190590e+03,   6.51738927e+02,\n",
       "             2.92068330e+02]),\n",
       "    'fit1D_y_mean': array([ 498686.75683337,    1535.64330555,     666.06387092,\n",
       "               992.58558409]),\n",
       "    'fit1D_y_std': array([  4.81655812e+05,   6.18419759e+02,   5.59885679e+01,\n",
       "             1.51945966e+03]),\n",
       "    'fit2D': array([  7.09558997e+05,   1.22570966e+03,   2.13647391e+03,\n",
       "             6.51762466e+02,   3.85982082e+02,   8.78501200e-01]),\n",
       "    'image_url': array('folder=8.000000,shot_typeN=1', \n",
       "          dtype='<U28'),\n",
       "    'isgood': array(True, dtype=bool),\n",
       "    'total': 800252.05625692045,\n",
       "    'total_mean': 800252.22068829322,\n",
       "    'total_std': 39688.281456304532}},\n",
       "  10.0: {1.0: {'center_pos': array([ 1594.45,  2118.5 ]),\n",
       "    'fit1D_x': array([  5.55476020e+05,   2.13161778e+03,   4.14423687e+02,\n",
       "             2.71851593e+02]),\n",
       "    'fit1D_x_mean': array([  5.55704643e+05,   2.13158950e+03,   4.14639874e+02,\n",
       "             2.71223963e+02]),\n",
       "    'fit1D_x_std': array([  2.67783416e+04,   8.26010596e+00,   1.03487270e+01,\n",
       "             6.00505273e+01]),\n",
       "    'fit1D_y': array([  6.60264613e+05,   1.33180067e+03,   8.96376954e+02,\n",
       "             2.22234297e+01]),\n",
       "    'fit1D_y_mean': array([  6.82396161e+05,   1.33424360e+03,   9.15724712e+02,\n",
       "            -3.75255893e+01]),\n",
       "    'fit1D_y_std': array([  9.08268098e+04,   3.68191014e+01,   1.16697544e+02,\n",
       "             2.40185499e+02]),\n",
       "    'fit2D': array([  5.68996056e+05,   1.34145112e+03,   2.12975244e+03,\n",
       "             8.38970447e+02,   4.19011456e+02,   8.69270106e-01]),\n",
       "    'image_url': array('folder=10.000000,shot_typeN=1', \n",
       "          dtype='<U29'),\n",
       "    'isgood': array(True, dtype=bool),\n",
       "    'total': 654429.9163550731,\n",
       "    'total_mean': 654430.16300213232,\n",
       "    'total_std': 33866.321502793609}},\n",
       "  12.0: {1.0: {'center_pos': array([ 1482.95,  2129.65]),\n",
       "    'fit1D_x': array([  3.80065644e+05,   2.11428787e+03,   4.35127644e+02,\n",
       "             2.52178794e+02]),\n",
       "    'fit1D_x_mean': array([  3.80639813e+05,   2.11500947e+03,   4.36805146e+02,\n",
       "             2.50601965e+02]),\n",
       "    'fit1D_x_std': array([  6.21988399e+04,   8.00915885e+00,   1.73967475e+01,\n",
       "             1.18127368e+02]),\n",
       "    'fit1D_y': array([  4.20617736e+05,   1.44563163e+03,   1.00600330e+03,\n",
       "             2.13314020e+02]),\n",
       "    'fit1D_y_mean': array([ 277236.8740808 ,    1304.87081495,     629.36778208,\n",
       "               696.62723785]),\n",
       "    'fit1D_y_std': array([ 201355.08464892,     280.28497784,     469.18231385,\n",
       "               510.42273236]),\n",
       "    'fit2D': array([  3.93542132e+05,   1.44748774e+03,   2.11101637e+03,\n",
       "             9.98604005e+02,   4.40094492e+02,   8.29925773e-01]),\n",
       "    'image_url': array('folder=12.000000,shot_typeN=1', \n",
       "          dtype='<U29'),\n",
       "    'isgood': array(True, dtype=bool),\n",
       "    'total': 471858.76230827172,\n",
       "    'total_mean': 471858.92673964449,\n",
       "    'total_std': 77500.930212910651}}},\n",
       " 'description': {'fit-function': 'cloud_expansion0',\n",
       "  'fit1D_x': array([  13.55058041,  207.51126814]),\n",
       "  'fit1D_y': array([  70.56688545,  177.679473  ]),\n",
       "  'meas_type': 'T',\n",
       "  'x_label': 'time, ms',\n",
       "  'y_label': 'cloud size, $\\\\mu$ m'}}"
      ]
     },
     "execution_count": 11,
     "metadata": {},
     "output_type": "execute_result"
    }
   ],
   "source": [
    "data['01 t']"
   ]
  },
  {
   "cell_type": "code",
   "execution_count": 14,
   "metadata": {
    "collapsed": false
   },
   "outputs": [
    {
     "data": {
      "image/png": "[encoded data removed]",
      "text/plain": [
       "<matplotlib.figure.Figure at 0x106c54a58>"
      ]
     },
     "metadata": {},
     "output_type": "display_data"
    }
   ],
   "source": [
    "with open('all_data.txt', 'rb') as handle:\n",
    "    data = pickle.loads(handle.read())\n",
    "shot_typeN = 1\n",
    "ks = list(data.keys())\n",
    "ks.sort()\n",
    "ch_boxes = dict()\n",
    "ks_n = []\n",
    "for k in ks:\n",
    "    # optional - uncomment line below to sift only keys with specific marker, as 'CL'\n",
    "#    if 'CL' not in k.upper(): continue\n",
    "    ch_boxes[k]=old_ks.get(k,True)\n",
    "    ks_n.append(k)\n",
    "ks = ks_n\n",
    "fg = None   \n",
    "def plot_gr(l_pos,**ar):\n",
    "    fig,ax = subplots() \n",
    "    global fg, old_ks\n",
    "    old_ks = dict()\n",
    "    for k in ks:\n",
    "        old_ks[k]=ar[k]\n",
    "        if ar[k]:\n",
    "            d1 = impr.get_avr_data(data[k]['data'], shot_typeN, 'fit1D_x',2)\n",
    "            errorbar(**d1)\n",
    "#             d1['fmt']='ro'\n",
    "#             d1['label']='fit1D_x'\n",
    "#             val=datat[k]\n",
    "#             x,y=impr.data2_sort(val[0],val[1])\n",
    "#             # here it's time to modify data\n",
    "# #             x = mod_from_AOM_to_real_freq(x, k, 420)\n",
    "#             #x,y = x[1:],y[1:]\n",
    "#             ax.plot(x,y,'-*',label=k)\n",
    "    legend(bbox_to_anchor=(1.05, 1), loc=2, borderaxespad=0., fontsize=15)\n",
    "    #xscale('log')\n",
    "    #xlabel('Current, A')\n",
    "    #xlabel('AOM frequency, MHz')\n",
    "    xlabel('detuning, MHz') #in real frequencyes\n",
    "    ylabel('atoms number, a.u.')\n",
    "    ylim(bottom=0)\n",
    "    #start, end = ax.get_xlim()\n",
    "    #print(ax.get_xlim())\n",
    "    #ax.xaxis.set_ticks(arange(start, end, 0.1))\n",
    "    #axvline(x=l_pos)\n",
    "    fg = fig\n",
    "    \n",
    "ter = interactive(plot_gr,l_pos=(150,250,0.1),**ch_boxes)\n",
    "ter.box_style='info'\n",
    "display(ter)"
   ]
  },
  {
   "cell_type": "code",
   "execution_count": 29,
   "metadata": {
    "collapsed": false
   },
   "outputs": [
    {
     "name": "stdout",
     "output_type": "stream",
     "text": [
      "Help on function interactive in module matplotlib:\n",
      "\n",
      "interactive(b)\n",
      "    Set interactive mode to boolean b.\n",
      "    \n",
      "    If b is True, then draw after every plotting command, e.g., after xlabel\n",
      "\n"
     ]
    }
   ],
   "source": [
    "help(interactive)"
   ]
  },
  {
   "cell_type": "markdown",
   "metadata": {},
   "source": [
    "###For managing clock line shift and broadening"
   ]
  },
  {
   "cell_type": "raw",
   "metadata": {},
   "source": [
    "c_freq = 420 # MHz\n",
    "working_keys = [x for x in old_ks if old_ks[x]]\n",
    "print(working_keys)\n",
    "val1 = []\n",
    "val2 = []\n",
    "for key in working_keys:\n",
    "    # get fit data\n",
    "    popt = res_dict[key][2]\n",
    "    for s0 in key.rstrip(r'\\/ ').split():\n",
    "        if '=' in s0:\n",
    "            s1 = s0.split('=')\n",
    "            # here one can extract data from folder name of patten 'var=val'\n",
    "            if s1[0] == 'mod' or s1[0] == 'min':\n",
    "                val1.append((float(s1[1]), popt[1]))\n",
    "                val2.append((float(s1[1]), popt[2]))\n",
    "fig3, ax3 = subplots(1,2,figsize=(12,6))\n",
    "x, y = list(zip(*val1))\n",
    "y = mod_from_AOM_to_real_freq(array(y), 'CL', c_freq)\n",
    "ax3[0].plot(x,y,'*r',ms=10)\n",
    "ax3[0].set_title('shift (center frequency=' + str(c_freq) + 'MHz)')\n",
    "ax3[0].set_ylabel('shift, MHz')\n",
    "ax3[0].set_xlabel('power, W')\n",
    "x, y = list(zip(*val2))\n",
    "ax3[1].set_title('width')\n",
    "ax3[1].set_ylabel('width, MHz')\n",
    "ax3[1].set_xlabel('power, W')\n",
    "ax3[1].plot(x,y,'*r',ms=10)\n",
    "#x, y = list(zip(*val))\n",
    "#plot(x,y,'*')"
   ]
  },
  {
   "cell_type": "markdown",
   "metadata": {},
   "source": [
    "#### Построение списка сканирования"
   ]
  },
  {
   "cell_type": "code",
   "execution_count": null,
   "metadata": {
    "collapsed": false
   },
   "outputs": [],
   "source": [
    "res = array(range(-7,7, 1))/10 + 420.1\n",
    "rr = ''\n",
    "for x in res:\n",
    "    rr += str(x) + ' '\n",
    "print(rr)"
   ]
  },
  {
   "cell_type": "code",
   "execution_count": null,
   "metadata": {
    "collapsed": true
   },
   "outputs": [],
   "source": []
  }
 ],
 "metadata": {
  "hide_input": false,
  "kernelspec": {
   "display_name": "Python 3",
   "language": "python",
   "name": "python3"
  },
  "language_info": {
   "codemirror_mode": {
    "name": "ipython",
    "version": 3
   },
   "file_extension": ".py",
   "mimetype": "text/x-python",
   "name": "python",
   "nbconvert_exporter": "python",
   "pygments_lexer": "ipython3",
   "version": "3.5.0"
  }
 },
 "nbformat": 4,
 "nbformat_minor": 0
}
